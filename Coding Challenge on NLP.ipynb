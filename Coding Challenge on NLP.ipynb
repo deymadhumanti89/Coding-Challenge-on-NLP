{
 "cells": [
  {
   "cell_type": "code",
   "execution_count": 163,
   "id": "825f8feb",
   "metadata": {},
   "outputs": [],
   "source": [
    "import pandas as pd\n",
    "import re\n",
    "import nltk\n",
    "import string\n",
    "\n",
    "#nltk.download('punkt')\n",
    "#nltk.download('stopwords')"
   ]
  },
  {
   "cell_type": "code",
   "execution_count": 2,
   "id": "f6c78e83",
   "metadata": {},
   "outputs": [],
   "source": [
    "NLP_clin_note=pd.read_csv(\"ClinNotes.csv\")"
   ]
  },
  {
   "cell_type": "code",
   "execution_count": 3,
   "id": "bfab6491",
   "metadata": {},
   "outputs": [
    {
     "data": {
      "text/html": [
       "<div>\n",
       "<style scoped>\n",
       "    .dataframe tbody tr th:only-of-type {\n",
       "        vertical-align: middle;\n",
       "    }\n",
       "\n",
       "    .dataframe tbody tr th {\n",
       "        vertical-align: top;\n",
       "    }\n",
       "\n",
       "    .dataframe thead th {\n",
       "        text-align: right;\n",
       "    }\n",
       "</style>\n",
       "<table border=\"1\" class=\"dataframe\">\n",
       "  <thead>\n",
       "    <tr style=\"text-align: right;\">\n",
       "      <th></th>\n",
       "      <th>category</th>\n",
       "      <th>notes</th>\n",
       "    </tr>\n",
       "  </thead>\n",
       "  <tbody>\n",
       "    <tr>\n",
       "      <th>0</th>\n",
       "      <td>Cardiovascular / Pulmonary</td>\n",
       "      <td>2-D M-MODE: , ,1.  Left atrial enlargement wit...</td>\n",
       "    </tr>\n",
       "    <tr>\n",
       "      <th>1</th>\n",
       "      <td>Cardiovascular / Pulmonary</td>\n",
       "      <td>1.  The left ventricular cavity size and wall ...</td>\n",
       "    </tr>\n",
       "    <tr>\n",
       "      <th>2</th>\n",
       "      <td>Cardiovascular / Pulmonary</td>\n",
       "      <td>2-D ECHOCARDIOGRAM,Multiple views of the heart...</td>\n",
       "    </tr>\n",
       "    <tr>\n",
       "      <th>3</th>\n",
       "      <td>Cardiovascular / Pulmonary</td>\n",
       "      <td>DESCRIPTION:,1.  Normal cardiac chambers size....</td>\n",
       "    </tr>\n",
       "    <tr>\n",
       "      <th>4</th>\n",
       "      <td>Cardiovascular / Pulmonary</td>\n",
       "      <td>2-D STUDY,1. Mild aortic stenosis, widely calc...</td>\n",
       "    </tr>\n",
       "  </tbody>\n",
       "</table>\n",
       "</div>"
      ],
      "text/plain": [
       "                     category  \\\n",
       "0  Cardiovascular / Pulmonary   \n",
       "1  Cardiovascular / Pulmonary   \n",
       "2  Cardiovascular / Pulmonary   \n",
       "3  Cardiovascular / Pulmonary   \n",
       "4  Cardiovascular / Pulmonary   \n",
       "\n",
       "                                               notes  \n",
       "0  2-D M-MODE: , ,1.  Left atrial enlargement wit...  \n",
       "1  1.  The left ventricular cavity size and wall ...  \n",
       "2  2-D ECHOCARDIOGRAM,Multiple views of the heart...  \n",
       "3  DESCRIPTION:,1.  Normal cardiac chambers size....  \n",
       "4  2-D STUDY,1. Mild aortic stenosis, widely calc...  "
      ]
     },
     "execution_count": 3,
     "metadata": {},
     "output_type": "execute_result"
    }
   ],
   "source": [
    "NLP_clin_note.head()"
   ]
  },
  {
   "cell_type": "code",
   "execution_count": 4,
   "id": "1e4369b8",
   "metadata": {},
   "outputs": [
    {
     "data": {
      "text/html": [
       "<div>\n",
       "<style scoped>\n",
       "    .dataframe tbody tr th:only-of-type {\n",
       "        vertical-align: middle;\n",
       "    }\n",
       "\n",
       "    .dataframe tbody tr th {\n",
       "        vertical-align: top;\n",
       "    }\n",
       "\n",
       "    .dataframe thead th {\n",
       "        text-align: right;\n",
       "    }\n",
       "</style>\n",
       "<table border=\"1\" class=\"dataframe\">\n",
       "  <thead>\n",
       "    <tr style=\"text-align: right;\">\n",
       "      <th></th>\n",
       "      <th>category</th>\n",
       "      <th>notes</th>\n",
       "    </tr>\n",
       "  </thead>\n",
       "  <tbody>\n",
       "    <tr>\n",
       "      <th>count</th>\n",
       "      <td>818</td>\n",
       "      <td>818</td>\n",
       "    </tr>\n",
       "    <tr>\n",
       "      <th>unique</th>\n",
       "      <td>3</td>\n",
       "      <td>812</td>\n",
       "    </tr>\n",
       "    <tr>\n",
       "      <th>top</th>\n",
       "      <td>Cardiovascular / Pulmonary</td>\n",
       "      <td>PREOPERATIVE DIAGNOSES:,1.  Carotid artery occ...</td>\n",
       "    </tr>\n",
       "    <tr>\n",
       "      <th>freq</th>\n",
       "      <td>371</td>\n",
       "      <td>2</td>\n",
       "    </tr>\n",
       "  </tbody>\n",
       "</table>\n",
       "</div>"
      ],
      "text/plain": [
       "                          category  \\\n",
       "count                          818   \n",
       "unique                           3   \n",
       "top     Cardiovascular / Pulmonary   \n",
       "freq                           371   \n",
       "\n",
       "                                                    notes  \n",
       "count                                                 818  \n",
       "unique                                                812  \n",
       "top     PREOPERATIVE DIAGNOSES:,1.  Carotid artery occ...  \n",
       "freq                                                    2  "
      ]
     },
     "execution_count": 4,
     "metadata": {},
     "output_type": "execute_result"
    }
   ],
   "source": [
    "NLP_clin_note.describe()"
   ]
  },
  {
   "cell_type": "code",
   "execution_count": 7,
   "id": "25659c2a",
   "metadata": {},
   "outputs": [
    {
     "data": {
      "text/plain": [
       "count                                                  1636\n",
       "unique                                                  815\n",
       "top       Cardiovascular / PulmonaryPREOPERATIVE DIAGNOS...\n",
       "freq                                                    373\n",
       "dtype: object"
      ]
     },
     "execution_count": 7,
     "metadata": {},
     "output_type": "execute_result"
    }
   ],
   "source": [
    "NLP_clin_note.describe().sum(axis=1)"
   ]
  },
  {
   "cell_type": "code",
   "execution_count": 8,
   "id": "6af69d1c",
   "metadata": {},
   "outputs": [],
   "source": [
    "data_notes=NLP_clin_note.notes.values"
   ]
  },
  {
   "cell_type": "code",
   "execution_count": 9,
   "id": "4202eaf7",
   "metadata": {},
   "outputs": [
    {
     "data": {
      "text/plain": [
       "818"
      ]
     },
     "execution_count": 9,
     "metadata": {},
     "output_type": "execute_result"
    }
   ],
   "source": [
    "len(data_notes)"
   ]
  },
  {
   "cell_type": "code",
   "execution_count": 10,
   "id": "d09e0519",
   "metadata": {},
   "outputs": [],
   "source": [
    "#Clean up"
   ]
  },
  {
   "cell_type": "code",
   "execution_count": 18,
   "id": "f6b95e03",
   "metadata": {},
   "outputs": [],
   "source": [
    "#Using regular expression deleting the ip address"
   ]
  },
  {
   "cell_type": "code",
   "execution_count": 19,
   "id": "e098d4ec",
   "metadata": {},
   "outputs": [],
   "source": [
    "data_notes_noip = [re.sub('[\\d+\\.{3}]\\d+',\"\",txt) for txt in data_notes]"
   ]
  },
  {
   "cell_type": "code",
   "execution_count": 20,
   "id": "a368772d",
   "metadata": {},
   "outputs": [],
   "source": [
    "#normalizing case"
   ]
  },
  {
   "cell_type": "code",
   "execution_count": 21,
   "id": "8886c4e5",
   "metadata": {},
   "outputs": [],
   "source": [
    "data_notes_lower = [txt.lower() for txt in data_notes_noip]"
   ]
  },
  {
   "cell_type": "code",
   "execution_count": 22,
   "id": "4d857266",
   "metadata": {},
   "outputs": [],
   "source": [
    "#Using regular expression removing URLs"
   ]
  },
  {
   "cell_type": "code",
   "execution_count": 23,
   "id": "7aad4ff7",
   "metadata": {},
   "outputs": [],
   "source": [
    "data_notes_nourl = [re.sub(\"\\w+://\\S+\",\"\", txt) for txt in data_notes_lower]"
   ]
  },
  {
   "cell_type": "code",
   "execution_count": 24,
   "id": "349ab506",
   "metadata": {},
   "outputs": [],
   "source": [
    "#removing extra line break"
   ]
  },
  {
   "cell_type": "code",
   "execution_count": 25,
   "id": "a6727fb5",
   "metadata": {},
   "outputs": [],
   "source": [
    "data_notes_nourl = [txt.replace(\"\\'\",\"\") for txt in data_notes_nourl]"
   ]
  },
  {
   "cell_type": "code",
   "execution_count": 26,
   "id": "759b88b0",
   "metadata": {},
   "outputs": [],
   "source": [
    "#Tokenization"
   ]
  },
  {
   "cell_type": "code",
   "execution_count": 27,
   "id": "27b10293",
   "metadata": {},
   "outputs": [],
   "source": [
    "from nltk.tokenize import word_tokenize"
   ]
  },
  {
   "cell_type": "code",
   "execution_count": 28,
   "id": "7d947b08",
   "metadata": {},
   "outputs": [
    {
     "name": "stdout",
     "output_type": "stream",
     "text": [
      "['2-d', 'm-mode', ':', ',', ',1.', 'left', 'atrial', 'enlargement', 'with', 'left', 'atrial', 'diameter', 'of', '4', 'cm.,2', '.', 'normal', 'size', 'right', 'and', 'left', 'ventricle.,3', '.', 'normal', 'lv', 'systolic', 'function', 'with', 'left', 'ventricular', 'ejection', 'fraction', 'of', '%', '.,4', '.', 'normal', 'lv', 'diastolic', 'function.,5', '.', 'no', 'pericardial', 'effusion.,6', '.', 'normal', 'morphology', 'of', 'aortic', 'valve', ',', 'mitral', 'valve', ',', 'tricuspid', 'valve', ',', 'and', 'pulmonary', 'valve.,7', '.', 'pa', 'systolic', 'pressure', 'is', 'mmhg.', ',', 'doppler', ':', ',', ',1.', 'mild', 'mitral', 'and', 'tricuspid', 'regurgitation.,2', '.', 'trace', 'aortic', 'and', 'pulmonary', 'regurgitation', '.']\n"
     ]
    }
   ],
   "source": [
    "data_notes_tokens = [word_tokenize(sent) for sent in data_notes_nourl ]\n",
    "\n",
    "print(data_notes_tokens[0])"
   ]
  },
  {
   "cell_type": "code",
   "execution_count": 29,
   "id": "6bf808d0",
   "metadata": {},
   "outputs": [],
   "source": [
    "#Deleting stopwords and punctuations"
   ]
  },
  {
   "cell_type": "code",
   "execution_count": 30,
   "id": "be9744ee",
   "metadata": {},
   "outputs": [],
   "source": [
    "from nltk.corpus import stopwords\n",
    "from string import punctuation"
   ]
  },
  {
   "cell_type": "code",
   "execution_count": 31,
   "id": "f6514bda",
   "metadata": {},
   "outputs": [],
   "source": [
    "stop_nltk = stopwords.words(\"english\")\n",
    "stop_punct = list(punctuation)"
   ]
  },
  {
   "cell_type": "code",
   "execution_count": 47,
   "id": "96ce8aec",
   "metadata": {},
   "outputs": [],
   "source": [
    "stop_final = stop_nltk + stop_punct + [\"...\", \"``\",\"''\", \"====\", \"must\"]"
   ]
  },
  {
   "cell_type": "code",
   "execution_count": 48,
   "id": "fcf2d8ec",
   "metadata": {},
   "outputs": [],
   "source": [
    "def clean (sent):\n",
    "    return [word for word in sent if word not in stop_final]"
   ]
  },
  {
   "cell_type": "code",
   "execution_count": 49,
   "id": "faffe179",
   "metadata": {},
   "outputs": [
    {
     "data": {
      "text/plain": [
       "['2-d',\n",
       " 'm-mode',\n",
       " ',1.',\n",
       " 'left',\n",
       " 'atrial',\n",
       " 'enlargement',\n",
       " 'left',\n",
       " 'atrial',\n",
       " 'diameter',\n",
       " '4',\n",
       " 'cm.,2',\n",
       " 'normal',\n",
       " 'size',\n",
       " 'right',\n",
       " 'left',\n",
       " 'ventricle.,3',\n",
       " 'normal',\n",
       " 'lv',\n",
       " 'systolic',\n",
       " 'function',\n",
       " 'left',\n",
       " 'ventricular',\n",
       " 'ejection',\n",
       " 'fraction',\n",
       " '.,4',\n",
       " 'normal',\n",
       " 'lv',\n",
       " 'diastolic',\n",
       " 'function.,5',\n",
       " 'pericardial',\n",
       " 'effusion.,6',\n",
       " 'normal',\n",
       " 'morphology',\n",
       " 'aortic',\n",
       " 'valve',\n",
       " 'mitral',\n",
       " 'valve',\n",
       " 'tricuspid',\n",
       " 'valve',\n",
       " 'pulmonary',\n",
       " 'valve.,7',\n",
       " 'pa',\n",
       " 'systolic',\n",
       " 'pressure',\n",
       " 'mmhg.',\n",
       " 'doppler',\n",
       " ',1.',\n",
       " 'mild',\n",
       " 'mitral',\n",
       " 'tricuspid',\n",
       " 'regurgitation.,2',\n",
       " 'trace',\n",
       " 'aortic',\n",
       " 'pulmonary',\n",
       " 'regurgitation']"
      ]
     },
     "execution_count": 49,
     "metadata": {},
     "output_type": "execute_result"
    }
   ],
   "source": [
    "\n",
    "clean(data_notes_tokens[0])\n"
   ]
  },
  {
   "cell_type": "code",
   "execution_count": 50,
   "id": "eab07daf",
   "metadata": {},
   "outputs": [],
   "source": [
    "data_notes_clean = [clean(sent) for sent in data_notes_tokens]"
   ]
  },
  {
   "cell_type": "code",
   "execution_count": 51,
   "id": "8c5df18b",
   "metadata": {},
   "outputs": [],
   "source": [
    "#Checking out the top terms in the data"
   ]
  },
  {
   "cell_type": "code",
   "execution_count": 52,
   "id": "e023dd0f",
   "metadata": {},
   "outputs": [],
   "source": [
    "from collections import Counter"
   ]
  },
  {
   "cell_type": "code",
   "execution_count": 53,
   "id": "079e2b2f",
   "metadata": {},
   "outputs": [],
   "source": [
    "word_list = []\n",
    "for sent in data_notes_clean:\n",
    "    word_list.extend(sent)"
   ]
  },
  {
   "cell_type": "code",
   "execution_count": 54,
   "id": "8163e1b0",
   "metadata": {},
   "outputs": [
    {
     "data": {
      "text/plain": [
       "[('patient', 3041),\n",
       " ('left', 2301),\n",
       " ('right', 2105),\n",
       " ('history', 1403),\n",
       " ('normal', 1342),\n",
       " ('procedure', 1180),\n",
       " ('artery', 1176),\n",
       " ('mg', 834),\n",
       " ('placed', 828),\n",
       " ('well', 752),\n",
       " ('coronary', 698),\n",
       " ('also', 647),\n",
       " ('chest', 632),\n",
       " ('performed', 622),\n",
       " ('pain', 616),\n",
       " ('without', 585),\n",
       " (',1.', 568),\n",
       " ('time', 568),\n",
       " ('blood', 555),\n",
       " ('1', 532)]"
      ]
     },
     "execution_count": 54,
     "metadata": {},
     "output_type": "execute_result"
    }
   ],
   "source": [
    "res = Counter(word_list)\n",
    "res.most_common(20)"
   ]
  },
  {
   "cell_type": "code",
   "execution_count": 60,
   "id": "59d25943",
   "metadata": {},
   "outputs": [],
   "source": [
    "#Contextual stop words - \"patient\", \"left\", \"right\", \"history\", \"normal\", \"procedure\", \"artery\""
   ]
  },
  {
   "cell_type": "code",
   "execution_count": 61,
   "id": "fec68411",
   "metadata": {},
   "outputs": [],
   "source": [
    "Highly_Repeated = [\"patient\", \"left\", \"right\", \"history\", \"normal\", \"procedure\", \"artery\"]"
   ]
  },
  {
   "cell_type": "code",
   "execution_count": 57,
   "id": "c4c8ddb1",
   "metadata": {},
   "outputs": [],
   "source": [
    "Highly_Repeated = stop_final + Highly_Repeated "
   ]
  },
  {
   "cell_type": "code",
   "execution_count": 58,
   "id": "885496d9",
   "metadata": {},
   "outputs": [],
   "source": [
    "word_list = [clean(sent) for sent in data_notes_tokens]"
   ]
  },
  {
   "cell_type": "code",
   "execution_count": 59,
   "id": "03035b6f",
   "metadata": {},
   "outputs": [
    {
     "data": {
      "text/plain": [
       "['2-d m-mode ,1. left atrial enlargement left atrial diameter 4 cm.,2 normal size right left ventricle.,3 normal lv systolic function left ventricular ejection fraction .,4 normal lv diastolic function.,5 pericardial effusion.,6 normal morphology aortic valve mitral valve tricuspid valve pulmonary valve.,7 pa systolic pressure mmhg. doppler ,1. mild mitral tricuspid regurgitation.,2 trace aortic pulmonary regurgitation',\n",
       " '1. left ventricular cavity size wall thickness appear normal wall motion left ventricular systolic function appears hyperdynamic estimated ejection fraction near-cavity obliteration seen also appears increased left ventricular outflow tract gradient mid cavity level consistent hyperdynamic left ventricular systolic function abnormal left ventricular relaxation pattern seen well elevated left atrial pressures seen doppler examination.,2 left atrium appears mildly dilated.,3 right atrium right ventricle appear normal.,4 aortic root appears normal.,5 aortic valve appears calcified mild aortic valve stenosis calculated aortic valve area 1 cm square maximum instantaneous gradient mean gradient mm.,6 mitral annular calcification extending leaflets supportive structures thickening mitral valve leaflets mild mitral regurgitation.,7 tricuspid valve appears normal trace tricuspid regurgitation moderate pulmonary artery hypertension estimated pulmonary artery systolic pressure mmhg estimated right atrial pressure mmhg.,8 pulmonary valve appears normal trace pulmonary insufficiency.,9 pericardial effusion intracardiac mass seen. color doppler suggestive patent foramen ovale lipomatous hypertrophy interatrial septum. study somewhat technically limited hence subtle abnormalities could missed study.']"
      ]
     },
     "execution_count": 59,
     "metadata": {},
     "output_type": "execute_result"
    }
   ],
   "source": [
    "word_list = [\" \".join(sent) for sent in data_notes_clean]\n",
    "word_list[:2]"
   ]
  },
  {
   "cell_type": "code",
   "execution_count": 71,
   "id": "fd6d6499",
   "metadata": {},
   "outputs": [],
   "source": [
    "# This function will be applied later on the test set"
   ]
  },
  {
   "cell_type": "code",
   "execution_count": 72,
   "id": "1be728ee",
   "metadata": {},
   "outputs": [],
   "source": [
    "#Applying Word2Vec library to find out clinical terms"
   ]
  },
  {
   "cell_type": "code",
   "execution_count": 64,
   "id": "b73b3426",
   "metadata": {},
   "outputs": [],
   "source": [
    "from gensim.models import Word2Vec"
   ]
  },
  {
   "cell_type": "code",
   "execution_count": 65,
   "id": "ba0d0e0b",
   "metadata": {},
   "outputs": [],
   "source": [
    "import warnings\n",
    "warnings.filterwarnings('ignore')"
   ]
  },
  {
   "cell_type": "code",
   "execution_count": 66,
   "id": "cd4d30f3",
   "metadata": {},
   "outputs": [],
   "source": [
    "mymodel = Word2Vec(data_notes_clean, min_count=1)"
   ]
  },
  {
   "cell_type": "code",
   "execution_count": 67,
   "id": "dd61b018",
   "metadata": {},
   "outputs": [
    {
     "name": "stdout",
     "output_type": "stream",
     "text": [
      "Word2Vec(vocab=17478, size=100, alpha=0.025)\n"
     ]
    }
   ],
   "source": [
    "#Summerizing the loaded model\n",
    "print(mymodel)"
   ]
  },
  {
   "cell_type": "code",
   "execution_count": 70,
   "id": "2fedb4a2",
   "metadata": {},
   "outputs": [],
   "source": [
    "#Here the number of unique vocabulary is 17478 and with 100 value size.\n",
    "#Hence, all the 17478 vocabs will be rated in 100 features."
   ]
  },
  {
   "cell_type": "code",
   "execution_count": 73,
   "id": "60feb80b",
   "metadata": {},
   "outputs": [],
   "source": [
    "#Summerizing the vocabulary\n",
    "words = list(mymodel.wv.vocab)"
   ]
  },
  {
   "cell_type": "code",
   "execution_count": 74,
   "id": "35167230",
   "metadata": {},
   "outputs": [
    {
     "name": "stdout",
     "output_type": "stream",
     "text": [
      "['2-d', 'm-mode', ',1.', 'left', 'atrial', 'enlargement', 'diameter', '4', 'cm.,2', 'normal', 'size', 'right', 'ventricle.,3', 'lv', 'systolic', 'function', 'ventricular', 'ejection', 'fraction', '.,4', 'diastolic', 'function.,5', 'pericardial', 'effusion.,6', 'morphology', 'aortic', 'valve', 'mitral', 'tricuspid', 'pulmonary', 'valve.,7', 'pa', 'pressure', 'mmhg.', 'doppler', 'mild', 'regurgitation.,2', 'trace', 'regurgitation', '1.', 'cavity', 'wall', 'thickness', 'appear', 'motion', 'appears', 'hyperdynamic', 'estimated', 'near-cavity', 'obliteration', 'seen', 'also', 'increased', 'outflow', 'tract', 'gradient', 'mid', 'level', 'consistent', 'abnormal', 'relaxation', 'pattern', 'well', 'elevated', 'pressures', 'examination.,2', 'atrium', 'mildly', 'dilated.,3', 'ventricle', 'normal.,4', 'root', 'normal.,5', 'calcified', 'stenosis', 'calculated', 'area', '1', 'cm', 'square', 'maximum', 'instantaneous', 'mean', 'mm.,6', 'annular', 'calcification', 'extending', 'leaflets', 'supportive', 'structures', 'thickening', 'regurgitation.,7', 'moderate', 'artery', 'hypertension', 'mmhg', 'mmhg.,8', 'insufficiency.,9', 'effusion', 'intracardiac', 'mass', 'seen.', 'color', 'suggestive', 'patent', 'foramen', 'ovale', 'lipomatous', 'hypertrophy', 'interatrial', 'septum.', 'study', 'somewhat', 'technically', 'limited', 'hence', 'subtle', 'abnormalities', 'could', 'missed', 'study.', 'echocardiogram', 'multiple', 'views', 'heart', 'great', 'vessels', 'reveal', 'vessel', 'relationships', 'cardiac', 'significant', 'chamber', 'vegetations', 'interrogation', 'including', 'flow', 'imaging', 'reveals', 'systemic', 'venous', 'return', 'inflow', 'septum', 'intact', 'ascending', 'aorta', 'trileaflet', 'coronary', 'arteries', 'origins', 'arch', 'left-sided', 'descending', 'pulsatility', 'description', 'chambers', 'size.,2', 'size.,3', 'around', 'good', 'motion.,5', 'motion.,6', 'motion.,7', 'masses.', 'regurgitation.', 'impression', 'function.,2', 'study,1', 'widely', 'minimally', 'restricted.,2', 'function.,3', 'biatrial', 'enlargement.,4', 'ventricle.,5', 'appearance', 'valves.,6', 'function.', 'doppler,1', '2+', 'easily', 'stenosis.,2', 'increase', 'maximum.', 'summary,1', 'ventricle.,2', 'enlargement.,3', 'cc', 'confusion', 'slurred', 'speech.', 'hx', 'primarily', 'obtained', 'boyfriend', 'y/o', 'rhf', 'experienced', 'flu-like', 'illness', '6-8', 'weeks', 'prior', 'presentation', '3-4', 'found', 'passed', 'bed', 'awoken', 'appeared', 'confused', 'lethargic', 'apparently', 'recovered', 'within', 'hours', 'two', 'demonstrated', 'emotional', 'lability', 'uncharacteristic', 'outbursts', 'anger', 'inappropriate', 'laughter', 'stove', 'on.', 'began', 'slurring', 'speech', '2', 'days', 'admission', 'day', 'developed', 'facial', 'weakness', 'stumbling', 'denied', 'associated', 'headache', 'nausea', 'vomiting', 'fever', 'chills', 'neck', 'stiffness', 'visual', 'change', 'history', 'illicit', 'drug/etoh', 'use', 'head', 'trauma.', 'pmh', 'migraine', 'headache.', 'fhx', 'unremarkable.', 'shx', 'divorced', 'lives', '3', 'children', 'alive', 'tobacco/illicit', 'drug', 'rarely', 'consumes', 'etoh.', 'ros', 'irregular', 'menses.', 'exam', 'bp/', 'hr', 'rr', 'tc.', 'ms', 'alert', 'oriented', 'name', 'perseverative', 'thought', 'processes', 'utilized', 'one', 'word', 'answers/phrases', 'non-fluent', 'followed', 'commands', 'impaired', 'writing', 'name.', 'cn', 'flattened', 'nasolabial', 'fold', 'only.', 'motor', 'rue', 'manifested', 'pronator', 'drift', 'extremities', 'full', 'strength.', 'sensory', 'withdrew', 'noxious', 'stimulation', 'extremities.', 'coordination', 'difficult', 'assess.', 'station', 'drift.', 'gait', 'reflexes', '2/2bue', '3/3ble', 'plantars', 'flexor', 'bilaterally.', 'general', 'initial', 'studies', 'cbc', 'gs', 'ua', 'pt', 'ptt', 'esr', 'crp', 'ekg', 'unremarkable', 'outside', 'hct', 'showed', 'hypodensities', 'putamen', 'caudate', 'several', 'subcortical', 'locations', 'specified', 'course', 'mri', 'brian', 'scan', '2//', 'revealed', 'old', 'lacunar', 'infarct', 'basal', 'ganglia', 'edema', 'nucleus', 'suggesting', 'acute', 'ischemic', 'event', 'arterial', 'enhancement', 'mca', 'distribution', 'slow', 'latter', 'suggested', 'vasculopathy', 'moya', 'fibromuscular', 'dysplasia', 'hiv', 'ana', 'anti-cardiolipin', 'antibody', 'titer', 'enzymes', 'tfts', 'b', 'cholesterol', 'underwent', 'cerebral', 'angiogram', 'occlusion', 'distal', 'origin', 'filled', 'later', 'films', 'collaterals', 'aca', 'temporal', 'branch', 'branches', 'vascular', 'noted', 'findings', 'felt', 'atypical', 'nevertheless', 'suspicious', 'large', 'caliber', 'vasculitis', 'disease', 'subsequently', 'given', 'diagnosis', 'neuropsychologic', 'testing', 'widespread', 'cognitive', 'dysfunction', 'particular', 'impairment', 'language', 'long', 'latencies', 'responding', 'understood', 'simple', 'questions', 'affect', 'blunted', 'distinct', 'lack', 'concern', 'regarding', 'condition', 'discharged', 'home', 'medications.', '9/', 'admitted', 'sudden', 'onset', 'hemiparesis', 'mental', 'status', 'addition', 'lymphadenopathy', 'ob/gyn', 'cervical', 'biopsy', 'abdominal/pelvic', 'ct', 'scanning', 'stage', 'iv', 'squamous', 'cell', 'cancer', 'cervix', 'died', '9//', 'preoperative', 'diagnoses', 'airway', 'obstruction', 'secondary', 'severe', 'subglottic', 'tracheal', 'foreign', 'body', 'trachea.', 'postoperative', 'operation', 'performed', 'exploration', 'tracheostomy', 'urgent', 'flexible', 'bronchoscopy', 'via', 'site', 'removal', 'metallic', 'stent', 'material', 'dilation', 'trachea', 'placement', '8', 'shiley', 'single', 'cannula', 'tube.', 'indications', 'surgery', 'patient', '-year-old', 'white', 'male', 'progressive', 'tracheomalacia', 'treated', 'national', 'tennessee', 'years', 'ago', 'placed', 'temporary', 'improvement', 'however', 'problems', 'additional', 'stents', 'came', 'abc', 'hospital', 'critical', 'service', 'evaluation', 'month', 'dd', 'yyyy', 'dr.', 'w', 'extensive', 'upper', 'granulation', 'inflammatory', 'tissue', 'changes', 'debridement', 'hospitalized', 'laryngology', 'thoracic', 'services', 'consulted', 'management', 'constricting', 'stabilization', 'offered', 'nature', 'proposed', 'procedure', 'risks', 'complications', 'bleeding', 'infection', 'alteration', 'voice', 'swallowing', 'permanently', 'possibility', 'tracheotomy', 'temporarily', 'maintain', 'loss', 'risk', 'factors', 'anesthetic', 'recurrence', 'upon', 'surgical', 'intervention', 'discussed', 'length', 'stated', 'wished', 'proceed.', 'taken', 'operating', 'room', 'supine', 'position', 'following', 'adequate', 'monitoring', 'anesthesia', 'sedation', 'patients', 'prepped', 'draped', 'sterile', 'fashion', 'infiltrated', 'xylocaine', 'epinephrine', 'collar', 'incision', 'approximately', 'fingerbreadth', 'clavicle', 'outline', 'carried', 'skin', 'subcutaneous', 'platysma', 'subplatysmal', 'flaps', 'superiorly', 'inferiorly', 'strap', 'muscles', 'separated', 'midline', 'dissection', 'visceral', 'fascia', 'beneath', 'dense', 'inflammation', 'scarring', 'obscuring', 'palpable', 'landmarks', 'fusion', 'soft', 'perichondrium', 'cartilage', 'cricoid', 'making', 'definable', 'markedly', 'enlarged', 'thyroid', 'isthmus', 'divided', 'attachment', 'gland', 'capsule', 'pretracheal', 'requiring', 'blunt', 'sharp', 'exposed', 'fourth', 'ring', 'entered', 'chest', 'incised', 'second', 'third', 'inferior', 'limb', 'excision', 'small', 'ridge', 'side', 'sent', 'pathologic', 'externally', 'marked', 'mucosa', 'measured', 'mm', 'visualized', 'submucosa', 'able', 'ventilate', 'point', '6', 'endo', 'tube', 'inserted', 'administered', 'secured', 'proceeded', 'working', 'intake', 'explore', 'ridged', 'fiberoptic', 'scopes', 'trach', 'examination', 'extrusion', 'fragments', 'removed', 'careful', 'inflamed', 'thickened', 'subglottis', 'narrowing', 'embedded', 'encroaching', 'lumen', 'without', 'distally', 'disturbed', 'time', 'visible', 'attempt', 'place', 'montgomery', 'short', 'junction', 'anterior', 'thirds', 'endotracheal', 'ventilation', 'confirmed', 'mainstem', 'bronchi', 'manipulation', 'needed', 'wound', 'thoroughly', 'irrigated', 'closed', 'interrupted', '3-0', 'vicryl', 'laterally', 'running', '2-0', 'prolene', 'silk', 'sutures', 'back', 'intensive', 'care', 'unit', 'satisfactory', 'tolerated', 'complication', 'eeg', 'wakefulness', 'demonstrates', 'background', 'activity', 'consisting', 'moderate-amplitude', 'beta', 'bilaterally', 'symmetric', 'independent', 'positive', 'wave', 'frontotemporal', 'regions', 'sharp-slow', 'discharges', 'predominantly', 'region', 'clinical', 'signs', 'involuntary', 'movements', 'synchronous', 'video', 'recording', 'minutes', 'seconds', 'attenuation', 'faster', 'drowsiness', 'light', 'sleep', 'recorded', 'sustained', 'epileptogenic', 'evident', 'bilateral', 'intermittently', 'photic', 'induced', 'driving', 'response.', 'predominant', 'potentially', 'process', 'correlation', 'warranted', 'doctors', 'address', 'dear', 'doctor', ',this', 'letter', 'introduction', 'seeing', 'near', 'future', 'pleasant', 'gentleman', 'wilsons', 'penicillamine', 'diagnosed', 'age', 'way', 'south', 'carolina', 'trip', 'shortness', 'breath', 'palpitations', 'discomfort', 'went', 'closest', 'randolph', 'north', 'fibrillation', 'rapid', 'rate', 'observed', 'converted', 'sinus', 'rhythm', 'spontaneously', 'required', 'interventions', 'started', 'lopressor', 'mild-to-moderate', 'valvular', 'abnormality', 'reported', 'physicians', 'cirrhosis', 'related', 'therefore', 'hepatologist', 'recommendation', 'avoid', 'coumadin', 'questionable', 'liver', 'aspirin', 'mg', 'day.', 'discussion', 'mr.', 'review', 'chart', 'available', 'unclear', 'never', 'concerned', 'doubt', 'lfts', 'remained', 'copper', 'undetectable', 'current', 'dose', 'penicillamine.', 'would', 'appreciate', 'input', 'term', 'anticoagulation', 'recommendations', 'control', '//', 'tolerating', 'metoprolol', 'difficulty', 'guess', 'big', 'question', 'remains', 'entailed', 'placing', 'therapy', 'due', 'paroxysmal', 'evidence', 'recurrent', 'episodes.', 'friendly', 'medicines', 'include', 'p.o', 'four', 'times', 'twice', 'please', 'feel', 'free', 'call', 'discuss', 'case', 'otherwise', 'look', 'forward', 'hearing', 'thank', 'always', 'hours.', 'total', 'minutes.', 'female', 'events', 'concerning', 'seizures', 'capture', 'and/or', 'identify', 'etiology.', 'diagnoses,1', 'awake', 'normal.,2', 'activation.,3', 'none.', 'continuous', '-channel', 'digital', 'waking', 'unchanged', 'previously', 'hyperventilation', 'produced', 'resting', 'record', 'failed', 'elicit', 'well-developed', 'five-and-half', 'spontaneous', 'intermittent', 'spindles', 'present', 'symmetric.', 'recording.', 'interpretation', 'interictal', 'epileptiform', 'identified', 'date', 'start', 'end', 'epilepsy', 'non-epileptic', 'past', 'assess', 'whether', 'epileptic', 'events.', 'activation', 'spike', 'maximally', 't3.,3', 'state', '9-hz', 'dominant', 'posterior', 'consists', 'alpha', 'frequency', 'portion', 'excessive', 'procedures', 'performed.', 't3', 'vertex', 'waves', 'presence', 'period', 'focal', 'chronic', 'painful', 'varicosities', 'lower', 'procedures,1', 'greater', 'saphenous', 'vein', 'stripping', 'stab', 'phlebectomies', 'incisions', 'leg.,2', 'leg.', 'detail', 'obtaining', 'informed', 'consent', 'time-out', 'antibiotics', 'given.', 'legs', 'usual', 'made', 'groin', 'femoral', 'dissected', 'ligated', 'knee', 'connection', 'varices', 'calf', 'thigh', 'communication', 'stripper', 'stripped', 'difficultly', 'compression', 'used', 'hemostasis', 'many', 'stabs', 'much', 'allow', 'us', 'do.', 'isolated', 'local', 'number', 'perform', 'phlebectomy', 'excise', 'extent', 'layers', 'staples.', 'prone', 'using', 'leg', 'hook', 'achieved', 'staples', 'applied', 'skin.', 'rolled', 'onto', 'stretcher', 'wrapped', 'kerlix', 'fluffs', 'ace', 'bandages.', 'blood', 'probably', 'ml', 'recovery', 'decision', 'needs', 'stay', 'overnight', 'go', 'chief', 'complaint', 'transient', 'lasting', 'five', 'active', 'medical', 'first-degree', 'av', 'block', 'post', 'pacemaker', 'hypothyroidism', 'hyperthyroidism', 'irradiation', 'possible', 'lumbar', 'reports', 'episode', 'vision', 'decreasing', 'like', 'compressed', 'top', 'black', 'sheet', 'coming', 'lasted', 'occurred', 'three', 'car', 'pull', 'road', 'safely', 'nauseated', 'possibly', 'lightheaded', 'wife', 'looked', 'extremely', 'pale', 'ashen', 'see', 'clinic', 'received', 'carotid', 'dopplers', 'neurological', 'get', 'since', 'similar', 'denies', 'lesions', 'headaches', 'problem.', 'based', 'arising', 'chair', 'physician', 'ordered', 'l-spine', 'reportedly', 'arisen', 'myelogram', 'evaluate', 'pain', 'type', 'bowel', 'bladder', 'incontinence', 'frank', 'extremity', 'plays', 'tennis', 'least', 'week', 'recent', 'episodes', 'unexpected', 'falls.', 'systems', 'endorses', 'described', 'joint', 'trouble', 'getting', 'negative', 'copy', 'chart.', 'replacement', 'experiences', 'knees', 'this.', 'family', 'noncontributory.', 'social', 'retired', 'security', 'administration', 'x', 'travels', 'lot', 'smoke', 'alcohol', 'socially', 'drugs', 'married.', 'medications', 'recently', 'plavix', 'primary', 'briefly', 'baby', 'per', 'tia-like', 'takes', 'proscar', '5', 'q.d', 'synthroid', '0', 'q.d.', 'physical', ',vital', 'bp', 'respiratory', 'weight', 'pounds', 'pain.', 'distress.', 'heent', 'normocephalic', 'atraumatic', 'conjunctivae', 'sclerae', 'clear', 'tenderness.', 'supple.', 'auscultation.', 'bruits', 'present.', 'warm', 'dry', 'pulses', 'edema.', 'neurologic', ',mental', 'person', 'long-term', 'memory', 'fluent', 'attention', 'concentration', 'good.', 'cranial', 'nerves', 'ii', 'xii', 'vfftc', 'perrl', 'eomi', 'sensation', 'expression', 'decreased', 'aid', 'palate', 'rises', 'symmetrically', 'shoulder', 'shrug', 'strong', 'tongue', 'protrudes', 'midline.', 'bulk', 'tone', 'throughout', 'cogwheeling', 'minimal', 'iliopsoas', '4+/5', 'quadriceps', '-5/5', '5/5', 'hip', 'adductors', 'abductors.', 'vibration', 'proprioception', 'middle', 'feet', 'touch', 'temperature', 'pinprick', 'vibration.', 'dysmetria', 'tremor', 'romberg', 'note', 'rise', 'arms.', 'step', 'stride', 'toe', 'heel', 'tandem', 'tends', 'fall', 'left.', 'biceps', 'triceps', 'patella', 'ankles.', 'provided', 'contrast', 'previous', 'hospitalization', 'inspection.', 'labs', 'stroke', 'although', 'here.', 'tia', 'character', 'brief', 'compromise', 'circulation', 'differential', 'hypoperfusion', 'integrity', 'cerebrovascular', 'system', 'paxil', 'continued', 'need', 'evaluated', 'wait', 'results', 'repeat', 'workup', 'assure', 'complete', 'nothing', 'time.,2', 'symptoms', 'consist', 'mainly', 'proximal', 'instability', 'absence', 'stabilizing', 'interested', 'defer', 'want', 'surgery.', 'plan', 'vessels.,2', 'continue', 'plavix.,3', 'obtain', 'copies', 'done', 'hospital.,4', 'follow', 'planned', 'ventriculostomy', 'twist', 'drill.', 'massive', 'intraventricular', 'hemorrhage', 'hydrocephalus', 'intracranial', 'pressure.', 'man', 'desperate', 'relieve', 'agrees', 'asked', 'proceed', 'emergently.', 'prep', 'drape', 'shaving', 'hair', 'frontal', 'kochers', 'drill', 'bones', 'strips', 'away', 'dura', 'perforated', 'spinal', 'needle.', 'camino', 'monitor', 'connected', 'zeroed', 'lateral', 'first', 'pass', 'excellent', 'aggressive', 'bloody', 'csf', 'stopped', 'slowed', 'clots', 'opening', 'soon', 'arose', 'stitched', 'shut', 'drain', 'drainage', 'bag.', 'platelets', 'ffp', 'vitamin', 'k', 'simultaneously', 'device', 'help', 'prevent', 'clotting', 'ulnar', 'nerve', 'transposition.', 'administering', 'appropriate', 'mac', 'standard', 'arm', 'exsanguinated', 'esmarch', 'tourniquet', 'inflated', 'curvilinear', 'medial', 'elbow', 'starting', 'proximally', 'intermuscular', 'curving', 'epicondyle', 'anteriorly', 'along', 'path', 'antebrachial', 'brachial', 'cutaneous', 'protected.', 'osbornes', 'released', 'neurolysis', 'mobilized', 'six', 'excised', 'deep', 'periosteal', 'carpi', 'ulnaris', 'kinking', 'moved', 'anteriorly.', 'plane', 'superficial', 'flexor-pronator', 'meticulous', 'maintained', 'bipolar', 'electrocautery', 'transposed', 'tethering', 'nerve.', 'semicircular', 'medially', 'flap', 'raised', 'sutured', 'relocating', 'marcaine', 'injected', 'dressed', 'splinted', 'awakened', 'arteritis.', 'biopsies.', 'brought', 'front', 'ear', 'deepened', 'extension', '6-0', 'sample', 'pathology', 'cautery', 'subcuticular', 'suture', 'monocryl.', 'turned', 'dressings', 'areas.', 'negligible', 'rule', 'biopsy.', 'epinephrine.', 'arteritis', 'explained', 'fully', 'patient.', 'sides', 'exactly', 'infiltration', '3-cm', 'grossly', 'hemoccult', 'specimen', 'measuring', 'separate', 'specimens', 'labeled', 'monocryl', 'dermabond', 'reason', 'consultation', 'states', 'last', 'night', 'numbness', 'cheek', 'indicates', 'tias', 'x3', 'yesterday', 'drooping', 'complained', 'blurred', 'emergency', 'bruit', 'tias.', 'lanoxin', 'amoxicillin', 'hydergine', 'cardizem', 'lasix', 'micro-k', 'salt-free', 'diet', 'drink', 'alcohol.', 'densely', 'lesion', 'sphenoid', 'bone', 'representing', 'benign', 'osteochondroma', 'aside', 'hemoglobin', 'ecg', 'bun', 'creatinine', 'cpk', 'glucose', 'electrolytes', 'normal.', 'dysphasic', 'apraxic', 'supple', 'shows', 'save', 'slight', 'flattening', 'outstretched', 'arms', 'past-pointing', 'finger-to-nose', 'heel-to-shin', 'neuromuscular', 'strength', 'limbs', '1+', 'symmetrical', 'plantar', 'flexion', 'absent', 'jaw', 'jerk', 'snout', 'graphesthesia.', 'view', 'fact', 'suspect', 'likely', 'embolic', 'phenomenon', 'cause', 'recommend', 'conservative', 'antiplatelet', 'agents', 'unless', 'might', 'consider', 'best', 'angiography', 'endarterectomy', 'reluctant', 'happy', 'visit', 'referred', 'tethered', 'cord.', 'handed', '9th', 'grade', 'lipomyomeningocele', 'repair', '3-1/2', 'months', 'worsening', 'advil', 'motrin', 'tylenol', 'pm.', 'new', 'patchy', 'l4', 's1.', 'singulair', 'occasional', 'asthma.', '3.', 'pupils', 'equal', 'reactive', 'eoms', '5.', 'walk', 'difficulties', 'tendon', 'plus', 'clonus', 'diminished', 's1', 'proprioception.', 'assessment', 'cord', 'thorough', 'parents', 'recommended', 'prescription', 'today', 'spine', 'completed', 'title', 'suboccipital', 'craniectomy', 'resection', 'tumor', 'microscope', 'modifier', 'cranioplasty.', 'indication', 'acoustic', 'neuroma', 'cerebellar', 'peduncle', 'adherence', 'brainstem', 'complex', 'took', 'longer', 'neuroma.', 'preop', 'postop', 'lines', 'mayfield', '3-point', 'fixation', 'hold', 'park', 'bench', 'expose', 'settled', 'nursing', 'shaved', 'prescrubbed', 'chlorhexidine', 'magnum', 'high', 'speed', 'thin', 'leksell', 'insertion', 'kerrison', 'punches', 'rim', 'edge', 'sigmoid', 'transverse', 'opened', 'cruciate', 'cisterna', 'magna', 'drained', 'nicely', 'relaxed', 'cerebellum', 'leaves', 'held', '4-0', 'nurolon', 'field', 'hemisphere', 'arachnoid', 'thick', 'microscissors', 'allowed', 'quite', 'entire', 'aspect', 'fossa', 'initially', 'retractors', 'tentorium', 'surface', 'bipolared', 'cavitron', 'debulking', 'extreme', 'stickiness', 'debulked', 'redundant', 'cut', 'access', 'center', 'th', '7th', 'similarly', 'cotton', 'balls', 'plain', 'try', 'multitude', 'veins', 'pontine', 'develop', 'microinstruments', 'microinstrument', 'spread', 'debulk', 'stimulated', 'beautifully', 'completely', 'towards', 'porus', 'roll', 'isolate', 'remaining', 'intracranially', 'scrubbed', 'remove', 'piece', 'porus.', 'removing', 'norian', 'seal', 'air', 'cells', 'palpated', 'intradural', 'space', 'attempted', 'stimulate', 'nurolons', 'muscle', 'plug', 'duragen', 'laid', 'line', 'hemaseel', 'gelfoam', 'set', 'titanium', 'cranioplasty', 'vicryls', 'close', 'nylon', 'extubated', 'icu', 'stable', 'sleepiness.', 'historian', 'husband', 'bedside.', 'obese', 'caucasian', 'conditions', 'includes', 'urinary', 'dementia', 'basically', 'excruciating', 'almost', 'year', 'neurosurgery', 'epidural', 'injection', 'x2', 'got', 'better', 'giving', 'cries', 'woke', 'morning', 'unable', 'eat', 'crying', 'cough', 'diarrhea', 'dysuria', 'polyuria', 'examining', 'treatment', 'discharge', 'respond', 'even', 'stimuli', 'fluid', 'checked', 'syncopal', 'episode.', 'degenerative', 'diabetes', 'disease.', 'hysterectomy', 'appendectomy', 'young', 'age.', 'allergies', 'denied.', 'according', 'list', 'hydrocodone', 'every', 'flexeril', 'bedtime', 'xanax', 'neurontin', 'propranolol', 'oxybutynin', 'namenda', 'daily', 'aricept', 'daily.', 'usually', 'walks', 'walker', 'wheelchair-bound', 'knows', 'abuse', 'smoking.', ',general', 'currently', 'lying', 'apparent', 'distress', 'lethargic.', 'vital', 'pulse', '/.', 'entry', 'auscultate.', 's2', 'regular.', 'abdomen', 'nondistended', 'nontender.', 'straight', 'raising', 'causing', 'x-ray', 'lumbosacral', 'l1', 'fracture', 'osteophyte', 'formation', 'laboratory', 'data', 'lab', 'test', '3/', 'seems', 'acceptable', 'range.', 'polypharmacy', 'low', 'pressure.,1', 'vasovagal', 'syncope', 'versus', 'relaxants.,2', 'osteoporosis', 'pain.,3', 'hypotension.,4', 'bladder.,5', 'alzheimer', 'type.', 'suggestion', 'send', 'admit', 'dou', '-hour', 'observation', 'saline', 'meq', 'kcl', 'protonix', 'gabapentin', 'moment', 'give', 'percocet', 'morphine', 'sulfate', 'calcium', 'order', 'tomorrow', 'depends', 'subjective', 'african-american', 'contrast-enhancing', 'characteristics', 'significantly', 'high-grade', 'glioma', 'objective', 'gcs', 'heels', 'toes', 'judgment', 'light.', 'rim-enhancing', 'highly', 'glioblastoma', 'multiforme', 'benefits', 'chemotherapy', 'radiation', 'treatments', 'probability', 'represents', 'weighing', 'agreed', 'undergo', 'concomitant', 'signed', 'craniotomy', 'brain', 'n.p.o', 'wednesday', 'anesthesiology', 'undergone', 'vocational', 'rehab', 'presents', 'office', 'hand', 'going', 'tingling', 'numb', 'periodically', 'keyboard', 'work', 'hoping', 'worried', 'carpal', 'tunnel', 'repetitive', 'activities', 'worse', 'sleeps', 'certain', 'wake', 'shake', 'nonetheless', 'bothersome', 'involves', 'mostly', 'finger', 'says', 'digits', 'thumb', 'thinks', 'arthritis.', 'respirations', 'nontoxic', 'musculoskeletal', 'examined', 'limits', 'grip', 'tinels', 'phalens', 'fingers', 'neurovascularly', 'capillary', 'refill.', 'positioning', 'wrist', 'syndrome.', 'anaprox', 'double', 'pill', 'food', 'cock-up', 'splint', 'still', 'emg', 'let', 'know', 'noting', 'improved', 'noticed', 'lost', 'exercise', 'job', 'observe', 'carries', 'measures', 'lose', 'expect', 'improve', 'information', 'obstructive', 'apnea', 'snoring', 'weighed', 'seven', 'inches', 'tall.', 'questionnaire', 'estimate', 'asleep', 'slept', 'half', 'dreams', 'less', 'refreshing', 'sleepy', 'morning.', 'protocol', 'polysomnogram', 'compumedics', 'e', 'series', 'polysomnograph', 'scalp', 'prepared', 'ag/agcl', 'electrodes', 'international', 'monitored', 'c4-a1', 'c3-a2', 'o2-a1', 'eog', 'continuously', 'outer', 'canthi', 'chin', 'respectively', 'nasal', 'oral', 'airflow', 'triple', 'port', 'thermistor', 'effort', 'piezoelectric', 'technology', 'employing', 'abdominal', 'belt', 'oxygen', 'saturation', 'oximetry', 'electrocardiography', 'tibialis', 'studied', 'mounted', 'apart', 'monitored.', 'technical', 'quality', 'electrophysiologic', 'measurements', 'latency', 'rem', '_____', 'spent', 'bed.', 'iii', 'relatively', 'architecture', 'except', 'waking.', 'apnea/hypopnea', 'index', 'hour', 'arousal', 'desaturation', 'longest', 'hypopnea', 'fio2', 'prm', 'hour.', 'electrocardiographic', 'observations', 'minute', 'minute.', 'conclusions', 'syndrome', 'moderately', 'loud', 'index.', ',axis', 'polysomnography.', 'axis', 'c', 'hypertension.', 'cpap', 'titration', 'may', 'lead', 'cardiovascular', 'consequences', 'daytime', 'sleepiness', 'occur', 'rhm', 'moving', 'furniture', 'struck', 'door', 'panel', 'stepped', 'trailer', 'hitch', 'loc', 'dazed', 'ha', 'accident', 'experiencing', 'episodic', 'vertigo', 'bedroom', 'girlfriend', 'heard', 'noise', 'floor', 'speak', 'move', 'er', 'spell', 'stared', 'seem', 'comprehend', 'verbal', 'resolved', 'staff', 'sided', 'movement', 'babinski', 'sign.', 'valium', 'dph', '1g', 'transferred', 'uihc.', 'dm', 'neuropathy', 'unknown', 'etiology', 'trauma', 'falls/fights', 'meds', 'med', 'dm.', '+pack-year', 'h/o', 'tobacco', 'quit', '6-pack', 'beer/week', 'use.', 'unknown.', 'bpm', 'rpm', 'gaze', 'preference', '3/3', '2/2', 'exposure', 'optic', 'disks', 'flat.', '5/4', 'bulk.', 'equally', 'gait/station/coordination', 'tested.', 'eyes', 'deviated', 'leftward', 'twitched', 'verbally', 'unresponsive', 'groggy', 'event.', 'skull', 'hematoma', 'subdural', 'adjacent', 'subarachnoid', 'contusion.', 'pt/ptt', 'wnl.', 'sah/contusion', 'traumatic', 'librium', 'taper', 'alcoholic', 'withdrawal', 'neurosurgical', 'consult', 'receive', '/1/', 'neuropsychological', 'poor', 'orientation', 'anterograde', 'severely', 'became', 'dysarthric', 'fatigued', 'defective', 'finding', 'copying', 'dimensional', 'figures', 'injury', 'etoh', 'injuries', 'contribute', 'deficits', 'epilepticus.', '6-year-old', 'former', '-week', 'premature', 'infant', 'suffered', 'shunt', 'result', 'developmental', 'delay', 'baseline', 'put', 'words', 'together', 'sentences', 'special', 'education', 'classroom', 'kindergarten', 'ambulates', 'independently', 'falls', 'often', 'compared', 'prefers', 'mother', 'postures', 'x.', 'botox', 'regard', 'palsy.', 'require', 'revision', 'well.', 'involvement', 'eye', 'deviation', 'forcefully', 'tend', 'prolonged', 'stop', 'trileptal', 'medication', 'presumed', 'failure', 'topamax', 'march', 'worked', 'capsules', 'mg/kg/day', 'point.', 'health', 'early', 'seizure', 'forced', 'convulsion', 'diastat', '7', 'x1', 'ems', 'called', 'lorazepam', 'department', 'mg/kg', 'fosphenytoin', 'thereafter', 'gradually', 'become', 'eating', 'nearly', 'bit', 'balance', 'weaker', 'postictally.', 'low-grade', 'fevers', 'complaints', 'skills', 'rashes', 'arthritis', 'arthralgias', 'oropharyngeal', 'auditory', 'complaints.', 'scoliosis.', 'father', 'siblings', 'ill', 'contacts.', 'well-nourished', 'well-hydrated', 'afebrile.', 'oropharynx', 'lesions.', 'adenopathy.', 'regular', 'murmurs.', 'organomegaly.', 'clubbing', 'cyanosis', 'instructions', 'run', 'understandable', 'round', 'extraocular', 'fields', 'face', 'postictally', 'elevates', 'clearly', 'abducted', 'rest', 'reaching', 'objects', 'exaggerated', 'tremor/dysmetria', 'target', 'sensations', 'sitting', 'truncal', 'tendency', 'kyphosis', 'scoliotic', 'curve', 'tested', 'today.', 'epilepticus', 'prematurity', 'protect', 'reviewed', 'effects', 'higher', 'doses', 'issues', 'somnolence', 'destruction', 'areas', 'despite', 'reasonable', 'standpoint', 'stretching', 'program', 'benefit', 'botox.', 'administer', 'immediately', 'waiting', 'hopefully', 'abort', 'options', 'keppra', 'zonegran', 'lamictal.', 'followup', 'already', 'scheduled', 'february', 'keep', 'city', ',i', 'pleasure', 'neurology', 'z.', 'june', 'rolandic', 'birth', 'child', 'born', 'g3', 'p1', 'development', 'bright', '9', 'typically', 'generalized', 'tonic-clonic', 'awakening', 'falling', 'smaller', 'spells', 'twitching', 'eegs', 'shown', 'central', 'abnormalities.', 'tegretol', 'toxicity', 'hallucinations', 'switched', 'taking', 'deprived', 'deny', 'behavior', 'participates', 'sports', 'motocross', 'older', 'sibling', 'manages', 'turkey', 'farm', 'foster', 'farms', '8th', 'teacher.', '3rd', 'cousin', 'specific', 'known', 'relevant', 'history.', 'swelling', 'tenderness', 'palpation', 'perhaps', 'sprained', 'ankle', 'ankles', 'sense', 'height', '-1/4', 'circumference', 'adenopathy', 'murmurs', 'organomegaly', 'goal-directed', 'follows', 'moves', 'nonataxic', 'heel-toe', 'finger-nose-finger', 'altering', 'electroencephalogram', 'annually', 'reveres', 'tapered', 'anticipate', 'actually', 'understands', 'modesto', 'contact', 'results.', 'allowing', 'serves', 'reintroduction', 'thursday', 'unfortunate', 'reflex', 'sympathetic', 'dystrophy', 'persisting', 'heal', 'intolerant', 'healing', 'considered', 'amputation', 'therapeutic', 'option', 'reduce', 'orthopedic', 'associates', 'z', 'imprudent', 'take', 'likelihood', 'reduction', 'rst', 'noninvasive', 'tenuous', 'oxygenation', 'concerns', 'transcutaneous', 'levels', 'dramatic', 'hyperbaric', 'utility', 'improving', 'wounds', 'certainly', 'pursued', 'cleveland', 'implantable', 'stimulator', 'unsuccessful', 'dramatically', 'methadone', 'eight', 'tablets', 'dilaudid', 'mouth', 'effexor', 'xr', 'cytomel', 'mcg', 'seroquel', 'q.', 'levothyroxine', 'prinivil', 'mevacor', 'q', 'assistance', 'determining', 'situation', 'tried', 'stress', 'abrupt', 'irreversible', 'reach', 'conclusion', 'determine', 'form', 'appropriate.', 'kindly', 'prompt', 'kind', 'shortly', 'anything', 'rotator', 'cuff', 'tear', 'stenosis.', 'ms.', 'returns', 'c6', 'radiculopathy', '//.', 'believe', 'report', 'images', 'continues', 'y.', 'component', 'radiates', 'ambulation.', 'groups', 'deltoid', 'brachioradialis', 'hoffmann', 'sign', 'hawkins', 'neer', 'impingement', 'shoulder.', 'plexopathy', 'entrapment', 'extremity.', 'dated', 'artifact', 'demonstrate', 'minimal-to-moderate', 'c5-c6', 'signal', 'paracentral', 'disc', 'herniation', 'axial', 't2-weighted', 'limited.', 'abcs', 'radiographic', 'compatible', 'combination', 'agree', 'ahead', 'non-operatively', 'begin', 'referring', 'consideration', 'steroid', 'injections', 'recover', 'recovering', 'spine.', 'codes', 'two.', 'spastic', 'diplegic', 'palsy', 'mac.', 'technique', 'mom', 'minor', 'sedated', 'positioned', 'overlying', 'chlorhexidine.', 'obturator', 'adductor', 'longus', 'phenol', 'location', 'adduction', 'contraction', 'amount', 'stimulus', 'drawback', 'phenol.', 'botulinum', 'toxin', 'units', 'rectus', 'femoris', 'hamstrings', 'gastrocnemius', 'soleus', 'diluted', 'fiberglass', 'casts', 'encountered', 'invasive', 'pituitary', 'adenoma.', 'endoscopic-assisted', 'transsphenoidal', 'radical', 'adenoma', 'endoscopic', 'harvesting', 'dermal', 'fat', 'graft', 'sella', 'turcica', 'reconstruction', 'sellar', 'autologous', 'creating', 'septal', 'microdissection', 'catheter', 'reservoir', 'aspiration', 'infusion.', 'resections', 'radiotherapy', 'instructed', 'regrown', 'reoperation', 'high-risk', 'mandatory', 'leak', 'blindness', 'understanding', 'elected', 'table', 'induction', 'decubitus', 'pad', 'points', 'appropriately', 'manner.', '-gauge', 'tuohy', 'needle', 'introduced', 'colorless', 'issued', 'forth', 'distance', 'no-touch', 'adenomas', 'increases', 'produces', 'gentle', 'migration', 'improves', 'outcome', 'reduces', 'atraumatically', 'dissecting', 'apparatus.', 'headrest', 'affixed', 'semi-sitting', 'fluoroscope', 'c-arm', 'afford', 'projection', 'endoscope', 'nasopharynx', 'pieces', 'harvested', 'carefully', 'layers.', 'advanced', '0-degree', 'nostril', 'turbinate', 'reflected', 'exposing', 'ostium', 'bovie', 'perpendicular', 'plate', 'ethmoid', 'sphenoid.', 'tremendous', 'fibrous', 'scar', 'slowly', 'largely', 'cavernous', 'wide', 'horizontal', 'tuberculum', 'magnification', 'hypophysectomy', 'nostril.', 'frozen', 'section', 'malignant', 'features.', 'meticulously', 'suction', 'apparatus', 'coagulating', 'forceps', 'cup', 'curette', 'dissect', 'fibrotic.', 'systematically', 'contents', 'invasion', 'saw', 'imaging.', 'suprasellar', 'cistern', 'injecting', 'adherent', 'free.', 'created', 'decompression', 'reinserted', 'chiasm', 'reasoned', 'goal', 'closure.', 'copiously', 'bacitracin', 'solution', 'valsalva', 'maneuver', 'bleeding.', 'closure', 'verified', 'fluoroscopy', 'looking', 'polypropylene', 'insert', 'reconstructed', 'implant', 'nice', 'tight', 'sling', 'cm.', 'duraseal', 'packed', 'duraseal.', 'inspected', 'passages', 'restored', 'precisely', 'repairing', 'turbinates', 'anatomic', 'intranasal', 'open', 'packing', 'terminated.', 'sponge', 'counts', 'correct', 'intraoperative', 'complications.', 'vastus', 'medialis', 'intermedius', 'pectoralis', 'major', 'muscles.', 'hemiparetic', 'sites', 'removal.', 'al', 'rehabilitation', 'dvt', 'resolved.', 'decadron', 'glucophage.', 'issue', 'walking', 'weakness.', 'walking.', ',range', 'limits.', 'repetition', 'reflexion', '4+/5.', 'assessed', 'berg', 'places', 'guard', 'assist', 'reciprocal', 'foot', 'clearance', 'fatigue', 'footdrop', '6-minute', 'next', 'constraints.', 'ambulation', 'skilled', 'impairments.', 'exercise.,2', 'training.,3', 'training.,4', 'functional', 'mobility', 'training.', 'tolerate', 'repetitions', 'exercises.,2', 'score', 'points.,3', 'ambulate', 'standby', 'assist.', 'supervision', 'community.,2', '/.,3', 'safe', 'negotiation', 'corners', 'busy', 'areas.,4', 'stepping', 'balance.', 'prognosis', 'above-stated', 'goals', 'agreement', 'xyz', 'street', 'cd', ',thank', 'suspected', 'comes', 'continuing', 'dilantin', '1/2', 'requesting', 'come', 'reviewing', 'discrepancy', 'true', 'reconsider', 'neurologically', 'slightly', 'understand', 'entail', 'repeating', 'coordinate', 'await', 'response', 'diagnostic', 'coordinated', 'scheduling', 'woman', 'pseudotumor', 'cerebri', 'papilledema', 'herself.', 'cared', 'codman-hakim', 'mmh2o', 'january', 'psychiatrist', 'depression', 'adjusted', 'bad', 'cycle', 'constant', 'coughing', 'straining', 'sneezing', 'standing', 'little', 'shave', 'helped', 'imitrex', 'relief', 'intense', 'ringing', 'ears', 'blurry', 'dimming', 'lights', 'tells', 'appointment', 'time.', 'nourished', 'kempt.', 'turning', 'clean', 'scab', 'farther', 'looks', 'there.', 'adjustment', 'mri.', 'problems/diagnoses', 'papilledema.,2', 'headaches.', 'programmed', 'mmh2o.', 'picture', 'desirable', 'thus', 'decided', 'reprogram', 'sinai', 'confirm', 'setting', 'told', 'contacting', 'wilmer', 'institute', 'setup', 'complaining', 'occasionally.', 'counseling', 'musculocutaneous', 'flexors', 'extensors.', 'four.', 'quadriparesis', 'brother', 'extensors', 'numbness.', 'gradual', 'incoordination', 'beginning', '/5/', 'maximal', 'changed', 'uncertainty', 'bowel/bladder', 'elsewhere', 'hot', 'showers', 'histories', 'vibratory', 'r', 'l', 'gen', 'screen', 'tsh', 'ft4', 'spe', '4//', 'extension.', 'ap', 'oblique', 'projections', 'alignment', 'carcinoma', 'bone/middle', 'space.', 'abdominis', 'myocutaneous', 'base', 'defect', 'selective', 'zones', 'endotracheal.', 'team', 'pins', 'betadine', 'ellipse', 'conchal', 'bowl', 'cutting', 'postauricular', 'beyond', 'mastoid', 'tip', 'leaving', 'auricle', 'condyle', 'incise', 'mandible', 'skeletonized', 'border', 'sternocleidomastoid', 'accessory', 'spared', 'hyoid', 'hypoglossal', 'vagus', 'jugular', 'external', 'tied', 'parotid', 'hemoclip', 'anastomosis', 'likewise', 'clipped', 'diamond', 'burs', 'canal', 'underneath', 'extended', 'posteriorly', 'bulb', 'eustachian', 'router', 'bur', 'resect', 'glenoid', 'internal', 'parapharyngeal', 'drilled', 'vertical', 'segment', 'turn', 'completion', 'details', 'operative', 'note.', 'paddle', 'drawn', 'umbilicus', 'sheath', 'sagittal', 'provide', 'supply', 'direction', 'pedicle', 'entering', 'iliac', 'hemoclips', 'impregnated', 'sponges', 'attached', 'epigastric', '9-0', 'ethilon', 'microvascular', 'ischemia', 'remainder', 'copious', 'amounts', 'obstructed', 'wax', 'de-epithelializing', 'tissues', 'edges', 'sewn', 'directly', 'bowl.', 'ribbon', 'pacu', 'referral', 'right-handed', 'presenting', 'opinion', 'employment', 'stages', 'terminated', 'psychiatric', 'nurse', 'comprehensive', 'requested', 'functioning', 'decisions', 'planning', 'undertaken', 'intended', 'purposes', 'aiding', 'historical', 'records', 'interview', 'summary', 'pertinent', 'presented', 'refer', 'problem', 'supervisor', 'dismissed', 'september', 'said', 'compensation', 'fmla', 'resign', 'apply', 'disability', 'retirement', 'employers', 'file', 'charges', 'november', 'dismissal', 'performance', 'arrived', 'sick', 'fibromyalgia', 'paperwork', 'late', 'discipline', 'disciplining', 'frequently', 'enough', 'tardiness', 'workdays', 'chaotic', 'hectic', 'environment', 'putting', 'extra', 'feedback.', 'july', 'personnel', 'indicating', 'duties', 'whose', 'neuropsychologist', 'ph.d.', 'returned', 'original', 'anymore', 'work-related', 'correspondence', 'derogatory', 'examiner', 'purpose', 'summarize', 'indicated', 'diagnostically', 'involving', 'executive', 'average', 'intellectual', 'expectation', 'occupational', 'academic', 'suggests', 'declined', 'concluded', 'overall', 'suggest', 'expected', 'diabetes-related', 'peripheral', 'neuropathy…', 'battery', 'effectively', 'handling', 'documentary', 'demands', 'processing', 'stimulant', 'henry', 'fein', 'm.d.', 'scored', 'mini-mental', 'missing', 'recall', 'prompting', 'neurocognitive', 'appreciated', 'gross', 'measure.', 'enhancing', 'gadolinium', 'contrast.', 'completing', 'chaoticness', 'responsibility', 'noticing', 'decline', 'solving', 'nonverbal', 'forgetfulness', 'living', 'charge', 'household', 'finances', 'paying', 'bills', 'accidents', 'appointments', 'feedback', 'definitely', 'lawyer', 'intend', 'yet', 'application', 'fill', 'claimed', 'disabled', 'workplace', 'initiate', 'generally', 'fallen', 'occurs', 'climbing', 'steps', 'dragging', 'xs', 'appreciable', 'notes', 'osteoarthritis', 'occasionally', 'bumps', 'happening', 'part', 'shoulders', 'hip.', 'childhood', 'mentioned', 'restriction', 'range', 'c-spine', 'hemangioma', 'c7', 'vertebral', 'bulging', 'annulus', 'protrusion', 'c6-c7', 'partial', 'infraspinatus', 'prominent', 'tendinopathy', 'supraspinatus', 'represent', 'tension', 'gerd', 'cholecystectomy', 'ectopic', 'pregnancy', 'outpatient', 'cystectomy', 'obtains', 'disruption', 'unusual', 'talked', 'sometimes', 'hear', 'talking', 'sleep.', 'novolog', 'insulin', 'pump', 'metformin', 'amlodipine', 'lortab', 'tramadol', 'amitriptyline', 'fluoxetine', 'pantoprazole', 'naprosyn', 'fluticasone', 'propionate', 'c.', 'substance', 'drinks', 'smoking', 'cups', 'coffee', 'sixth', 'nine', 'chef', 'janitor', 'sarcoidosis', 'sclerosis', 'bachelor', 'science', 'university', 'school', 'learning', 'disabilities', 'attentional', 'read', 'grades', 'behavioral', 'married', 'ex-husband', 'pancreatitis', 'ages', 'son', 'nearby', 'frequent', 'relationship', 'daughter', 'york', 'bs', 'strongest', 'subject', 'math', 'worst', 'spelling', '2-1/2', 'either', 'unsure', 'walter', 'p.', 'carter', 'ob', 'instances', 'fired', 'spare', 'enjoys', 'reading', 'participating', 'womens', 'puzzles', 'playing', 'computer', 'games.', 'sought', 'psychotherapy', 'prozac', 'sadness', 'psychological', 'experience', 'sad', 'dwelling', 'things', 'suicidal', 'ideation', 'homicidal', 'ideation.', 'tasks', ',clinical', 'adult', 'wechsler', 'wtar', 'mini', 'mmse', 'cognistat', 'neurobehavioral', 'repeatable', 'rbans', 'xx', 'mattis', 'rating', 'scale', '2nd', 'edition', 'drs-2', 'nab', 'intelligence', 'wais-iii', 'wais-iv', 'abbreviated', 'wasi', 'variables', 'tova', 'consonant', 'trigrams', 'act', 'paced', 'serial', 'pasat', 'ruff', 'symbol', 'digit', 'modalities', 'sdmt', 'multilingual', 'aphasia', 'mae-ii', 'token', 'sentence', 'naming', 'controlled', 'association', 'aural', 'comprehension', 'boston', 'bnt-2', 'animal', 'works', 'full-time', 'tax', 'attorney', 'confusional', 'planning.', 'recollection', 'five-hour', 'meeting', 'glazed', 'remember', 'midmorning', 'p.m.', 'entirely', 'items', 'shaking', 'feeling', 'clammy', 'kept', 'saying', 'asking', 'agitated', 'staring', 'blankly', 'desk', 'included', 'showing', 'atrophy', 'nauseous', 'amnestic', 'funny', 'changes.', 'coworker', 'careless', 'errors', 'documents', 'reporting', 'abilities', 'peers', 'fine', 'whole', 'questioning', 'validity', 'lapses', 'forgetting', 'something', 'expectations', 'ability', 'friends', 'maintaining', 'recheck', 'write', 'everything', 'requires', 'attentiveness', 'knowledge', 'obvious', 'quickly', 'mistakes', 'adls', 'participated', 'handle', 'particularly', 'relation', 'environment.', 'cabg', 'prostate', 'prostatectomy', 'nephrectomy', 'another', 'hyperlipidemia', 'hospitalization.', 'celebrex', 'vytorin', 'lisinopril', 'coreg', 'glucosamine', 'chondroitin', 'laxative', 'stool', 'softener', 'say', 'supposed', 'lipitor', 'levothyroxine.', 'hernia', 'drinking', 'glass', 'wine', 'cigarettes', 'add', 'cholelithiasis', 'recommended.', 'interval', 'deferential', 'global', 'amnesia', 'disorder', 'aid.', 'sister', 'law', 'degree', 'baltimore', 'undergraduate', 'maryland', 'transfer', 'credits', 'attend', 'reached', 'graduated', 'class', 'passing', 'bar', 'motivation', 'important', 'success', 'motivated', 'repeated', 'classes', 'attended', 'summer', 'thriving', 'practice', 'clients', 'across', 'country', 'served', 'u.s.', 'coast', 'linda', 'homemaker', 'goes', 'dancing', 'swims', 'golf', 'regularly', 'spends', 'socializing', 'friends.', 'stressors', 'mood', 'transient.', 'new-onset', 'seizure.', '2-1/2-year-old', 'febrile', 'b.i.d', 'successful', 'terms', 'periods', 'pauses', 'becomes', 'postural', 'typical', 'dad', 'anywhere', 'means', 'somewhere', '-second', 'happened', 'store', 'perioral', 'convulsive', 'dosing', 'her.', 'gestation', 'c-section', 'delivery', 'ounces', 'intolerance', 'issue.', 'procedures.', 'maternal', 'nonconvulsive', 'grandmother', 'aunt', 'paternal', 'family.', 'care.', 'illness.', 'kg', 'afebrile', 'ranges', 'record.', 'flustered', 'trying', 'leads.', 'nonicteric', 'conjugate', 'mucous', 'membranes', 'moist.', 'auscultation', 'crackles', 'wheezes', 'rhonchi.', 'murmur.', 'nontender', 'sounds', 'hepatomegaly', 'splenomegaly', 'masses', 'examination.', 'restraints', 'deformities', 'limbs.', 'variation', 'downgoing', 'accurate', 'striking', 'alternating', 'deferred', 'placement.', 'lesser', 'seizures.', 'recommendations,1', 'tolerates', 'adjustments', 'medications.,2', 'bringing', 'upwards', 'day.,3', 'thing', 'outpatient.,4', 'arrangement', 'arrange', 'clarify', 'syncope.', 'impressions', ',relevant', ',historical', 'august', 'differentiation', 'causes', 'spite', 'utero', 'honors', 'smart', 'migraines', 'bang', 'gave', 'tap', 'pedestrian', 'thrown', 'blocks', 'hit', 'photophobia', 'phonophobia', 'flashing', 'donating', 'plasma.', 'jerked', 'balanced', 'dinner', 'suddenly', 'dropped', 'refrigerator', 'unconscious', 'consciousness', 'neurologist', 'aura', 'darker', 'pinpoint', 'spazzing', 'talk', 'understanding.', 'insomnia', 'heavy', 'drinker', 'gallon', 'jack', 'daniel', 'suicide', 'medicine', 'remission', 'manage', 'postpartum', 'depression.', 'attention/concentration', 'tangential', 'thinking', 'sequencing', 'variable', 'people', 'specifically', 'jokes', 'finds', 'expressing', 'thoughts', 'recalling', 'speaking', 'remembering', 'photographic', 'directions', 'deal', 'personality', 'subdued', 'college', 'biological', 'divorce', 'really', 'stressful', 'helpful', 'them.', 'ativan', 'levoxyl', 'albuterol', 'metered', 'inhaler', 'zofran', 'resumed', 'disorder.', 'familial', 'cholesterol.', 'tests', 'selected', 'subtests', 'delis', 'kaplan', 'dkefs', 'trail', 'fluency', 'category', 'design', 'color-word', 'interference', 'tower', 'wisconsin', 'card', 'sorting', 'wcst', 'stroop', 'trails', 'test-2', 'beery-buktenica', 'visual-motor', 'integration', 'vmi', 'perception', 'grooved', 'pegboard', 'purdue', 'tapping', 'rey', 'figure', '-iii', 'wms-iii', 'california', 'preliminary', 'contusion', 'lobe', 'brain.,2', 'fall.,3', 'final', 'orbital', 'lobes', 'bilaterally.,2', 'injury.,3', 'fall.', 'fell', 'falx', 'abcd', 'neuro', 'checks', 'remain', 'bleed', 'interhemispheric', 'fissure', 'clinically', '/6/.', 'home.', 'tolerated.', 'advised', 'h.', 'p.r.n', 'screening', 'a.', 'woken', 'droop', 'effect', 'tpa', 'ultrasound', 'carotids', 'ica', 'inpatient', 'residual', 'mca/cva', 'rolling', 'cane', 'matter', 'show', 'thrombosis.', 'determined', 'stroke.', 'conducted', 'impairments', 'confrontation', 'abstract', 'reasoning', 'intent', 'duty', 'conversations', 'conversation', 'novel', 'e.g', 'camcorder', 'capable', 'performing', 'receiving', 'fewer', 'files', 'enter', 'agency', 'explaining', 'involved', 'duty.', 'counseled', 'repeatedly', 'receives', 'untreated', 'obesity', 'hypercholesterolemia', 'asthma', 'adenocarcinoma', 'salpingo-oophorectomy', 'colonic', 'polyps', 'breast', 'lumpectomy', 'thrombosis', 'discontinued', 'colace', 'b.i.d.', 'mdi', 'p.r.n.', 'pack', 'ago.', 'providing', 'lung', 'gout', 'gi', 'tumors', 'etc.', 'cs', 'tutoring', 'algebra', 'ever', 'failing', 'hyperactivity.', 'driven', 'cooking', 'cleaning', 'daughters', 'wanted', 'assisted', 'members', 'quire', 'knitting', 'plans', 'cruise', 'bahamas', 'october.', 'describe', 'anxiety', 'nervousness', 'various', 'upcoming', 'organic', 'myeloma.', 'source', 'phone', 'floor.', 'myeloma', 'complains', 'dehydrated', 'disoriented', 'communicate', 'properly', 'member', 'sure', 'baseline.', 'igg', 'subtype', 'significant.', 'abuse.', 'codeine', 'flagyl.', 'immunization', 'unobtainable.', 'ask', 'psychiatry', 'ent', 'ophthalmology', 'cardiology', 'gastroenterology', 'genitourinary', 'hematology', 'rheumatology', 'dermatology', 'allergy/immunology', 'endocrinology', 'toxicology', 'oncology', 'supplemental', 'throat', 'nose', 'discoloration', 'sclerae.', 'meningismus', 'though', 'arthritic', 'contracture', 'auscultated', 'orbits.', 'lungs', 'sounds.', 'benign.', 'rash', 'leptomeningeal', 'neurocutaneous', 'proper', 'confuse', 'nonfocal', 'grips', 'reliable', 'equivocal', 'altered', 'metastasis', 'lepto-meningismus', 'attack', 'hyperviscosity', 'provoked', 'delirium', 'electrolyte', 'imbalance', 'underlying', 'infarction.', 'ordering', 'urine', 'latest', 'diff', 'okay', 'taho', 'nevada', 'killing', 'frightened', 'weekend', 'tuesday', 'him.', 'suffering', 'psychotic', 'paranoid', 'delusions', 'marijuana', 'experimenting', 'lxv', 'bouts', 'refractory', 'different', 'types', 'clozaril', 'risperdal', 'lithium', 'depakote', 'dosages', 'combined', 'responded.', 'antichrist', 'strongly', 'believes', 'dogs', 'neighborhood', 'communicating', 'criticizing', 'telepathy', 'animals', 'gets', 'admission.', 'anti-psychotics', 'eventually', 'bout.', 'mellitus', 'zyprexa', 'bronchitis', 'smokes', 'constantly', 'lapse', 'heavily', 'bronchitis.', 'psychosocial', 'staying', 'lived', 'houses', 'poorly', 'flat', 'average.', 'schizophrenia.', 'deferred.', 'moderate.', 'v', 'gaf', 'holiday', 'structured', 'benzodiazepines', 'make', 'anti-psychotic', 'addresses', 'lightheadedness', 'aware', 'preceded', 'rushed', 'pneumonia', 'blamed', 'miles', 'pre-july', 'october', 'shingles', 'uses', 'wheelchair', 'hands', 'losing', 'fasciculations', 'thighs', 'cramps', 'breathing', 'constipation', 'drops', 'presyncopal', 'stands', 'months.', 'tended', 'far', 'bronchiectasis', 'inherited', 'pneumonia.,2', 'retention', 'urologist', 'month.,3', 's.,4', 'smoked', 'packs', 'cigars', 'hardly', 'retired.', 'pes', 'cavus', 'diseases', 'diabetes.', 'fludrocortisone', 'midodrine', 'q.i.d.', 'cymbalta', 'prilosec', 'amoxil', 'weekly', 'metamucil', 'enteric-coated', 'senokot', 'reglan', 'qh.', 'qh', 'ambien', 'q.h.s', 'megace', 'allergies.', 'p', '0.', 'well-groomed.', 'appreciated.', 'coarse', 'bases.', 'sound', 'volume.', 'bruits.', 'contractures', ',mse', 'calculations', '-7', 'legs.', 'exception', 'palatal', 'gag', '4/4', '4+/4+', '4-/4-', 'interossei', 'dorsiflexion', 'eversion', 'cold', 'dystrophic', 'features', 'pointing', 'hand.', 'pin', 'elbows', 'monofilament', 'testing.', 'barely', 'stand', 'rombergs', 'assessed.', 'inspiration', 'basilar', 'atelectasis', 'infiltrate', 'cta', 'hard', 'plaque', 'extracranial', 'sinusitis', 'mastoiditis', 'essentially', 'count', 'red', 'mch', 'sodium', 'protein', 'albumin', 'folate', 'myocardial', 'december', 'perfusion', 'persantine', 'cardiolite', 'spect', 'non-diagnostic', 'regional', 'males', 'broad-based', 'bulge', 'l1-l2', 'l2-l3', 'l3-l4', 'l4-l5', 'l5-s1', 'flavum', 'neural', 'foraminal', 'l1-l4', 'concentric', 'scleral', 'fiber', 'diffusely', 'weak', 'atrophic', 'disproportionately', 'proprioceptive', 'signifying', 'dorsal', 'progression', 'detailed', 'conduction', 'axonal', 'diffuse', 'polyradiculopathy', 'paraneoplastic', 'antibodies', 'mayo', 'sensorimotor', 'variety', 'disorders', 'sle', 'sjogrens', 'rheumatoid', 'mixed', 'connective', 'toxins', 'chemotherapeutic', '-pound', 'remote', 'pelvis', 'request', 'gallium', 'unsuspected', 'neoplasm', 'radial', 'intimal', 'atherosclerosis', 'perivascular', 'necrotizing', 'sections', 'grouping', 'amyloid', 'monoclonal', 'gammopathy', 'infective', 'severity', 'reverse', 'find', 'reversed', 'addressed', 'undiagnosed', 'think', 'unlikely', 'detect', 'phenotype', 'charcot-marie-tooth', '2.', 'occasion', 'preceding', 'above.,2', 'c-reactive', 'complement', 'cryoglobulins', 'double-stranded', 'dna', 'a1c', 'immunofixation', 'electrophoresis', 'p-anca', 'c-anca', 'factor', 'b.', 'immunoelectrophoresis', 'anca', '5.,3.', 'interpreted', 'above.,4', 'pelvis.,5', 'neoplasm.,6', 'facility', 'training.,7', 'orthostatic', 'adequately', 'day.,8', 'clumsiness', 'disturbance.', 'right-sided', 'mis', 'describes', 'burning', 'feels', 'slip', 'se', 'jerks', 'fairly', 'longstanding', 'prevalent', 'unsteadiness', 'gait.', 'effective', 'oxycodone', 'helps', 'gives', 'fractured', 'nights', 'mi', 'pre-dating', 'symptoms.', 'trazodone', 'simvastatin', 'hydrochlorothiazide', 'prevacid', 'glipizide', 'gabapentin.', 'documented', 'senior', 'citizens', 'building', 'aids', 'disability.', '7/', 'fdis', 'individual', 'decrease', 'unelicitable', 'normally', 'ataxia', 'inability', 'unaided', 'closed.', 'probable', 'diabetic', 'dysfunctioning', 'relative', 'preservation', 'neuropathy.,2', 'myoclonic', 'hepatic', 'encephalopathy.', 'emg/nerve', 'characterize', 'myoclonus', 'cmp', 'lft', 'rpr', 'lyme', 'hba1c', 'ammonia', 'level.,3', 'increasing', 'profile', 'patient.,4', 'closely', 'control.,5', 'funduscopic', 'react', 'nystagmus', 'fifth', 'asymmetry', 'manual', 'stereognosis', 'toe-heel', 'noncontrast', 'infarction', 'extra-axial', 'collection', 'dizziness', 'vestibular', 'prophylactic', 'abortive', 'treatment.,2', 'encouraged', 'watch', 'arrival', 'ukraine', 'recalls', 'pulsating', 'papaverine', 'reducing', 'zig-zag', 'visions', 'russian', 'stops', 'gastroesophageal', 'reflux', 'osteoporosis.', 'centrum', 'multivitamin', 'actos', 'celexa.', 'siblings.', 'sleeping', '-point', 'english', '0/', 'reduced', 'throughout.', 'delightful', 'chemist', 's.', 'immigration', 'ménières', 'positional', 'vertigo.', 'importance', 'foods', 'worsen', 'diary', 'triggering', 'fitness', 'lethargy.', 'symptomatic', 'static', 'encephalopathy', 'shunted', 'leiden', 'deficiency', 'maximize', 'friday', '-minute', 'consisted', 'unresponsiveness', 'posturing', 'perceived', 'yesterday.', 'sleepier', 'monday', 'awaken', 'interacts', 'feisty', 'cultures', 'limons', 'refers', 'rbc', 'kaweah', 'delta', 'malfunction', 'infection.', 'acetaminophen', 'azithromycin.', 'aroused', 'jerky', 'attempts', 'sit', 'bending', 'sucks', 'bottle', 'eagerly.', 'obviously', 'visually', 'sluggishly', 'spasticity', 'breakthrough', 'intercurrent', 'lethargy', 'viral', 'explanations', 'indeed', 'excluded.', 'concur', 'hospitalized.', '-month-old', 'neuroblastoma', 'ongoing', 'supervised', 'resected', 'n-myc', 'amplified', 'favorable', 'shimada', 'histology', 'adrenal', 'biopsied', 'carboplatin', 'cyclophosphamide', 'doxorubicin', 'g-csf', 'neutropenia', 'delayed', 'couple', 'congestion', 'acted', 'appetite', 'peeing', 'pooping', 'restarted', 'fluconazole', 'redeveloped', 'thrush', 'recently.', 'neurologic.', 'unchanged.', 'separation', 'week.', 'bactrim', 'saturday', 'sunday.,2', 'subcutaneously', 'dose.,3', 'daily.,4', 'nausea.', 'intractable', 'kilos', 'degrees', 'celsius', 'beats', 'breaths', 'strabismus', 'tms', 'mucosal', 'ulcerations', 'erythema', 'port-a-cath', 'nonerythematous', 'vp', 'aeration', 'bottom.', 'metabolic', 'ast', 'anc', 'none', 'radiologic', 'life', 'threatening', 'effects.', 'histology.,2', 'resection.,3', 'immunosuppression.,4', 'candidiasis.,5', 'resolving', 'neutropenia.', 'immunizations', 'pediatric', 'restaging', 'cycle.,2', 'immunosuppression', 'additionally', 'tentatively', 'thrush.,3', 'candidiasis', 'pleased', 'gregorys', 'discontinue', 'resume', 'pharmacy.', 'attending', 'pog-', 'companied', 'provides', 'virtually', 'it.', 'tell', 'vaguely', 'memory.', 'ground', 'example', 'gardening', 'stopping', 'statin', 'progressed', 'shuffle', 'wheels', 'seat', 'lean', 'backwards', 'sideways', 'shuffles', 'scuffs', 'changing', 'uneven', 'surfaces', 'curbs', 'someone', 'earlier', 'seemed', 'opportunities', 'purchased', 'lightweight', 'traveling', 'distances', 'stairs', 'handwriting', 'shakier.', 'wet', 'warning', 'empty', 'worn', 'undergarment', 'helped.', 'fullness.', 'forgetful', 'dates', 'discovered', 'license', 'expired', 'drive', 'object', 'everyday', 'coaching', 'reminders', 'brush', 'teeth', 'clothes', 'machine', 'repairman', 'ot', 'parkinsons', 'alzheimers', 'puncture.', 'noninvasively', 'problematic', 'tallest', 'inches.', 'grandfather', 'wish', 'himself.', 'uroxatral', 'detrol', 'la', 'guided', 'pounds.', '-th', 'percentile', 'tender', 'palpate', 'spinous', 'stigmata.', 'span', 'fund', 'season', 'specialty', 'perseveration', 'diagram', 'intersecting', 'pentagons.', 'pupillary', 'movement.', 'paratonia', 'tremulousness', 'hands.', 'interpret', 'guessing.', 'heel-to-knee', 'dysarthria.', 'simply', 'withdrawal.', 'tinetti', 'tool', '7-/', '2-5/', '9-/', 'impaired.', 'x-rays', 'personally', 'radiology', 'ventricles', 'horn', 'contour', 'sylvian', 'aqueduct', 'pulsation', 'corpus', 'callosum', 'effaced', 't2', 'confluent', 'corona', 'radiata', 'scattered', 'hippocampal', 'vermian', 'atrophy.', 'raises', 'idiopathic', 'notable', 'moderate-to-severe', '.,2', 'small-vessel', '.,3', 'urgency', '.,5', 'dementia.,6', 'hypertension.,7', 'recollecting', 'exact', 'chronology', 'cabinet', 'pushing', 'persistent', 'calves', 'dissipated', 'radicular', 'meaning', 'perceives', 'unfortunately', 'abnormal.', 'hyperckemia', 'ck', 'stat', 'bump', 'support', 'statements', 'zetia', 'myalgias.', 'tolerance', 'shot', 'glucoses', 'plastic', 'honeymoon.', 'diovan', 'lovaza', 'fish', 'oil', 'niaspan', 'chantix', 'shepherd', 'pratt', 'network', 'engineering', 'quitting', 'beverages', 'drank', 'athletic', 'growing', 'up.', 'brothers', 'healthy', 'uncles', 'polio', 'wear', 'crutches', 'deformans', 'unaware', 'conditions.', 'tinnitus', 'handwritten', 'todays', 'visit.', '3-year', 'girl', 'ucsf', 'evaluations', 'chcc', 'interviewed', 'mom.', 'thanksgiving', 'up-to-date', 'seizure-free', 'fahrenheit', 'x5', 'fellow', 'contacted', 'valproic', 'acid', 'leukocytosis', 'cmp.', 'focus', 'blinking', 'unresponsiveness.,2', 'side.,3', 'tonic', 'postponed', 'subsequent', 'genetic', 'ucsf.', 'anti-epileptic', 'lamictal', 'phenytoin', 'phenobarbital', 'elicited', 'allergic', 'reactions', 'resulted', 'reaction', 'resulting', 'hypotension.', 'clobazam', 'regimen', 'tranxene', 'oligohidrosis', 'summertime.', 'kilo', 't.i.d.', 'kg.', 'postictal.', 'overt', 'observed.', 'kiss', 'acknowledged', 'doll', 'fundus', 'resisted', 'lateralized', 'findings.', 'triggered', 'epilepsy.', 'maximizing', 'concurred', 'maintenance', 'depacon', 'dosage', 'orders', 'written', 'ng', 'update', 'juvenile', 'epilepsy.,2', 'b.i.d.,2', 'depo-provera.', 'interim', 'jerking', 'mornings', 'polyspike', 'complexes', 'compliant', 'drive.', 'demeanor', 'symmetry', 'orbit', 'negative.', 'precursor', 'sleep-wake', 'cycle.', 'responded', 'partially', 'affective', 'adding', 'otherwise.', 'fluctuations', 'stamina', 'hesitancy', 'preponderance', 'uvula', 'prosody', 'guarding', 'narrow', 'noncircumductive', 'slapping', 'copaxone', 'facilitate', 'inject', 'injections.', 'devoted', 'caused', 'sweating', 'nightmares', 'finally', 'h.s', 'h.s.', 'public', 'shamed', 'hiding', 'shower', 'complain', 'night.', 'visiting', 'northern', 't4', 'cortical', 'reasonably', 'nervous', 'breakdown', 'death', 'ect', 'korea.', 'surgeries', 'f', 'lbs', 'korean', 'spasm', 'pulsations', 'volume', 'thyromegaly', 'deformity', 'exhibits', 'psychomotor', 'retardation', 'depressed', 'president', 'korea', 'united', 'right-left', 'agnosia', 'dysnomia', 'aphasia.', ',ii', 'left-handed', 'symptom', 'individually', 'describing', 'localized', 'progressively', 'unsteady', 'duck', 'half.', 'restricted', 'affected', 'paresthesias', 'dropping', 'occurring', 'buttoning', 'troublesome', 'mention', 'exhaustion', 'lays', 'optimally', 'stays', 'engage', 'necessarily', 'names', 'johns', 'hopkins', 'dementia.', 'crohns', 'colostomy', 'kidney', 'stone', 'entocort', 'folic', 'flomax', 'iron', 'lexapro', 'q.h.s.', 'pentasa', 'toprol', 'zetia.', 'imuran', 'tachycardia.', 'pipeline', 'led', 'hobbies.', 'congestive', 'disorders.', 'dyspnea', 'exertion', 'pulmonologist', 'sweats', 'develops', 'stools', 'attributes', 'basis', 'anemia', 'wt', 'appearing', 'affect.', 'gallops', 'rubs', 'dysarthria', 'registration', '1/3', 'accommodation', 'discs', 'full.', 'mrc', 'action', 'percussion', 'myotonia', 'paramyotonia.', 'level.', 'patellas', 'hoffmans', 'crossed', 'stance', 'wide-based', 'spondylosis', 'neuroforamining', 'borderline-to-mold', 'borderline', 'compression.', 'review.', 'b1', 'b6', 'alt', '0-', 'magnesium', 'nonreactive', 'spep', 'serum', 'paraprotein', 'manifestation', 'aldolase', 'homocystine', '9.', 'nonneurologic', 'dexterity', 'length-dependent', 'scant', 'notably', 'jerks.', 'multifactorial', 'sparing', 'superimposed', 'myelopathic', 'myelopathy', 'suboptimally', 'muscular', 'myopathy', 'myopathy.,2', 'conference', 'confident', 'zs', 'indication.,3', 'training', 'pain.,4', 'worthwhile', 'adjust', 'managing', 'therapist', 'proceeding', 'suggestion.,5', 'mask', 'fit', 'expressive', 'vision.', 'wing', 'meningioma', '6/3/', 'irritability', 'occipital-nuchal', 'dysphasia', 'locally', 'homogenously', 'pineal', 'uihc', 'temporal/sphenoid', 'analysis', 'meningioma.', 'recurred', 'regrowth', '6/', 'tentorial', 'concentrating', 'surrounding', 'meningiomas', 'parietal', 'jacksonian', 'rle', 'generalizing', 'prophylaxis', '/7/', 'fronto-temporo-parieto-occipital', 'postoperatively', 'worsened', 'vehicular', 'incident', '1//', 'driver', 'vehicle', 'wearing', 'seatbelt', '’', 'intersection', 'pole', 'drunk', 'ran', 'traffic', 'impact', 'm.p.h', 'cited', 'police', 'transiently', 'scene', 'immediate', 'exit', 'transported', 'rescue', 'squad', 'st.', 'thomas', 'memorial', 'released.', 'relates', 'persistence', 'mva', 'chiropractic', 'non-radiating', 'originates', 'characterized', 'ble', 'paraplegia', 'pm', '4/6/', 'pressure-like', 'sob', 'diaphoresis', 'knelt', 'bulbar', 'inr', 't-spine', '2mg', 'qd', 'digoxin', '0mg', 'prazosin', 'qd.', 'htn', 'a-fib', 's/p', 'femoral-popliteal', 'bypass', '8/', 'thrombosis-thrombolisis', 'turp', 'farmer', 'tobacco/etoh/illicit', 'sao2', 'air.', 'lucid.', 'bue', 'flaccid', 't6', 'lt/pp', 'stocking', 'distally.', 'coord', 'fnf', 'ram', 'hks.', 'done.', 'responses', 'rectal', 'tone.', 'bruitts', 'bibasilar', 'cv', 'murmur', 'sternal', 'non-tender', 'bruitt', 'pulsatile', 'hgb', 'wbc', 'plt', 'competing', 'junctional', '9//.', 'anterior-cervico-thoracic', 'resultant', 'cxr', 'cardiomegaly', 'widened', 'mediastinum', 'suite', 'cardiopulmonary', 'arrest', 'resuscitative', 'pericardiocentesis', 'autopsy', 'retrospect', 'trunk', 'progressing', 'involve', 'nipple', 'traversing', 'urinated', 'readily', 'presentation.', 'cad', 'cp', 'nqwmi', 'angioplasty', 'copd', 'fev', 'fvc', 'd/o', 'djd', 'htn.', 'benadryl', 'ecasa', 'diltiazem', 'isordil', 'enalapril', 'indomethacin', 'terbutaline', 'ipratropium', 'thiamine.', 'pk-yr', 'dock', '/mmhg', 'cachetic', 'intact.', 'hf', 'hadd', 'habd', 'kf', 'ke', 'af', 'ae', 'lle', '4+', 'pp', 'ataxia.', '2+/2+', '3+/3+', 'patellae', '0/1', 'absent.', 'rrr', '2/6', 'labored', 'nt', 'nd', 'nbs', 'distended', 'cool', 'refill', 'brisk', 'anal', 'nodule', 'pole.', 'fev1=1', 'abg', '7//', '/5', 'catheterization', 'urine.', 'emergent', 't3-4', 'invaded', 'compressing', '5/7/', 'pathological', 'located', 'chest-abdominal-pelvic', 'scans', 'gu', 'cystoscopy', 'endoscopy', 'cgy', 'xrt', 'paraplegia.', 'missionary', 'jos', 'nigeria', 'delivered', '4th', 'vaginal', 'pitocin', 'uncomplicated', 'post-partum', 'liquid', '4-5', 'purulent', '5/4/', 'stationed', 'rural', 'dull', 'ache', 'tibia', 'relieved', 'massage', 'seated', '5/6/', 'radiating', 'radiated', 'circumferentially', 'soles', 'buttocks', 'rising', 'laborious', 'task', 'bathroom', 'ibuprofen', 'analgesia', 'evening', 'sole', 'numb.', 'awoke', '5/9/', 'needles', 'darvocet', 'airplane', 'larger', 'flight', 'non-weight', 'bearing', 'i.e', 'waist', 'lt', 'guillain-barre', 'solu-cortef', 'sandimmune', 'g.', '5//', 'airlifted', 'geneva', 'switzerland', 'inguinal', 'areflexic', 'paralysis', 'void', 'defecate', '1g/l', '2mmol/l', 'pmns', 'lymphocytes', 'bacterial-fungal-afb-cultures', 'broad', 'spectrum', 'solu-medrol', 't-l-spine', 't-l1', 'enhanced', 'demyelinating', 'htlv-1', 'hsv', 'ebv', 'malaria', 'cmv', 'serological', 'titers', 'schistosomiasis', 'mekongi', 'ifat', 'elisa', 'praziquantel', '3g', 'prednisone', 'po', 'discontinued.', 'parasite', 'eradication', 'ova', 'granulomata', 'organism', 'speciated', 'regained', 'remained.', 'zantac', 'propulsid', 'tid', 'enoxaparin', 'g4p4.', '7,5,3,6', 'lucid', 'process.', '1/1', 'quads', '0/0', 'pp/lt/vib', 'ice', 'glove', 'fnf.', 'station/gait', 'guaiac', 'lhermittes', 'paraspinal', 'hypertonicity', 'conus', 'medullaris', 'cauda', 'equina', 'exploratory', 'decompressive', 'laminectomy', 'retreated', 'eradication.', 'reside', 'neurology/neurosurgical', 'paraplegic', 'injury.', 'swimmers', 'chronic-appearing', 'wedging', 'believed', 'bodies', 'osteophytic', 'lipping', 'intervertebral', 'spaces', 'preserved.', 'pedicles', 'bodies.,2', 'spine.,3', 'acquired', 'varying', 'water', 'weighting.', 'intensity', 'terminating', 'osseous', 'marrow', 'fracture/contusion', 'heights', 'foramina', 'patent.', 'incidental', 'ovarian', 'physiologic', 'follicular', 'cysts.', 'c4-c5', 'uncovertebral', 'osteophytes', 'indentation', 'thecal', 'sac', 'neuroforamina', 'generation', 'especially', 't5-t6', 'desiccation', 'recess', 'transversing', 'impinged', 'compromised', 'compromise.', 'gbm', 'biopsy/partial', '1/6/', 'mesial', 'coronal', 'extirpation', 'radioactive', 'iodine', 'implantation', 'fractions', 'bcnu', 'procarbazine', 'protocols', 'courses', '5fu/carboplatin', 'chemotherapy.', 'difficulty.', 'wisdom', 'tooth', 'extraction.', 'fhx/shx', ',1-2', 'ppd', 'rare', 'renal', 'ca.', 'mg/day.', 'vitals', 'le', '4+/5-', 'prox', 'hips', 'stairs.', '1+/1+', 'down-going', 'suspicion', 'drop', 'obtained.', 'linear', 'seeding', 'histiocytes', 'cytology', 'bound', '3/3/', 'hemiplegia', 'grew', 'hospice', '7/3/', '5/3/', 't-l-s', 't4-6', 'lipomatosis', 'displacement', 'yielded', 'h', 'oligoclonal', 'bands', 'ferritin', '1:5', 'speckled', 'complicated', 'heparin', 'emg/ncv', 'degeneration', 'vs.', 'plasmapheresis', '6/8/.', 'awaking', 'nap', 'couch', 'paralyzed', 'urination', 'dysphagia', 'deficit.', '7mg', 'zoloft', 'bid.', 'bi-polar', 'dx', 'c-section.', 'processes.', 'plegic', 'temp', 'sacral', 'feet.', 'bue.', 'perirectal', 'sensation.', '2l', 'neutrophils', 'monocytes', 'mcv', 'abcg', '7///', 'o2sat', 'proteinuria', 'abnormally', 'l5', 'roots', 'pushed', 'effusions', 'fila', 'terminale', 'lipoma', 'displacing', 'intramedullary', 'c3', 'anticardiolipin', 'beta-2', 'microglobulin', 'myelitis', 'lupus', 'hypercoagulable', 'exudate', 'plasma', 'exchange', 'cytoxan.', 'proptosis', 'od', '5mm', 'intermediate', 'globe', 'retinal', 'surgically', 'decompressed.', '8//', 'cytoxan', 'glucose2', 'majority', 'bacterial', 'meningitis', 'cisternal', 'canal.', 'dsdna', 'leukopenia', 'rose', 'prednisone.', 'numerous', 'admissions', 'heparinization', 'lbp', '/3/', '/6/', '/9/', 'drove', 'rendered', 'nsaid', 'managed', 'feed', 'pets', 'orthopedist', 'crumpled', 'l-s-spine', 'l-s', 'slntc', '4mg', 'procardia', 'xl', 'altace', 'zaroxolyn.', ',1', 'bph', 'amaurosis', 'fugax', '--', 'tee', 'non-surgical', '8/.', 'teacher', '0-1', 'years.', 'uncomfortable.', 'abductors', '4/4-', '2/2-', 'peronei', '3-/3-', 'spasms', 'illicited', 'hammer', 'rigidity', 'essential', 'passive', 'motion.', 'pp/lt/temp', 'fnf-ram', 'hks', 'stand.', '1/trace', 'achilles', 'quadrants', 'palmomental', 'illicited.', 'stool.', 'rhonchi', 'inspiratory', 'wheeze', 'fields.', 'amyotrophy', 'polymyositis', 'l3-4', 'behind', 'narrowed', 'diskectomy', 'follow-up', '-year-old.', 'extraaxial', 'collections', 'hydrocephalus/midline', 'shift', 'intraorbital', 'volumes', 'paranasal', 'sinuses', 'clear.', 'diffusion', 'infarct.', 'explain', 'wo', 'dyspnea.', 'comparison', 'magnevist', 'abnormal/unexpected', 'foci', 'weighted', 'periventricular', 'flair/t2', 'hyperintensity', 'parenchyma', 'sulci', 'proportionate', 'sequence', 'hyperdense', 'vascularity', 'calvarial', 'metastases', ',2.', ',3.', ',4.', ',5.', 'dictation', 'planes', 'sequences', 'tesla', '4//.', 'indicate', 'pons', 'correlating', 'tiny', 'brachium', 'pontis', 'roughly', 'lenticulostriate', 'moderate-sized', 'aspects', 'superior', 'systems.', 'chiari', 'malformation', 'pituitary/optic', 'mastoids', 'definite', 'hemisphere.,3', 'hemibody', '7/7/', 'notices', 'stiff', 'clumsy', 'coincidentally', 'listing', 'colds/flu-like', 'uhthoffs', 'phenomena.', 'strokes', 'slowing', 'rle.', 'dysesthesias', 'rebound', 'rue.', '3+/3', 'ssa/ssb/dsdna', 't1', 'c4-6', 'eccentric', 'peripherally', 'puncture', 'lymphocyte', 'mg/dl', '4mg/dl', '0-6', '1-', '0-0', 'hemiplegia.', 'cleared', '3am', 'resolution', 'asa.', 'psoriasis.', 'etoh/tobacco/illicit', 'headed', 'tc', 'tachycardic', 'check', 'trendelenburg', 'fluids', '5pm', 'pt/ptt/gs/cbc/abg', 'tachycardia', 'dependent', 'evolving', 'thalamic/lentiform', 'illustrated', 'proton', 'density', 'ensuing', 'esmolol', 'labetalol', 'osmolality', 'catecholamines/metanephrine', 'bica', 'antegrade', 'transthoracic', 'r/o', 'm1', 'asa', 'throbbing', 'coccygeal', 'pains', 'lue', 'electric', 'shock', 'shooting', 'flexing', 'phenomena', 'neck/back/head', 'relief.', 'catamenial', 'allergy', 'macrodantin.', 'shx/fhx', '2ppd', 'cigarettes.', 'lt/pp/vib/temp/prop', 'coord/gait/station', '1+/1+ble', 'reflex.', 'lesion.', 'c5-6', 'disk', 'ncv', 'sharps', 'fibrillations', 'c7-8', 'teres', 'terres', 'insertional', 'c6-7', 'radiculopathy.', ',normal', 'magnum.', 'brainstem-cervical', 'tonsillar', 'ectopia', 'clivus', 'craniovertebral', 'atlantoaxial', 'articulation.', 'c2-3', 'endplate', 'arthrosis', 'foramina.', 'c3-4', '6mm', 'producing', 'ventral', '9mm', 'substantial', 'c4-5', 'pre-foraminal', 'apophyseal', 'dimension', '2mm', 'exiting', 'c5', 'root.', '8mm', 'effacement', 'circumferential', 'cleft', '7mm', 'reserve', 'roots.', 'c7-t1', 't1-2', ',multilevel', 'above.', 'impingement.', ',mri', ',right', 'tingling.', ',vertebral', 'disk/osteophyte', 'contacts', 'indent', 'discrete', 'disk-osteophyte', 'impresses', 'neuroforaminal', 'evident.', ',disk/osteophyte', 'chiropractor', 'unspecified', 'neurosurgeon', 'extramedullary', 'c6-t1', 'post-operative', 'paresthesia', 'hyperreflexia', 'nodules', '9/1/', 'hemangioblastoma', 'stabilized', '1//.', 'neurooncology', 'shirt', 'utensils', 'climb', 'retention.', 'von', 'hippel-lindau', 'truck', '1-3', 'sons', 'mother.', 'exept', 'trapezeii', 'claw-hands', 'manipulate', 'hads', 'pronounced', 't8', 'thorax', 'hyperreflexic', '3+', 'hyporeflexic', ',9/8/', 'ngt', 'feeding', 'cookie', 'swallow', 'studies.mri', 'stem', 'cyst', 'medulla.', 'mid-', 'ulcers', 'c-t', 'cervicothoracic', 'syrinx', 't.', 'expansion', 'thecalsac', 'nodular', 'hyperintense', 'isointense', 'largest', '2cm', 'initiated', 'lhm', 'cook', 'exacerbated', '1-2', 'ii-xii', 'intrinsic', 'palmar', 'station/gait/coord', ',1+', 'manuever', 'congenitally', 'correlate', 'elavil', 'a-year-old', 'distortion', 'arthrosis.', 'posterolateral', 'preforaminal', 'rightward', 'disc-osteophyte', 'spondylosis.', 'distortion.', 'vomiting.', 'initailly', 'hisotry', 'knew', 'phonemic', 'paraphasic', 'fair', 'phrases', 'exhibited', 'facial-limb', 'apraxia', 'grasp', 'thougth', 'picks', 'degeneration.', '/8/', 'reasoning.', 'consuming', 'beers', '1/1/', '1/2/', 'stading', 'kitchen', 'forehead', 'counter', 'occiput', 'etc', 'compazine', 'hydration', 'persisted', '1/5/', 'sdh', 'containing', 'landed', 'sustaining', 'crush', 'injury.,2', 'draw', 'blue', 'prints', 'business', 'frontoparietal', '4/', 'pending', 'beers/day', 'worker.', 'lightheaded.', 'distressed', 'persistently', 'dysphagic', 'syllable', 'comprehended', 'write.', '4/3', 'eom', 'smooth', 'noted.', 'mmicking', 'nd.', 'upward', 'archilles', 'bruitts.', 'cronic', 'componenets.', 'trial', 'florinef', 'sigvaris', 'stockings', 'sized', 'ideomotor', '1/', 'cbz', 'cbgd', 'prepare', 'play', 'salad', 'gibberish', 'enroute', 'spoken', 'unintelligible', 'workers', '8//.', 'putaminal', 'hypodensity', 'duplex', 'gastrectomy', 'peptic', 'ulcer', 'deficient', 'supplementation', 'skills.', 'mvi.', 'deficiency.', 'bother', 'semi-retired', 'simplest', 'conversational', 'replied', 'abadeedleedlebadle', 'occasions', 'uttered', 'comments', 'marred', 'semantic', 'paraphasias', 'named', 'colors', 'actions', 'faucet', 'dripping', 'reed', 'ten', 'percent', '2/3', 'cuts', 'neglect', 'tw.', '2/2+', 'right.', 'na', 'cr', 'chloride', 'co2', 'plt=k', 'vit', 'wernickes', 'transesophageal', 'sclerotic', 'myxomatous', 'leaflet', 'lae', '4cm', 'echo', 'clot', 'cardioembolic', 'lower-division', 'warfarin', 'thoughout', 'enrolled', 'loss.', 'pruritus', 'scapular', 'rostrally', 'ambulating', 'heat', 'gf', 'unemployed', 'iowa', 'logical', 'pallor', 'os', 'rapd', 'ino', '5/4+', 'pp/lt', 't4-5', 'allodynic', 'documented.', 'tt', 'hw', 'beat', 'nonsustained', 'extensor', 'vdrl', 'urinalysis', 'histiocyte', '7mg/dl', 'agarose', 'gel', 'gamma', 'tibial', 'somatosensory', 'evoked', 'potential', 'potentials', 'non-debilitating', 'dysesthesia', 'emptying', 'motionless', 'nodding', 'rhythmically', 'dysesthetic', 'glabellar', 'peritrigonal', 'semiovale', 'radiations', 'post-viral', 'encephalitis', 'rapidly', 'stereotactic', 'parieto-occipital', '6mg', 'qhours', '0gm/m2', '1gm', 'rhythmic', 'finding.', 'diplopia', 'rubber-band', 'tongue.', 'boomerang', 'shaped', 'menorrhagia', 'pills', 'gyriform', 'nonspecific', 'calibrate.', 'ortho-novum', '7-7-7', '2/3/', 'concussion', '5/', 'childbirth.', 'bottles', 'formerly', 'herbicide', 'plant.', 'calculation.', 'hemorrhages', 'fundoscopy', 'deficits.', 'coord/station/gait', 'rf', 'igm', 'gpl', 'ssa', 'ssb', 'beta-hcg', 'flair', 'ischemia.', 'candelabra', 'rmca', 'supplying', 'corresponded', 'segmental', 'circle', 'willis', 'aneurysm', 'lpca', 'supraclinoid', 'rica', 'a1', 'segments', 'vasculitis.,2//', 'neuro-ophthalmology', 'vasculitic', 'tagamet', 'qhs.', 'necrosis', 'stroke/infarct', 'transcortical', 'precentral', 'gyrus', 'vasculitis.', 'q2month', 'cycles', 'pregnant', 'warnings', 'contrary', 'discussions', 'abortion', 'vehicle-bicycle', 'collision.', 'boy', 'riding', 'bicycle', 'responders', 'pupil', 'unreactive', 'decorticate', 'profusely', 'intubated', 'ventilated', 'pmh/fhx/shx', 'glasgow', 'coma', 'scale=4', '6/6', 'fixed', 'corneal', 'motor/sensory', 'laceration', 'calvarium.', 'displaced', 'calvarium', 'intraparenchymal', 'infra', 'abdominal/chest', 'emergently', 'bifrontal', 'evacuation', 'hematomas', 'duraplasty', 'mannitol', 'hyperventilated', 'manifest', 'decerebrate', 'shunting', 'acrylic', 'prosthesis', 'tracked', 'cn3', 'basil', 'thalamus.', 'vpa', 'depakene', 'medulla', 'occipital', 'mid-brain', 'gray', 'hematoma.', 'averaging', '2-3', '-characterized', 'audible', 'cry', '-on', 'diazepam', 'startle', 'sparse', 'disconjugate', 'dilated/fixed', 'quadriplegia', 'partner', 'complaingin', 'anisocoria', '0mm', 'bigger', 'hemispheric', 'decardron', 'gm', 'extubated.', 'ds', 'diflucan', 'acyclovir', 'bid', 'stavudine', 'rifabutin', 'correction', 'pyoloric', 'hiv/aids', 'azt', 'ddi', 'd4t', 'recured', 'resistant', 'genital', 'herpes', 'psoriasis', 'cd4', 'malignancies', 'homosexual', 'monogamous', 'infected', ',7//', 'vent', 'intubated.', 'somnolent', 'voices', 'commands.', 'sensory/coord/gait/station/reflexes', 'penil', 'ulcerations.', '6/5', 'light-near', 'dissociation', 'ou', 'gag-shrug', '5-', 'side.', 'pp/vib/prop', 'accuracy', 'movements.', '2+/2', 'medicine.', 'frontal/parietal', 'surround', 'inhomogenously', 'lymphoma', 'toxoplasmosis', 'excluded', 'refused', 'empiric', 'pyrimethamine', 'sulfadiazine', 'g', 'dnr', 'partners', 'hospital.', 'falling.', 'staggering', 'becoming', 'bradykinesia', 'sinemet', 'coordination.', '1tab', 'qhs', 'premarin', '1mg', 'isocyamine', 'ctr', 'oophorectomy', 'employee', 'champion', 'automotive', 'co.', 'tob/etoh/illicit', 'drugs.', 'comment', 'hypophonia.', 'distraction', 'pp/vib', 'dyssynergia', 'dysdiadochokinesia', 'decrement', 'clasping/unclasping', 'initiating', 'swing', '3-4step', 'retropulsion.', 'flexor.', 'inremarkable', 'evaluating', 'parkinsonism', 'dysautonomia.', 'sensorium/mental', 'recalled', 'wanting', 'slower', 'micrographia', 'hypophonia', 'diplopia.', 'myersons', 'hypomimia', 'anteroflexed', 'posture', 'retropulsion', 'autonomic', 'shy-drager', 'liberalize', 'dietary', 'salt', 'lie', 'elevate', 'monocular', 'os.', '3//', 'duration', 'greyed', 'periphery', '3/7/', 'lica', 'ophthalmologist', '3/4/', 'bioccipital-bitemporal', 'thrombosis.,3/4/', 'esr=', 'factor=normal', '3-vessel', 'furthermore', 'malar', 'depo-provera', 'iv.', 'cryosurgery', 'tonsillectomy', 'adenoidectomy', 'elective', 'miscarriage', 'metal', 'grinder', 'engaged', 'consumed', 'month.', 'foot.', 'narrow-based', 'tw', 'reticular', 'splinter-type', 'fingernails', 'dilute', 'russell', 'viper', 'venom', '1:1', 'prothrombin', 'mix', 'corrected', 'echocardiography', 'anticoagulant', 'fractionation', 'fta-abs', 'thereby', 'confirming', 'false-positive', 'myeloperoxidase', 'hepatitis', 'livedo', 'reticularis', 'met', 'criteria', 'thromboembolic', 'fesat', 'fe', 'tibc', 'reticulocyte', 'feso4', 'tid.', 'outs', '0-4', 'k.', 'mm/hr', 'inrs', '2-2.', 'added', 'plaquenil', 'achieve', '2-3.', '8y/o', '-6', 'screaming', 'parent', 'spoke', 'pinworms', 'vermox', 'prescribed', 'arrangements', 'vomit', 'min', 'postictal', 'evaluation.', 'g1p0', 'milestones', 'otitis', 'media', 'non-contributory.', 'biologic', 'mainstream', 'marks', 'schools.', 'bp/mmhg', 'cooperative.', 'deficit', 'backward.', 'patellar', '5mg', 'q6hrs', 'thalamus', 'cystic', 'enhance', 'uncal', 'subtotal', 'creation', 'pellucidum', 'intellect', 'wisc-iii', 'variability', 'deteriorate', 'homonymous', 'hemianopia', 'carboplatin/vp-', 'cg', '6th', 'undergoing', 'noon', 'asa/', 'pcn', 'rash.', 'macular', 'widowed', 'alone', 'repetition.', 'scotoma', 'lid', 'ptosis', 'swing.', '3/3+', '2/3+', '3-4beats', 'non-sustained', 'sem', 'border.', 'bundle', 'pyramidal', 'ticlopidine', 'angina', 'ruled', 'enzyme', 'insufficiency', 'trivial', 'fibrosis', 'thrombus', 'ticlid', ',there', 'intrasellar', 'craniocaudal', 'mediolateral', 'hemianopsia', 'attributed', '6//', 'temporo-occipital', 'gyral', 'holocranial', 'immunosuppressive', 'methotrexate', 'cyclosporin', 'ambulatory', 'ck=3', '6//.', 'vasotec', 'provera', 'caco3', 'qweek', 'mvi', 'tab', 'lichen', 'planus', 'postmenopausal', 'ht', '56', 'euthymic', 'confrontational', 'elbow/wrist/hand', 'knees.', 'hns', 'fix', 'elicited.', 'waddling', 'ii/vi', 'crp1', 'ldh', '8/8/', 'lfb', 'stained', 'demyelination', 'infiltrates', 'foamy', 'macrophages', 'oligodendroglia', 'deeply', 'basophilic', 'ground-glass', 'nuclei', 'astrocytes', 'lymphocytic', 'situ', 'hybridization', 'a2', 'pittsburgh', 'jc', 'virus', 'ultrastructural', 'particles.', 'plateau', 'note.,1//', 'hemispheres', 'photopsias', 'acuity', '/-1', '3mm', 'log', 'intraocular', 'upgaze', 'chorioretinal', 'inferotemporal', 'foveal', 'flicker', 'scores', 'goldman', 'blind', 'spot', 'infero-temporal', 'diopters.', '2/6/', 'neuropathy/atrophy', 'affecting', 'paid', 'sinus.', 'w/contrast', 'orbits', 'w/', 'w/out', '7x3mm', 'apex', 'homogeneous', 'hertel', 'intervals', 'neuronal', 'bi-hemispherical', 'vasculopathic', 'dural', 'intra-axial', 'cavum', 'velum', 'interpositum', 'variant', 'hypointensity', 'para-atrial', 'trigonal', 'thalami', 'midbrain.', 'amorphus', 'augmentation', 'reassessment', 'vermis.', 'elongation', 'elevating', 'mammary', 'dolichoectasia', 'artery.', 'willis.', 'metastases.', ',severe', 'bi-hemispheric', 'hemisphere.', 'periatrial', 'gastrointestinal', 'onset.', 'noticeable', 'non-throbbing', 'radiate', 'times/day', 'scotomata', 'fluctuated', 'weighs', ',sulfasalazine', 'qid', 'q4hours.', 'ulcerative', 'colitis', 'thinking.', 'mgf', 'newpaper', 'printing', 'press', 'worker', 'admits', 'quit.', 'uncomfortable', 'acts', 'cooperatively', 'grad', 'oclock', 'downward', 'rom', 'scm', 'dysynergia', 'direction.', 'ataxic', 'magnetic', 'apraxic.', '1-2rbc', '2-3wbc', 'bacteria', '7granulocytes', 'ventriculomegaly', 'meninges', 'prepontine', 'canals', 'inflammed', 'lining', 'magendie', 'granulomatous', 'v-p', 'monocyte', 'fungal', 'afb', 'cryptococcal', 'antigen', 'india', 'ink', 'samples', 'consistantly', 'toxoplasma', 'non-encapsulated', 'crytococcus', 'neoformans', 'amphotericin', 'c-diff', 'lift', 'confusion.', 'diagnosis.', 'assessment/plan', 'chance', 'impacting', 'therapies', 'interest', 'blindness.', '1/8/', 'blurring', 'improved.', 'herniorrhaphy', 'nsaids.', 'yrs', 'fhx.', 'o2sat.', 'arousable', 'occasion.', 'blinked', 'threat', '+/+corneas', 'winced', '+/+gag', 'oculocephalic', 'ue', '4/5', 'thalamic', 'tte', 'intraatrial', 'neuroophthalmologic', 'supranuclear', '1/-/', 'acquisition', 'recognition', 'effortful', 'hypophonic', 'associative', 'preserved', 'constructional', 'praxis', 'neuropsychology', 'triglycerides', 'hdl', 'ldl', 'discharged1//.', '5/2/', 'fluently', 'lucidly', 'anosmic', 'discharge.', 'prostatic', 'specifics', 'neurosurgery/otolaryngology/neuro-ophthalmology', 'notes.', 'goldmann', 'od/os', 'v1', 'motor/sensory/coord/station/gait', '6x5x6cm', 'heterogeneous', 'planum', 'sphenoidale', 'olfactory', 'groove', 'extends', '3cm', 'sinuses.', 'superomedial', 'maxillary', 'encasement', 'siphon', 'visualize', 'enhances', 'simultaneous', 'rhinotomy', 'intrasinus', '9/6/', '/-3', '/-2', 'anosmia', 'afternoon', 'lawn', 'md', 'dyazide', 'wbck', 'cl', 'fissure/temporal', 'lobe.', 'temporo-parietal', 'dark', 'methemoglobin', 'hemosiderin', 'temporoparietal', 'reflect', 'disease.,3', 'cerebroangiogram', 'lobulated', 'fusiform', 'aneurysm.', 'inoperable', 'rupture', 'epidural.', 'notice', 'difference', 'st', 'cesarean', 'progress', 'pyrexia.', 'foley', '1st', 'mobilize', 'anesthesiologist', 'hurts', 'hyperesthesia', 'seasonal', 'multivitamin.', 'civil', 'engineer', 'limitations', 'imposed', 'either.', 'bases', 'respiration', 'calculation', 'retina', 'trapezius', '1/5', '3-/5', '2/5', '0/5', '4-/5', 'mute', 't7', 't9', 'allodynia', 'amplitude', 'computers', 'scoliosis', 'pelvic', 'intravenous', 'methylprednisolone', 'tired', 'radiculitis', 'neuropathy.', 'regain.,2', 'vigorous', 'afos', 'prescribing', 'them.,3', 'regaining', 'neuropathic', 'dosage.,4', 'problems.', 'affects', 'grandfather.', 'codeine.', 'personal/social', 'marital', 'over-the-counter', 'analgesics.', ',ros', 'stable.', 'congestion.', 'system.', ',exam', 'cooperative', 'acutely', 'chronically', 'ill.', 'sex', 'race', 'caucasian.', 'situation.', 'correctly', 'coherent', 'organized', 'fashion.', 'smell', 'motions', 'neurovascular', 'directions.', 'reflexes.', 'components', 'normally.', 'palpably', 'identified.', 'evolved', 'inderal', 'explanation', 'role', 'suggestions', 'implementing', 'lifestyle.', 'rationale', 'chosen', 'beneficial', 'alternatives.', 'development.', 'quivering', 'lazy', 'pound', 'ounce', 'product', 'pregnancy-labor-spontaneous', 'g3p3', 'toxic', 'intrauterine', 'exposures', 'serious', 'illnesses', 'hospitalizations', 'sat', 'stood', 'crawled', 'intoeing', 'throw', 'speaks', 'two-word', 'phrases.', 'exotropia.', 'declared.,9', 'sisters', 'healthy.', 'sisters.', 'esotropia', 'tremulous', 'attempting', 'rotated', 'rotate', 'outward', 'planovalgus', 'forego', 'awkwardly', 'formal', 'iq', 'weakest', 'visual/motor', 'discrimination', 'displayed', 'laxity', 'inversion', 'fragile', 'karyotyping', 'sedation.', '2-year', '2-month-old', 'bilirubin', 'hemolysis', 'direct', 'coombs', 'transfused', 'leukocytes', 'nitrites', 'epithelial', 'catch', 'culture', 'organisms', 'pretreated', 'empirically', 'cefotaxime', 'intravenously', 'bandemia', 'metamyelocytes', 'myelocytes', 'inadvertently', 'treating', 'uti.', 'alternatives', 'answered', 'satisfaction', 'equipment', 'versed', 'monitors', 'end-tidal', 'fentanyl', 'cleansed', '1-inch', 'interspace', 'withdrawn', 'repositioned', 'stylette', 'replaced', 'bandage', 'back.', 'untoward', 'emla', 'cream', 'cleansing', 'routine', 'gram', 'stain', 'glucose.', 'disposition', 'amnesia.', 'retrograde', 'grandchildren', 'calculating', 'mesiotemporal', 'gadolinium.', 'pvd', 'repair.', 'smoker', '2-3ppd', 'salesman', 'life.', 'cancer.', 'birthdate', 'continually', 'interviewer', 'grandchildrens', 'folluteins', 'judgement', 'lt/pp/prop', 'antineuronal', 'varicella', 'zoster', 'htlv', 'tft', 'limbic', 'origin.', 'disinhibited', 'non-progressive', 'unheard', 'discogram', 'l2-3.,2', 'l3-4.,3', 'l4-5.,4', 'l5-s1.', 'radiolucent', 'fluoroscopic', 'l1-2', 'approach', 'angled', 'penetration', 'marker', 'entrance', 'wheal', '6-inch', 'l4-5', 'l2-3', 'levels.', 'isovue', 'ancef', 'syringe', 'informing', 'sequentially', 'malignancy', 'accompanied', 'daughter.', 'wilson', 'non-small', 'platelet', 'answers', '8-9/.', 'screened', 'upright', 'position.', 'cpt', 'malignancy.', 'lidocaine', 'csf.', 'witness', 'consent.', 'crest', 'warn', 'leaning', 'aseptic', 'collected', 'keeping', 'spinning', 'ease', 'sits', 'totally', 'resolve', 'shaky', 'lately', 'gotten', 'increased.', 'glaucoma', 'cataracts', 'cataract', 'eye.', 'form.', 'positives', 'exquisitely', 'bradycardia', 'contributing', 'holter', 'practitioner', 'cardiologist', 'feeling.', 'schedule', 'hpi', 'originally', 'preparation', 'vicodin.', 'mr', 'moist', 'sclera', 'meningismus.', 'gallop', 'rub', 'dtrs', 'ed', 'lp', 'ive', 'advice', 'injured', 'transferring', 'veterans', 'cna', 'ultimately', 'subacromion', 'neuritis', 'blocked', 'demonstrating', 'suprascapular', 'notch', 'axillary', 'malaise', 'right-hand', 'overweight', 'musculature', 'abduction', 'rotation', 'certainty', 'ama', 'guide', 'permanent', 'rated', 'multiplied', 'values', 'combines', 'produce', 'corpectomy', 'fullness', 'leave', 'respect', 'empties', 'leakage', 'wears', 'buttock', 'elastic', 'car.', 'rhinocort', 'sprays', 'xyzal', 'spiriva', 'advair', 'os-cal', 'spelling.', 'inhibited', 'display', 'hydrocephalus.,2', 'retrolisthesis.,3', 'concrete', 'effected', 'discretion', 'slumped', 'steering', 'wheel', 'fed', 'ex', 'cyanotic', 'pulseless', 'witnesses', 'emt', 'bretylium', 'electrically', 'defibrillated', 'deteriorated', 'shocks', 'defibrillation', 'joules', 'electrical', 'catherization', 'intraortic', 'balloon', 'gorin', '5/5/', 'initail', 'ck=', 'ckmb', 'lad', 'hypokinesis', 'ckmb=5', 'electrophysiology', 'nifedipine', 'amiodarone', 'capoten', 'prn', 'slntg', 'nubain', 'prn.', 'hypercholesterolemia.', 'chf', 'svt', 'svt.', '3/5', 'flexion5/5', 'pp/vib/lt/temp', 'distribution.', '0/2', 'intra-osseous', 'incidentally', 'sacrum', 'anoxic', 'lieu', 'medtronic', 'difibrillator', 'inducible', 'warrant', 'favored', 'fx', 'ha.', 'exam.', 'editorial', 'assistant', 'newspaper', 'etoh/drugs.', 'noncontributory', 'naming-comprehension-reading', 'fundi', 'gag-shrug-corneal', 'hallucis', 'biceps/triceps/wrist', 'lle.', 'pp/t/vib/prop/', 'magnitude', 'toward', 'toast', 'org', 'molecular', 'clot.', 'flank', 'pp/temp', 'back/neck', '2/4/', 'retroperitoneal', '8g/dl', 'prbcs', 'swollen', '5/5-', 'n', 'paresthesia/dysesthesia', 'dejerine-roussy', 'foraminotomies', 'instrumentation.', 'preoperatively', 'breech', 'screw', 'restless', 'requip', 'relating', 'radiograph', 'web', 'infectious', 'whatsoever', 'incision.', 'nonlabored', 'touch.', 'gastroc-soleus', 'raise', 'healed', 'fluctuance', 'drainage.', 'radiographs', 'malposition', 'screws.', 'reviewed.', 'compressive', 'instrumentation', 'merely', 'misdirected', 'reoriented', 'uncertain', 'hardware', 'suprafascial', 'interventional', 'mobilization', 'reassured', 'mrs.', 'khan', 'management.', 'sooner', 'native', 'american', 'accidental', 'watching', 'tv', 'urinate', 'tripped', 'toilet', 'towel', 'covered', 'house', 'stapled', 'habits', 'hematemesis', 'melena', 'hematochezia', 'afterwards.', 'patient.,2', 'diabetic.,3', 'hemiparesis.,4', 'now.', 'stomach', 'type.,2', 'fracture.,3', 'hemorrhage/subdural', 'lactulose', 'multivitamins.', 'dilantin.', 'sacaton', 'coolidge', 'currently.', 'gilbert', 'details.', 'runny', 'sore', 'throat.', 'palpitations.', 'hemoptysis', 'hematuria', 'urgency.', 'swelling.', 'itching.', 'cns', 'recurrences', 'fight/trauma.', 'endocrine', 'treatment.', 'comfortable', 'oozing', 'anicteric', 'nostrils', 'exudate.', 'jvd', 'thyromegaly.', 'lymphatics', 'supraclavicular', 'lymphadenopathy.', 'rhythm.', 'erythema.', 'spider', 'angiomas', 'torso', 'cirrhosis.', 'abscess', 'fissures', 'asterixis', 'eeg.', '9-year-old', 'infantile', 'genu', 'thinning', 'splenium', 'dysgenesis', 'interact', 'purposeful', 'choreiform', 'dystonic', 'nutrition', 'g-tube.', 'infancy', 'seattle', 'washington', 'mexico', 'vigabatrin', 'subsided', 'trials', '1-year', 'freedom', 'row', 'manifesting', 'turns', 'calm', 'responsive.', 'tablet', 'baclofen', 'xopenex', 'atrovent.', 'slender', 'microcephalic', 'g-tube', 'place.', 'excited', 'valgus', 'impression/plan', 'congenital', 'microcephaly', 're-emergence', 'classify', 'others', 'captured', 'acting', 'discontinuing', 'deterioration', 'holding', 'ended', 'learn', 'conveyer', 'mortgage', 'bank', 'property', 'assessments', 'increasingly', 'dressing', 'chores', 'anhedonic', 'disinterested', 'restlessness', 'fidgety', 'sertraline', 'fluoxetine.', 'arthroscopic', 'vasectomy.', 'huntington', 'mgm', 'mas', 'twice.', 'adopted', 'children.', 'dopaminergic', 'antipsychotic', 'control.', 'hypometric', 'saccades', 'infrequent', 'wrinkling', 'apparent.', 'impersistence', 'grip.', 'manifestations', 'chorea', 'saccadic', 'mood/affect', 'labile.,6/5/', 'cag', 'trinucleotide', 'band', 'room.', 'overdose', 'haldol', 'medically', 'alternate', 'pamelor', 'nortriptyline', 'ingest', 'chances', 'lessened', 'bring', 'wishes', 'gene', 'suicidality', 'subside.', 'southwest', 'hermann', 'shoot', 'gun', 'blow-hole', 'locked', 'bellaire', 'sees', 'attempt.', 'short-term', 'operate', 'microwave', 'depressive', 'worry', 'huntingtons', 'manic', 'hypomanic', 'past.', 'alprazolam', 'artane', 'norvasc', '_______', 'keflex.', 'schizophrenia', 'attempts.', 'employed', 'registered', 'self-prescribing', 'relaxants', 'sedative', 'prescriptions', 'usage', 'proactive', 'seeking', 'active.', 'elderly', 'x4', 'lips', 'constricted', 'content', 'command', 'paranoia', 'insight', 'u-tox', 'amphetamines', 'tricyclic', 'antidepressants', 'coincided', 'hopeful', 'nos.', 'overdose.', 'plan,1', 'safety', 'voluntary', 'main-7', 'precautions.,2', 'issues/medical', 'nightly', 'fexofenadine', 'flonase', 'agitation.,3', 'benzo', 'withdrawal.,4', 'necessary.', 'participate', 'milieu', 'rounds', 'group', 'consults', 'lipids', 'cva', 'retinopathy.', 'glyburide', 'avandia', 'zonegran.', 'titrate', 'anticonvulsants', 'lyrica', 'interested.', 'neuropathies.', 'responsible', 'status.', 'walked', 'lay', 'responsive', 'amidst', 'emesis', 'supraorbital', 'sah', 'insurance', 'neurologic/neurosurgical', 'proventil', 'tylenol.', 'pyelonephritis', 'stds', 'polysubstance', 'mj', 'amphetamine', 'g5p4.', 'groaned', 'yes', 'inappropriately.', 'vfftt', 'nail', 'stimuli.', 'periorbital', 'ecchymoses', 'od.', 'bruising', ',2//', 'liner', 'cerebelli', 'hemorrhage.,2//', 'gyri', 'pca', 'division', 'ischemic/vascular', 'ganglia/caudate', 'parenchymal', 'opacification', 'transients', 'verbalizing', 'headachese', 'parafon-forte', 'abortion.', 'ca', 'aodm', 'teenage', 'nsg', 'solid', 'interanl', 'glioblastoma.', 'lobectomy', 'xanthomatous', 'astrocytoma', 'literature', 'optimal', 'survived', 'pet', 'auras', 'pb', 'cataclysmic', 'violent', 'sneeze', 'eyelid', 'tortuous', 'melanoma.', 'voltaren', 'alupent', 'duodenal', 'avm', 'copd.', '3/7', '2/7', 'i.e.', 'fixed/dilated', 'neutral', 'intorsion', 'stretch', 'irregularly', '/mm3', '1/mm3', 'mass.', 'four-vessel', 'dolichoectatic', 'aneursym', 'neuroopthalmologic', 'instead', 'bowing', 'diaphragm', 'noncalcified', 'craniopharyngioma', 'rathkes', 'neuroopthalmology', 'aberrant', 'reinnervation', 'constriction', 'downgaze', 'apoplexy', 'pick', 'church', 'sunday', 'gone', 'overslept', 'ii.', 'etoh/illicit', 'drug/tobacco', 'folsteins', 'drawing', 'recite', 'backward', 'pp/vib/prop/lt/temp', 'nb', 'ambulated', 'release', 'signs.', 'cmb', 'visuoperceptual', 'praxis.', 'globus', 'pallidi', 'african', 'bifronto-temporal', 'daylight', 'binocular', 'covering', 'veering', 'developing', 'depth', '9/2/', '9/3/', ',9/3/', 'non-reactive', 'myelin', 'basic', 'acetylcholine', 'receptor', 'binding', 'blocking', '9/4/', 'esr=.', 'q5-6hrs', 'reattachment', 'amputation.', 'half-brothers', 'rom.', 'fnf/hks/ram.', 'swan', '2rbc', '1wbc', 'neuroophthalmology', 'cn6', 'v2', 'brain/orbit/neck', 'sinuses/ethmoid', 'sinuses/frontal', 'hilum', 'obstruct', 'collapse', '3x4x4cm', 'hilar', 'bronchus', 'bronchial', 'brushing', 'transbronchial', 'aspirate', 'gms', 'stains', 'fungus', 'pcp', 'assay', 'wedge', 'lymph', 'node', '/2/', 'caseating', 'board', 'histoplasmosis', 'wegeners', 'granulomatosis', '0units', 'candida', 'mumps', 'controls', '2/', 'belted', 'passenger', 'exacerbation', 'preexisting', 'aching', 'bitemporal', 'sharper', 'nuchal/occipital', 'electronystagmography', 'punctures', 'mononuclear', 'lymphocytosis', 'abdominal-pelvic', 'mammogram', '5xmm', 'remporal', 'midbrain', 'images.', 'menses', 'secretary', 'nightsweats', 'dysphagia.', 'drowsy', 'giddy', 'lt/pp/vib/prop.', 'hw.', 'iggmg/dl', '-omg/hr', ',no', 'neutrophil', 'crytococcal', 'ag', 'barrier', 'blockage', 'synthesis', 'banding', 'demylination', 'anti-purkinje', 'anti-neuronal', 'yo', 'ho', 'histoplasmin', 'demential', 'style', 'mmpi', 'defensiveness', 'unwillingness', 'common', 'human', 'faults', 'prevented', 'defects', '/4/', 'laca', 'aica', 'distributions', 'intially', 'thismight', 'steroids', 'consistently', 'peduncles', 'glioma.', 'inconclusive', 'cytologic', 'atypia', 'immunohistochemical', 'disclose', 'lymphoid', 'clonality', 'non-leukocytic', 'vzv', 'arouse', 'silent', 'ganglion', 'aidp', 'globulin', 'capacities', 'main', 'tightness', 'hypertension.,2', 'mellitus.,3', 'ganglion.,4', 'replacements.,6', 'cholecystectomy.', 'mellitus.', 'replacements', '4-6', 'toprol-xl', 'spray', 'zocor', 'previously.', 'miller-fisher', 'ivig', 'improvement.', 'plenty', 'corrective', 'gradually.', 'further.', 'internist', 'unreasonable', 'hope', 'future.', 'variant.,2', 'hypertension.,3', 'mellitus.,4', 'day.,2', 'ophthalmology.,3', 'b.i.d.,4', 'weeks.,5', 'time.,6', 'arteriovenous', 'malformation.', 'ct-guided', 'frameless', 'radiosurgery', 'dynamic', 'tracking.', 'qualified', 'resident', 'procedure.', 'radiosurgical', 'obliterate', 'cyberknife', 'aquaplast', 'constructed', 'scanner', 'stanford', 'omnipaque', '1-mm', 'contiguous', 'slices', 'uploaded', 'outlined', 'inverse', 'generate', 'gy', 'isodose', 'collimator', 'dimensions', 'reference', 'coverage', 'conformality', 'modified', 'approved.', 'deliver', 'margin', 'completed.', 'avm.', 'dr', 'dictating', 'intracerebral', 'hemorrhage.', 'hemorrhage.,2', 'inflammatory/infectious', 'microbiology.', 'lesion.,2', 'dura.,3', 'microscopic', 'microscope.', 'microbiology', 'culture.', 'drains', 'medium', 'hemovac', 'drain.', 'hemorrhagic', 'edematous', 'general.', 'anesthesia.', 'intraoperatively.', 'effect.', 'hemiplegic', 'incoherence', 'bowel/urine.', 'ich', 'dura.', 'anesthetized', 'ted', 'scds', 'three-point', 'holder', 'manner', 'incisional', 'faintly', 'temporalis', 'subperiosteal', 'plating', 'exposed.', 'entirety', 'fused', 'burr', 'hole', 'covers.', 'cautery.', 'rongeur', 'durotomy', 'high-speed', 'rongeur.', 'fresh', 'bony', 'pack-up', 'stitches', 'blade', 'metzenbaum', 'scissors', 'horseshoe', 'edematous.', 'xanthochromia', 'corticectomy', 'accomplished', 'core', 'trimmed', 'vascularized', 'cultured.', 'intraoperatively', 'lorenz', 'approximated', 'galea', 'reapproximated', 'inverted', 'witnessed', 'briskly', 'ones', 'contractions', 'exclusively', 'pop', 'cramp', 'random', 'assumes', 'flexed', 'pry', 'cramp.', 'antiretroviral', 'upset', 'considering', 'resuming', 'hiv.', 'bactrim.', 'days.', 'torticollis.', '5th', 'remembers', 'tremors', 'primidone', 'clonazepam', 'helping', 'makes', 'day-to-day', 'no-', 'klonopin', 'b.i.d.,3', 'long-acting', 'dystonia', 'endometriosis', 'sensorineural', 'deafness', 'nose.', 'laparotomy', 'et', 'lupus.', 'labor', 'urge', 'perrla', 'power', 'intentional', 'no-no', 'torticollis', 'twisted', 'illegible', 'consciousness.', 'boots', 'staircase', 'neurosurgery.', 'salsalate', 'ginsana', 'ginseng', 'rcea', 'symptoms/signs', 'tkr', 'stasis', 'participant', 'nascet', 'dental', 'part-time', 'irrr', 'nbs.', 'abrasion', 'forehead.', 'edema/erythema', 'malleolus', 'casted', 'hcts', 'anxious', 'freely', 'afraid', 'self', 'medicating', 'regards', 'si', 'hi.', 'upstrokes', '2+.', 'ecchymosis', 'metatarsal', 'nonfocal.', 'depression.,3', 'hypertension.,4', 'hypercholesterolemia.,5', 'disease.,6', 'osteoarthritis.,7', 'disease.,8', 'hypothyroidism.', 'cozaar', 'lumigan', 'nitroquick', 'pravachol', 'feldene', 'minipress', 'puff', 'timoptic', 'verapamil', 'pt.', 'spine.,2', 'syndrome.,4', 'quadriplegia.', 'hematoma.,2', 'cc.', 'april', 'beaumont', 'warren', 'michigan', 'termed', 'brings', 'subjectively', 'objectively', 'officer', 'notified', 'truly', 'quadriplegic', 'crew', 'track', 'c4', 'dermatome', 'reasons', 'regardless', 'accept', 'gurney', 'intubation', 'jackson', 'prominences', 'padded', 'caudal', 'reopened', 'exits', 'self-retaining', 'consolidated', 'scrape', 'film', 'c2', 'lamina', 'explored', 'liter', 'walls', 'french', 'percutaneously', 'steri-strips', 'precautions', 'nod', 'guarded', 'admitting', 'normal-pressure', 'hydrocephalus.', 'near-independent', 'replacement.', 'medications,1', 'peri-colace', 'nonsmoker', 'nondrinker', 'boxer', 'relatives', 'setting.', 'presently', 'supervision.', 'dyscoordination', 'gallops.', 'losses', 'cognitively', 'receptive', 'established', 'strata', 'programmable', 'ventriculoperitoneal', 'configuration', 'placed.', 'pam', 'dining', 'leveled', 'diaper.', 'cognition', 'patty', 'summarized', 'abdomen.', 'imodium', 'omega-3', 'lasix.', 'converse', 'adds', '0/.', 'cuing', 'choice', 'choice.', 'assistive', '6-8/', '-/', '-/.', 'finger-to-nose.', 'munro', 'radiologist', 'change.', 'symptotic', 'scan.', 'drivers', 'surprise', 'welcome', 'enroll', 'exceeding', 'capability', 'rigorous', 'regain', 'sufficient', 'fall/loss', '-feet', 'construction', 'scaffold', 'landing', 'cement', 'sidewalk', 'mile', 'east', 'intubate', 'garage', 'esophagus', 'succinylcholine', 'c-collar', 'bradycardia.', 'accident.', 'arthroplasty', 'fractures.', 'cigarette', 'use/occasional', 'use/social', 'wife.', 'ambu', 'bag', 'verbalization.', 'open/close', '9/7', 'nonreactive.', 'corneas', '-/+', '+/+', 'oculovestibular', 'withdraws', 'stimulation.', '1-2+', 'head.', 'misplacement.', 'contusions', 'fronto-parietal', 'seemingly', 'obliterates', 'mesencephalic', 'considerable', 'exerted', 'obliterating', 'anterolateral', 'fractures', 'petrous', 'portions', 'comminuted', 'aqueous', 'comminution', 'ethmoidal', 'zygomatic', 'articulation', 'posteriorly.', 'portable', 'xrays', 'g/dl', 'wbck/mm3', 'abg:7//', '1g/kg', 'loading', 'decompress', 'contused', 'vegetative', 'median', 'attenuated', 'robust', 'sural', 'velocity', 'forearm', 'velocities', 'amplitudes', 'diminution', 'slows', 'peroneal', 'fibula', 'f-waves', 'prolonged.', 'disposable', 'paraspinals', 'abductor', 'pollicis', 'brevis', 'interosseous', 'digitorum', 'communis', 'diabetes.,2', 'definitive', 'localization', 'made.,3', 'made.,4', 'mild.,5', 'moderate.,6', 'c8', '.,7', 'radiculitis.', 'authorization', 'lidoderm', 'patch', 'evaluation,1', 'm/sec.,5', 'm/sec.,6', 'm/sec.', 'testing,1', 'firing.,2', 'firing.,3', 'firing.,5', 'firing.,6', 'entrained', 'firing.,7', 'firing.,8', 'firing.,9', 'firing.', 'proportion', 'polyphasic', 'firing', 'activity.', 'neuron', 'edb', 'prolongation', 'minimum', 'f-wave', 'nasalis', 'recruitment', 'electrodiagnostic', 'neurons', 'mononeuropathy', 'irritable', 'release.', 'toe.', 'fdi', 'apb', 'denervation', 'interosseous.', 'c8/t1', 'moderate.,2', 'c6/c7', 'mild.,3', 'denervation.,4', 'radiculopathies', 'muscles.,5', 'extensively', 'ls', 'unrelated', 'encompassing', 'strange', 'mra', 'elucidate', 'hz', 'infrequently', 'obscured', 'tracing', 'region.', 'abnormality.', 'patterns', 'tracing.', 'awake/alert/drowsy', 'structural', 'medrol', 'dosepak', 'analgesics', 'sacroiliac', 'ankle.', 'h-reflex', 'h-reflex.', 'peroneus', 'radiculopathy.,2', 'irritation', 'radiculopathy.,3', 'microdiskectomy', 'four-month', 'gluteus', 'maximus', 'technicians', 'depakene.', 'bursts', 'approximately1', 'hyperventilation.', 'petit', 'mal', 'successful.', 'moderate-to-mild', 'referential', 'observing', 'low-to-medium', 'voltage', 'intermixed', 'fast', 'artifacts', 'omitted.', 'clear-cut', '9-', 'cycle/second', '4-7', 'abundant', 'opioid', 'dependence', 'bedridden', 'investigations.', 'hyporeflexia', 'babinskis', 'muscle.', 'inactive', 'utilizing', 'paste-on', 'gold-plated', 'electrode', 'impedances', 'kilo-ohms', 'each.', 'rhythms', 'composed', 'well-modulated', 'attenuates', 'opening.', 'enters', 'polymorphic', 'theta', 'revealing', 'diet-controlled', 'fasciitis', 'few-month', 'asymptomatic', 'h-reflexes', 'assessment.', 'purely', 'intolerance/early', 'fasting', 'sugar', 'scalp-to-scalp', 'scalp-to-vertex', 'montages', 'pleomorphic', '7-8', 'electromyographic', 'session', 'naturally', '5-7', 'lateralizing', 'digitally', 'channels', 'weaned', 'regulated', 'overbreathing.', 'frequencies', 'flickering', 'waveforms.', 'placebo', 'induce', 'exhibit', 'asynchronous', 'side-to-side', 'abruptly', 'uttering', 'non-responsive', 'well-regulated', 'pseudoseizure', 'angiogram.,2', 'transcatheter', 'infusion', 'papaverine.', 'fluoro', 'visipaque-', 'clipping', 'bifurcation', 'angio', 'suite.', 'micropuncture', 'wire', '4-french', 'heparinized', 'flush', 'glide', 'flushed', 'selectively', 'catheterized', 'subtraction', 'infused', 'sl-', 'microcatheter', 'transcend', 'platinum', 'micro', 'biplane', 'roadmapping', 'pointed', 'post-papaverine', 'leading', 'childrens', 'common/internal', 'filling', 'ophthalmic', 'distribution,2', 'normal.,3', 'dome', 'aneurysm.,2', 'milligrams', 'aforementioned', 'o2', 'rotational', 'lasts', 'rolls', 'lies', 'earache', 'ear.', 'fibrillation.,3', 'gout.,4', 'djd/rheumatoid', 'mellitus.,6', 'hypothyroidism.,7', 'hypertension.,8', 'gerd.,9', 'potassium', 'amaryl', 'furosemide', 'colchicine', 'cipro', 'ultram', 'exacerbating', 'pnd', 'energy', 'gain', 'coughs', 'breathe', '7.', 'amplify', 'touched', 'wince', 'withdraw', 'obese.', 'tympanic', 'nodes.', 'rotating', 'neck.', 'distant', 'pitting', 'shins', 'cogent', 'rehabilitation.', 'vestibuloocular', 'easy', 'breakaway', 'paresis', 'inconsistent', 'phasic', '4-4+', 'tough', 'dysmetria.', 'unassisted', 'circumduction', 'equivocal.', 'barany', 'oh', 'inspection', 'positionally', 'exaggeration', 'compounded', 'overlay', 'limiting', 'vertebrobasilar', 'antivert.', 'eng', 'antivert', 'dentist', 'breakfast', '2-3minutes', '4-5hours', 'lightheadedness.', 'azmacort', 'doxycycline', 'mdd', 'rhinitis', 'caldwell-luc', 'polypectomy', 'heme', 'ugi', 'deceased', 'salesperson', 'hct,1//', 'circumscribed', 'angioma', 'blush', 'supplied', 'maybe', 'deposition', 'ophthalmologic', 'whereas', 'closer', 'fluctuation', 'mrv', 'myasthenia', 'gravis', 'official', 'uninsured.', 'software', 'developer', 'colon', 'nasopharyngeal', 'pharynx', 'a.m.', 'private', 'ambulance', 'bedside', 'z-pak', 'cortisone', 'decongestant', 'better.', 'multivitamin.,2', 'nodes.,2', 'diskectomy.,4', 'xrt.,5', 'thalassemia.,6', 'beer', 'flooring', 'installer.', 'tumour', 'cleaned', 'ether', 'glasses.', 'appropriately.', 'assume', 'xrt.', 'nondistended.', '3-4/5', '2-3/5', 'handgrip', '5/5.', 'hematocrit', 'chem', 'ct.', 'mpression', 'non-shunted', 'neurogenic', 'moaning', 'post-ictal', 'mg.', 'g2p1', 'oz', 'gas', 'apgars', 'flu', 'gestation.', 'post-partum.', 'trained.', 'macrocephaly', 'fontanels', 'ventriculogram', 'cortex', '1cm', 'deemed', 'arrested', 'institutionalized', 'intelligible', 'inappropriately', 'words.', 'beating', 'fundoscopic', 'bound.', 'cross', '3+.', 'measurement', 'scars.', 'formed', '5-7hz', 'delta-theta', 'multifocal', 'admission,1', 'weakness.,2', 'bronchitis.,3', 'atherosclerotic', 'disease.,4', 'hyperlipidemia.,5', 'thrombocytopenia.', 'discharge,1', 'acute/subacute', 'effect.,2', 'capsule.,3', 'thrombocytopenia', 'capsule.,5', 'hyperlipidemia.', 'zithromax', 'begun', 'progressions', 'nebulizer', 'hemidiaphragm', 'chemistry', 'pt/inr', 'lvh', 'ef', 'notify', 'cellulitis', 'tinea', 'pedis.,2', 'outlet', 'obstruction.,3', 'cefazolin', 'lotrimin', 'office.', 'peeling', 'excoriation', 'pedis.', 'medical/family/social', 'indices', 'nonfasting', 'lactic', '4-9', 'high-powered', 'ceftriaxone', 'topical', 'rapidly.', 'productive', 'sufficiently', 'herniorrhaphies', '3-', 'stoke', '+pack-yr', 'appetite/selective', 'eater.', 'des', 'moines', 'clinton', 'remembered', 'incorrectly', 'spelled', 'world', 'dlow', 'neglects', 'deltoids', '4+/4-', '5-/4', 'hf4+/4-', '5-/5-', '5-/5-.', 'pp/lt/vib.', 'dysdiadochokinesis', 'dyssynergic', 'corpuscular', 'fl', '+wbc', 'uti', 'amoxacillin', 'pg/ml', 'schillings', 'dure', 'im', 'qmonth', 'thiamine', 'treated.', 'theta-delta', 'ascribed', 'asleep.', '2-mm', 'reformatted', 'occupying', 'xyz.', 'subluxation', 'spondylolysis', 'spondylolisthesis', 'neuroforamen', 'wedge/compression', 'l4-5.', 'windows', 'dilated', 'incompletely', 'exophytic', 'subluxation.,2', 'changes.,3', 'cyst.', 'comparisons', 'sequential', 'inlet', 'high-resolution', 'visualization', 'structures.', 'interpretations', ',head', 'considerations', 'calcifications', ',the', 'dislocation', 'extra-ocular', 'fracture.', 'osteopenia', 'multilevel', 'c4-c7', 'marginal', 'elements', 'facet', 'prevertebral', 'paravertebral', 'atlanto-dens', 'dens', 'maintained.', ',1.subtle', 'indicated.,2.atrophy', 'brain.,3.ethmoid', 'fracture.,4.osteopenia', 'above.,5.findings', ',axial', 'planes.', 'scout', 't-', 't-l1.', 'vacuum', 'joints', 'image', '4mm', 'extraforaminal', 'non-compressive', 'flattens', 'spasm.', 'transaxial', 'slice', 'reconstructions', 'requested.', 'hypertrophic', 'extruded', 'effaces', 'ligamentum', 'herniated', 'arteriosclerotic', 'dilatation', 'destructive', 'level.,2', 'asymmetric', 'stenosis.,3', 'level.,4', 'stenosis.,5', 'spine.,6', ',high', 'computerized', 'tomography', '3d', 'curvature', 'convex', 'joints.', 'eccentrically', 'hemilaminectomy', 'central/right', 'paramedian', 'contouring', 'postsurgical', 'spacer', 'screws', 'creates', 'streak', 'degrades', 'anterolisthesis', 'greatest', 'perivertebral', ',minimal', 'laminectomy.', 'thickness.', '5-mm', 'rounded', 'postcontrast', 'characterization', 'improving.', 'ends', 'subdurals', 'breadth', 'hygroma', 'decide', 'shape', 'gray/white', 'junctions', 'straightening', 'lordosis', 'polyp', 'spasms.,2', 'c5-c6.,3', 'assaulted', 'bleed.', 'studies.', 'reformats', 'anatomical', 'interspacing', 'sub', 'thickening.', 'rib', 'reconstructions.', 'reversal', 'facets', 'aligned', 'c1', 'ribs', 'element', 'phonation', 'trans-thoracic', 'humerus', 'claustrum', 'home.,5', 'waxed', 'waned', 'seizure-like', 'tenormin', 'hctz', 'endarterectomies', 'errors.', 'flexion.', 'walk.', 'wnl', 'mcg/ml', 'lbbb', 'evacuated', 'y/orhm', 'resolves', 'covers', '4vessel', 'd/o.', 'loss/fever/chills/night', 'sweats/cp/sob', 'cramping', 'claudication', 'periods.', 'accupril', 'cellufresh', 'tears', 'wtkg', 'studies/course', 'calcific', 'two-thirds', 'metastatic', 'neuroradiologic', 'mineralization', 'apices', 'a7', 'meclizine', 'facial/lue/lle', 'arrhythmia', 'lip', 'yr', 'xl.', 'pp/temp/lt/prop/vib', 'drag.', 'loculated', 'frontotemporoparieto-occipital', 'shift.', '1/3/', 'teaspoons', 'odd', 'fisted', 'seek', '1/4/', '1/5/.', 'micronase', 'vitrectomy', 'traction', 'detachment', 'cholecystemomy', 'grand', 'relatives.', 'reading.', '/4', 'kf5/5', 'pp/vib/prop/lt/t/graphesthesia.', 'n0', 'invoke', 'raca', 'territory', 'heubner', 'vomited', 'collapsed', 'mothers', 'fecal', 'sexually', 'drug/etoh/tobacco', 'contraceptive', 'prefer', 'pain/stiffness', 'questioned.', '5/3', 'hemiparesis.', 'perimesencephalic', 'parietotemporal', '4-vessel', 'transit', 'thromboses', 'cbc/blood', 'cx/esr/pt/ptt/gs/csf', 'cx/ana', 'cmh', '7lymphocytes', 'proteinmg/dl', 'glucosemg/dl', 'cx', 'assumed', 'mid-temporal', 'anticonvulsant', 'mowers', 'finances.', 'throwing', 'pillows', 'blankets', 'involvement.', 'nph', 'humulin', 'u', 'qam', '6u', 'qpm', 'engine', 'mechanic', 'shop', 'latent', '0/3', 'presidents', 'read/write', 'pursuits', 'okn', 'guggenheim', 'resistance', 'unreliable.', 'wide-based.', 'trace/trace', 'area.', ',1//', 'quadrant', 'vergae', 'screens', 'csf,1//', 'beta2', '3mg/l', 'false', '3/mil/mm3', '5k/mm3', 'k/mm3', 'retic', '/1k/mm3', 'mcg/dl', '0mg/dl', 'bx', 'stores', 'realms', 'visuospatial', 'arrhythmatic', 'dysfluent', 'discharged1//', 'senile', 'reflecting', 'anorexia', 'myalgias', 'travel', 'homosexuality', 'staphylococcus', 'aureus', 'oxacillin', 'sensitive', 'antibiotic', 'sensitivity', '..', 'damaged', '7/4/', 'nafcillin', '2gm', 'q4hrs', 'rifampin', 'qhrs', 'gentamicin', 'qhrs.', 'nodded', 'output.', 'roth', 'spots', 'test.', 'holosystolic', 'precordium', 'janeway', 'oslers', 'nodes', '7/6/', 'swell', 'judes', 'peg', '8/6/', 'chronologic', 'documentation', 'brace', '4.', 'tongue-biting', 'spheres', 'acuity.', 'symptomatology', 'shadow', 'pharmacologically', 'fnf-ram-hks', 'carotid/cranial', 'suprasellar-sellar', 'giant', 'aphasic', '1/7/', 'basal-ganglia', 'selverstone', 'clamp', '3/9/', 'thrombosed', 'nimodipine', 'dead', 'organs', 'donated', 'transplant', 'leukemia', 'phase', 'profound', 'hemispheric.', 'electronic', 'curved', '4x6cm', 'gelatinous', 'peeled', 'sort', 'investigated', 'disrupt', 'plates', 'ensure', 'actual', 'closing', 'decline.', 'vail', 'colorado', 'murder', 'wrote', 'gathering', 'unbeknownst', 'assassin', 'boarding', 'hid', 'toy', 'carry-on', 'luggage', 'alarm', 'surrounded', 'searched', 'interrogated', 'unusually', 'brushed', 'chuckle', 'mentation', 'game', 'florist', 'carrying', 'flower', 'arranging', 'cash', 'register', 'veer', 'recognize', 'dementing', 'attained', 'sharing', 'caring', 'penmanship', 'child-like', 'halting', 'page.', 'quadrantanopsia', 'bordering', 'extinguishing', 'field.', 'circumambulate', 'target.', 'parietal-occipital', 'spongiform', 'creutzfeldt-jakob', 'heidenhaim', 'san', 'francisco', 'vacuolization', 'cingulate', 'hypothalamus', 'pallidus', 'insula', 'amygdala', 'hippocampus', 'entorhinal', 'parahippocampal', 'hydrolytic', 'autoclaving', 'prp-specific', 'protease', 'prp', 'cjd', 'tumor.,2', 'image-guided', 'neuronavigation', 'tumor.,3', 'micro-magnification', 'tumor.', 'carcinoma.', 'wheeled', 'sugita', 'frame', 'secured.', 'fiducials', 'sterilely', 'draped.', 'raney', 'clips', 'retracted', 'holes', 'rectangular', 'discolored', 'irritated', 'margins.', 'coagulate', 'layer', 'paddies', 'margins', 'laterally.', 'cored', 'coagulation', 'lined', 'surgicel', 'watertight', 'craniofix', 'fixators', 're-approximated', 'listed', 'multiforme.', 'craniotomy.,2', 'stealth.', '2-point', 'skeletal', 'inverted-u', 'asterion', 'craniotome', 'soaked', 'solution.', 'stealth', 'trigone', 'labbe', 'preserve', 'guidance', 'yellowish', 'necrotic', 'submitted', 'greenwood', 'gliotic', 'cottonoid', 'correct.', 'delineate', 'interface', 'vague', 'cleavage', 'necrotic-looking', 'retrosigmoid', 'remnant', 'cerebellopontine', 'angle', 'milliamperes', 'dissections.', 'periauricular', 'transdermal', 't-shaped', 'crease', 'undermined', 'elevator', 'periosteum', 'emissary', 'bergen', 'irrigation', 'window', 'shavings', 'siloxane', 'suspension', 'occlude', 'aerated', 'trask', 'retractor', 'directed', 'porous', 'acusticus', 'intracanalicular', 'trigeminal', 'eighth', 'transected', 'retraction', 'redirected', 'evulsed', 'indistinct', 'thinned', 'crucially', 'splayed', 'establish', 'delineated', 'cusa', 'ventrally', 'cauterized', 'percentage', 're-inspected', 'subdermal', 'multiple.', 'breast.', 'inner', 'cusa.', 'supplement', 'localize', 'quadrilateral', 'tense', 'pulsate', 'wash', 'extend', 'reapproximating', 'mattress', 'hemodynamically', 'operation.', 'biparietal', 'guided-ventriculostomy', 'craniopharyngioma.', 'eleventh', 'decompressed', 'wider', 'healed.', 'oncologist', 'lamotrigine', 'complaint.', 'remarkable', 'hydrochlorothiazide.', 'flagyl', 'aspirin.', 'obesity.', 'tap.', 'cryptogenic', 'lamotrigine.', 'weaning', 'wants', 'concur.,3', 'generalization', 'dyslipidemia', 'scooter', 'hitting', 'responsiveness', 'carbatrol', 'emu', 'apnea.', 'avapro', 'remember.', 'gasping', 'apneas', 'eds', 'smile', 'elevation', 'limp', 'hyperactive', 'upgoing', 'friedman', 'crowding', 'bmi', 'high.', 'seizures.,2', 'dyslipidemia.,4', 'apnea.,5', 'days.,2', 'medications.,3', 'management.,4', 'subtentorial', 'infratentorial', 'parietooccipital', 'cancer.,2', 'guidance.,3', 'tumor.,4', 'microtechniques', 'above.,5', 'ultrasound.', 'radiation-oncology', 'consequently', 'fiducial', 'soak', 'scrub', 'paint', 'drapes', 'delicate', 'co-surgeons', 'parts', 'choroidal', 'sacrificed', 'caudally', 'draining', 'relieving', 'necessitating', 'ventriculostomy.', 'countered', 'piecemeal', 'ultrasonic', 'aspirator', 'hopes', 'rather', 'pharyngeal', 'diameter.', 'glue', 'ethibond', 'locking', 'nylon.', 'tack-ups', 'thrombin-soaked', 'microplates', 'l.', 'hespan', 'crystalloid.', 'survival', 'lady', 'uncontrolled', 'maxalt', 'confused.', 'migraine.', 'abdominoplasty.', 'profession.', 'medication.', 'immunology', 'temple', 'cyanosis.', 'polyarthritis', 'moyamoya', 'takayasu', 'kawasaki', 'fioricet', 'basis.', 'subacute', 'microtechniques.', '6-week', 'mississippi', 'undefined', 'layering', 'ahead.', 'supported', 'cushion', 'betadine-soaked', 'markings', 'divide', 'weitlaner', 'cosmesis', 'cutter', 'literally', 'nick', 'membranous', 'membrane', 'coagulated', 'septations', 'tack-up', 'membrane.', 'violated', 'revaluation', 'instrumented', 'wheelchair.', 'incontinent', 'apathetic', 'vote', 'presidential', 'election', 'carbidopa/levodopa', 'citalopram', 'celexa', 'finasteride', 'tamsulosin', 'omeprazole', 'senna', 'promethazine', 'needed.', 'atraumatic.', 'pentagons', 'subtractions', 'stutters', 'stammers', 'mimic.', 'expiration', 'tremor.', 'mimicking', 'leans', 'getup', 'bear', 'zero.', 'perisylvian', 'aqueduct.', 'ventricles.', 'palsy.,3', 'impairment.,4', 'incontinence.,5', 'facts', 'answer', 'printed', 'identification', 'rested', 'doughnut', 'putative', 'frontally', 'boss', 'inch', 'fashioned', 'perforator', 'punch', 'cruciate-type', 'egress', 'sometime', 'returning', 'balances', 'checkbook', 'taxes', 'meals', 'dishes', 'forgot', 'forget', 'birthdays', 'miss', 'estranged', 'corroborate', 'santa', 'cruz', 'ideas', 'fiorinal', 'greatly', 'rigidities', 'personal', 'anyone', 'else', 'group.', 'mesothelioma', 'operations', 'rear-enders', 'dose.', 'companion', 'munich', 'germany', 'immigrated', 'america', 'eastern', 'occupation', 'clerical', 'ibm', 'bilingual', 'german', 'teens', 'equivalent', 'spend', 'grandchildren.', 'whatever', 'sister.', 'fumbles', 'oconnor', 'orange', 'county', 'antalgic', 'tactfully', 'stigma', 'lengthy', 'expressed', 'genuine', 'dmv', 'explicitly', 'simvastatin.', 'fold.', '5-/5', 'hypoactive', 'symmetrical.', 'cane.', 'strict', 'optimizing', 'twitching.', 'twitch', 'suppress', 'grimacing', 'aleve', 'lastly', 'daydreaming', 'non-stimulating', 'environments', 'television', 'till', 'wakes', 'reliably', 'uninterrupted', 'snore', 'breath.', 'charts.', '-system', 'lobular', 'experiences.', 'twitching-appears', 'now.,2', 'responds', 'nonsteroidal', 'antiinflammatories', 'needed.,3', 'circadian', 'nighttime', 'insufficient', 'hygiene', 'full-night', 'vacation', 'helpful.,4', 'change.,5', 'voiced', 'torsional', 'eliminated', 'hypertropia', 'graves', 'echography', 'orbitopathy', 'tensilon', 'pseudogaze', 'mestinon', 'viokase', 'probenecid', 'gastric', 'pancreatic', 'pp/vib/lt/prop/temp', 'coordination/station/gait', '4x2x4cm', 'centrally', 'mediastinal', 'thymoma', 'emphysematous', 'granulomas', 'perihilar', 'thoracotomy', 'capsular', 'pleural', 'phrenic', 'receptor-binding', 'nmol/l', 'modulating', 'striated', 'lifting', 'objects.', 'stating', 'jars', 'doors', 'scare', 'nonoperative', 'hoffman', 'clonus.', 'flexion-extension', 'views.', 'updated', 'c4-5.', 'c5-6.', 'discussing', 'natural', 'options.', 'interventions.', 'intervention.', 'model.', 'understands.', 'alternative', 'singular', 'hoarseness', 'pseudoarthrosis', 'hoarse', 'birthday', 'tentative', 'contractor', 'resources', 'consultant.', 'begins', 'hmo', 'made.', 'nocturia', 'urodynamic', 'overactive', 'ditropan', 'rheumatologists', 'learned', 'live', 'time-to-time', 'stilts', 'supports', 'podiatrist', 'tire', 'neurologist.', 'immunomodulatory', 'sclerosis.', 'avonex', 'dizzy', 'also.', 'supplements', 'wore', 'again.', 'zanaflex', 'benefit.', 'one-half', 'spasticity.', 'agents.', 'fatigability', 'dysfunction.', 'lobster', 'vicodin', 'iodine.', 'above-indicated', 'radiological', '1-tesla', 'magnet', 'dawsons', 'spines', '0-tesla', 'newer', 'suboptimal', 'complexities', 'one.', 'ºf', 'lb', 'vi', 'accommodation.', 'vii', 'asymmetry.', 'viii', 'hears', 'weber', 'rinne', 'ix', 'xi', 'contracture.', '5-point', 'right/left', 'eight-week', '-day', 'believing', 'voiding.', 'rebuilt', 'starlix', 'one-and-one-half-packs', 'sales', 'golfer', 'alert.', 'hammertoe', 'descends', 'mid-portion', 'spondylolisthesis.', 'sedimentation', 'kyphotic', 'conjunction', 'generated', 'plan.', 'workouts', 'wobbly', 'trigger', 'relieves', 'mris', 'ocular', 'migraines.,2', 'myomectomy.,3', 'infertility.,4', 'hyperglycemia.,5', 'asthma.,6', 'pulmicort', 'allegra', 'patanol', 'duac', 'loprox', 'rhinocort.', 'penicillin', 'paralegal', 'specialist', 'vigorously', 'exercising', 'palm', 'downgoing.', 'broadly', 'c3-c4', 'myelopathy.', 'contributed', 'telephonically', 'hypotonia', 'tonsils', 'matter.', 'zyrtec', 'penicillin.', 'recur', 'distracted', 'yawned.', 'inhomogeneous', 'blend', 'signals', 'dyslexia', 'hospitalizations.', 'pgf', 'attends', 'classes.', 'interactive', 'palpated.', 'ependymoma', 'neurocytoma', 'rcca', 'avascular', 'hypoplastic', 'fetal', 'neuroradiology', 'inclusive', 'glial', 'staining', 'angioma/malformation', 'y/orhf', 'choking', 'unequal', 'ophthalmologist.', 'hyperopia', '1year', 'abortions', '4/2', '3/1', 'deviates', 'prop/vib', 'fnf/hks/ram', 'carotid/vertebral/cranial', '2/2/', 'medullary', 'neuro-opthalmology', 'horners', 'otolaryngologic', 'vocal', 'glottic', 'invention', 'obscurations', 'clinoid', 'quinidine', 'tenormin.', 'vbg', 'briquets', 'hysterical', 'cll', 'chlorambucil/prednisone', 'snhl', 'neuro-ophthalmologic', 'neuro-ophthalmology.', 'xxmm', 'paraclinoid/ophthalmic', '5x7mm', 'unclippable', 'fluctuating', 'showering', 'cheyenne', 'wyoming', 'removed.', 'cigar', 'driver.', 'subhyaloid', 'pp/vib.', 'vasospasm', 'laca-lpca', 'watershed', 'occlusive', 'disease.,2', 'angiogram.', 'crater', 'punctured', '5-french', 'introducer', 'protamine', 'firm', 'coverlet', 'sandbag', 'grayscale', 'employed.', 'patency', 'waveform', 'peak', 'm/second', 'end-diastolic', 'eca', 'm/second.', 'psv', 'edv', ',left', 'precise', 'ica/psv', 'ica/edv', 'spectral', 'broadening', 'positions', 'rectum', 'pack-year', 'sinusitis.', '/palpable', 'fatigued.', 'meq/l', '1mg/dl', 'nl', 'sg', 'iu/ml', '0ng/dl', 'mosm/kg', ',course', 'hydrated', 'hypotension', '-hrs', 'aldosterone', '2ng/dl', 'cortrosyn', 'pre', '6ug/dl', 'ug/dl', 'prolactin', 'ng/ml', 'fsh', 'lh', 'testosterone', 'ng/dl', 'tursica', 'clinoids', 'opacity', 'air-fluid', 'hrs', 'discontinuation', 'stroke/tia', 'ml.', 'electrode.,2', 'electrode.,3', 'microelectrode', 'structures.,4', 'volumetric', 'determination.,5', 'programming', 'device.', 'candidate', 'below.', 'accepted', 'consented', 'anesthetizing', 'mixture', '3-d', 'coordinates', 'ac-pc', 'midpoint', 'coordinates.', 'bossings', 'sterilized', 'soap', 'scrubbing', 'perimeter', 'mixture.', 'grooves', 'stryker', 'curetted', 'nicked', 'arc', 'dialed', 'signatures', 'recognized', 'stimulating', 'dbs', 'loaded', 'screener', 'box', 'parameters', 'bur-hole', 'cap', 'remounted', 'passes', 'desired', 'trajectory', 'subgaleal', 'whereby', 'tunnel.', 'subgaleally', 'instituted', 'fascial', 'nurses', 'clockwise', 'nausea/vomiting/headache', 'bout', 'audiogram', 'ad', 'whistle', '6cm', 'menieres', 'embolization', 'embolizations', 'cannulate', 'abandoned', 'hemisensory', 'interventricular', 'conservatively', 'reconsidered', 'neurointerventional', 'barrows', 'phoenix', 'az', 'eating.', 'prematurely', '2oz.', 'asd', 'cardboard', 'disabled.', 'stature', 'tilt', 'hypesthesia', 'arnold', 'invagination', 'pontomedullary', 'descension', 'transpalatal/pharyngeal', 'pons/medulla', 'clivus/odontoid', 'halo', 'vest', 'philadelphia', '4/8/', 'demerol', 'lotensin', 'lopid', 'darvocet.', 'liquids', 'deviate', 'neither', 'smiles', 'flattening.', '2+/4+', 'tinel', 'wrist.', 'face.', 'bell', 'anterolaterally', 'assured', 'valtrex', 't.i.d', 'starts', 'forgotten', 'tonic/clonic', 'palpitation', '2-4', 'quandranopia', '4mcg/ml.', 'uncus', 'spiculated', 'lung.', 'with/without', 'low-average', 'substitution', 'functions', 'gfap', 'achy', 'arm.', '-year', 'sugars', 'interfere', 'nagging', 'actoplus', 'androgel', 'astelin', 'dolgic', 'multivitamins', 'nasacort', 'ranitidine', 'viagra', 'patches', 'creams.', 'itchy.', 'dribbling', 'paramyotonia', 'jerk.', 'casual', 'one-year', 'referable', 'treat', 'damage', 'low.,2', 'him.,3', 'neuro-oncology', 'anaplastic', 'astrocytoma.', 'ambivalent', 'emphasizing', 'frankly', 'unwarranted', 'friend', 'radiation.', 'worrisome', 'approaching', 'compliance', 'recommending', 'convince', 'amazingly', 'ethical', 'devised', 'temodar', 'mg/sq', 'thalidomide', 'mg/day', 'accutane', 'spirit', 'resigned', 'happen', 'term.', 'apprised', 'followups', 'me.', 'sincerely', 'ictal', 'fatigue.', 'g4', 'incubator', 'jaundiced', 'peculiar', 'parasagittal', 'sioux', 'elementary/junior', 'high/high', 'antiepileptic', 'combinations', 'acetazolamide', 'mysoline', 'averaged', 'undergoes', 'plant', 'growth', 'year.', 'sr', 'ecotrin', 'coumadin.', 'presyncope', 'fibrosis/calcification', 'stenosis/insufficiency', 'mv', 'tr', 'ivg', 'muga', 'biventricular', 'rv', 'rheumatic', ',2ppd', 'claims', 'bp/.', 'cn7', 'dysmetric', 'shuffling', 'bradykinetic.', '3/6', 'precordium.', 'crackles.', 'stuporous', 'hypointense', 'temporal/parietal/occipital', 'numbers', 'parish', 'catholic', 'priest', 'professional', 'faux', 'pas', 'mishaps', 'referral.', 'sulfa', 'ninth', 'decades', 'words/', 'sec', 'constructive', 'extrapyramidal', 'primitive', '3/6/', 'performances', 'clock', 'scope', 'occipital-parietal', 'regions.', 'retrieval', 'exclusive', 'lobes.', 'pulled', 'pile', 'letters', 'curtain', 'shade', 'surroundings', 'concurrently', 'grating', 'calls', 'sounded', 'perseverated', 'account', 'muscatine', 'items/', 'lipid', '3/6/.', 'picking', 'books', 'changes.,1/8/', 'graphesthesia', 'pastoral', 'fdg-pet', 'uptake', 'temporal-parietal', 'lovely', 'danish', 'husband.', 'broadened', 'stooped', 'pasture', 'touches', 'stabilize', 'festinate', 'broke', 'trips', 'pay', 'continuing.', 'deliveries.', 'grade.', 'sulfa.', 'vilheim', 'q.o.d.', 'aciphex', 'caltrate', 'b-complex', 'vitamins', 'woman.', 'quick', 'horns', 'bowed', 'methods', 'alternatively', 'connor', 'apr', 'perineal', 'bottom', 'ostomy', 'output', 'well-healed', 'ileostomy', 'hemiabdomen', 'pink', 'protuberant', 'hernias', 'brat', 'digestive', 'bananas', 'rice', 'cheese', 'peanut', 'butter', 'preferential', 'liters', 'refraining', 'fruit', 'moreover', 'error', 'finishes', 'postsurgically', 'exercises', 'checkup', 'es', 'esophageal', 'body.', 'penny', 'esophagus.', 'grasped', 'coin', 'forcep', 'erosions', 'umbilical', 're-formed', 'tack', 'fascia.', 'benzoin', 'lots', 'environmental', 'vomitus', 'agree.', 'healthy-appearing', 'middle-aged', 'rales', 'wheezes.', 'normochromic', 'normocytic', 'bmp', 'apple', 'juice', 'gastroenteritis.', 'rx', 'tabs', 'dispense', 'sig', 'urged', 'advancement', 'dairy', 'products', 'unimproved', 'impaction.', 'saliva', 'lunch', 'beef', 'stew', 'finish', 'meal', 'perforation', 'impaction', 'conscious', 'particles', 'meat', 'bolus', 'clearing', 'carrots', 'propofol', 'reintroduced', 'net', 'snare', 'grabbed', 'submucosal', 'stricture', 'passage', 'attempted.', 'pureed', 'solutab', 'obstruction.,2', 'off.', 'triple-lumen', 'subclavian', 'percutaneous', 'technique.', 'slipped', 'deltopectoral', 'cannulated', 'seldinger', 'ports', 'solutions.', 'applied.', 'postprocedure', 'tests.', 'heterogeneously', 'echotexture', 'fatty', 'gallbladder', 'bile', 'duct', 'caliectasis', 'caliber.', 'ducts', 'ercp', 'mrcp', 'exclude', 'obstructing', 'complete.', 'aids.', 'echogenicity', 'gallstones', 'sludge', 'pericholecystic', 'pancreas', 'walled', 'vena', 'cava', 'cysts', 'calculi', 'hydronephrosis', 'spleen', 'ascites', 'echogenicity.', 'appearance.,3', 'rupture.', 'performed,1', 'collection.,2', 'perforation.,3', 'laparoscopy', 'gastrostomy.,4', 'gastrostomy', 'interpretation.', 'sticking', 'retching', 'gastrostomy.', 'beanbag', 'padding', 'deflated', 'finochietto', 'shingled', 'sampled', 'sealed', 'crepitus', 'friability', 'intercostal', 'cover', 'tubes', '0-silk.', 'laparoscopic', 'veress', 'pneumoperitoneum', 'bladeless', 'separator', 'trocar', 'laparoscope', 'nasogastric', 'orogastric', 'insufflation', 't-fasteners', 'accessed', 'dilators', 'apposition', 'crimped', 'content.', 'hernia.', 'minimal.', 'infraumbilical', 'approximate', 'reattached', '4s', 'gastrocutaneous', 'fistula', '1-year-old', 'elliptical', 'freed', 'amputated', 'intervening', 'lembert', '5-0', 'neck.,2', 'ethanol', 'placement.,2', 'stamm', 'gastrotomy', 'tube.,3', 'lysis', 'adhesions.,4', 'colotomy.', 'crystalloid', 'thirty', 'foley.', 'peritoneal', 'adhesions', 'liver.', 'indigent', 'tonsil', 'enteral', 'route', 'conversion', 'therapy.', 'insufflated', 'midportion', 'darkened', 'fingerbreadths', '1-1/2', 'repositioning', 'endoscopically', 'convert', 'linea', 'alba', 'lysed', 'pursestring', 'interior', 'stitch', 'exterior', 'vanderbilt', 'bard', 'inkwell', 'tacked', 'torsion', 'washed', 'initiation', 'colotomy', 'oversewn', 'postanesthesia', 'cholecystitis', 'anatomy', 'lengthened', 'ileus', 'tetracycline', 'diet.', 'rate.', 'tender.', 'transfusion', 'bicarbonate', 'alkaline', 'phosphatase', 'improve.', 'strengthening', 'tpn', 'fussy.', 'nursery', 'milk', 'up-to-date.', 'kilogram.', 'wheezing.', 'palpable.', 'genitalia', 'male.', 'perianal', 'playful.', 'possibilities', 'meckels', 'diverticulum', 'meckel', 'colonoscopy', 'rast', 'cow', 'soy', 'wheat', 'egg', 'biliary', 'atresia', 'kasai', 'allergies.,2', 'cavities.', 'molar', 'lactose-limited', 'lindsay', 'colitis.', 'date.', 'gums', 'lymphatic', 'retractions.', 'hepatosplenomegaly', 'hairy', 'dimple.', 'developmentally', 'tacrolimus', 'epstein-barr', 'detected.', 'atresia.,2', 'orthotopic', 'transplantation.,3', 'cavities.,4', 'allergies.,5', 'infections.', 'prograf', 'valganciclovir', 'months.,4', 'months.,5', 'cavities', '2-day', 'distention', 'afs', 'eaten', 'llq.', 'vietnam', 'war', 'alcoholism', 'cocaine', 'appendicitis', 'hematoma/contusion', 'hodgkins', 'paralytic', 'transfusions', 'chorioretinitis', 'crack', 'bill', 'laparotomies', 'enterolysis', 'anaphylaxis', 'seafood/shellfish.', 'collects', 'pension.', 'health-related', 'behaviors', 'anemia.', 'pleuritic', 'hemoptysis.', '8/.,2', 'cipro.,2', 'lomotil.', 'saturating', 'x3.', 'exudates.', 'distention.', 'guarding.', 'troponin', 'colitis.,2', 'sepsis.,3', 'ys', 'group.,2', 'levaquin', 'flagyl.,3', 'fluids.,4', 'wbcs', 'diff.,5', 'pathology.,6', 'ppi', 'pud', 'sigmoidoscopy.', 'sublazine', 'midazolam', 'biopsies', 'brushings', ',procedure', 'adverse', 'opportunity', 'sigmoidoscope', 'vs', 'bends', 'retroflexed', 'hemorrhoids', 'bend', 'sigmoidoscopy', 'ultrasound-guided', 'paracentesis', 'ascites.', 'ultrasonography', 'yueh', 'crossing', 'serous', 'transanal', 'polypoid', 'raw', 'taped', 'parks', 'rotations', 'corner', 'figure-of-eight', 'protein-calorie', 'malnutrition.', 'sustain', 'caloric', 'nutritional', 'supplementation.', 'egd', 'transilluminated', 'poke', 'method', 'guidewire', 'endoscopist', 'ponsky', 'guidewire.', 'snug', 'photos', 'bolster', 'separately', 'feedings', 'paracentesis.', 'endometrial', 'pigtail', 'cat', 'pelvis.', 'accumulation', 'achieving', 'preparing', 'draping', 'acalculous', 'cholecystitis.', 'local.', 'condition.', 'gallbladder.', 'hemiarthroplasty', 'orthopedics', 'steroid-dependent', 'opted', 'cholecystostomy', 'postdrainage', 'tubing', 're-obstructed', 'hida', 'cholecystogram', 'pathway', 'ventilator', 'serosal', 'scalpel', 'electro', 'transrectus', 'hemostats', 'clamps', 'tree', '______', 'tie', 'hemostatic', 'peritoneum', 'nissen', 'fundoplication.', 'detailing', 'lithotomy', 'teds', 'venodynes', '-french', 'bougie', 'cardioesophageal', 'one-third', 'xiphoid', 'gaining', 'hasson', 'fitted', 'funnel-shaped', 'adaptor', 'carbon', 'dioxide', 'steady', '-degree', 'trocars.', 'trocars', 'langers', 'spreading', 'depressing', 'midclavicular', 'supraumbilical', 'costal', 'triangular', 'ligament', 'sharply', 'superolaterally', 'fan', 'gastrohepatic', 'anteromedially', 'phrenoesophageal', 'hiatal', 'orifice', 'crus', 'plane.', 'liberation', 'diaphragmatic', 'pars', 'flaccida', 'omentum', 'preserving', 'crura', 'gastrophrenic', 'pouch', 'intramediastinal', 'elongated', 'intra-abdominal', 'ligation', 'gastrosplenic', 'harmonic', 'gastroepiploic', 'arcade', 'lifted', 'babcock', 'mesoesophagus', 'confirmation', 'visualizing', 'penrose', 'retroesophageal', 'channel', 'antireflux', 'valve.', 'lowered', 'repaired', 'orifice.', 'grab', 'forming', 'wrap', 'calibrate', 'postanesthetic', 'defecation.', 'defecation', 'defecating', 'mucopurulent', 'transmitted', 'feverish', 'condom', 'sexual', 'uninfected', 'familys', 'disclosing', 'adults', 'disclosure', 'men', 'accessing', 'unaccompanied', 'adult.', 'non-toxic', 'discomfort.', 'plaque-like', 'buccal', 'mucosa.', 'anterior/posterior', 'chains-', 'quiet', 's1/s2', 'hepatosplenomegaly.', 'tanner', 'penile', 'bilaterally.,1-2', 'epitrochlear', 'mucous.', ',hbg', 'gm/dl', 'thou/µl', 'lymphocytes,1', 'eosinophils,4', 'u/l', 'ast=', 'erythrocyte', 'swab', 'constitutional', 'proctitis', 'proctocolitis.', 'seroconversion', 'commonly', 'required.', 'intercourse', 'concurrent', 'std', 'neisseria', 'gonorrhoeae', 'rna', 'pcr.', 'key', 'adolescent', 'opposed', 'identifying', 'provider', 'ideal', 'circumstances', 'crucial', 'newly', 'providers', 'sexuality', 'nonjudgmental', 'applying', 'labels', 'integral', 'assuming', 'heterosexuality', 'same-sex', 'attractions', 'urine-based', 'expanded', 'misses', 'infections', 'pcr', 'presumptively', 'trachomatis', 'meet', 'manager', 'adolescent-specific', 'linked', 'sets', 't-lymphocyte', 'cells/mm3', 'quantitative', 'copies/ml', 'jaundice', 'thin-slice', 'pseudocyst', 'tail', 'strictured', 'modest', 'phenergan', 'alk', 'phos', 'hypoglycemics', 'sliding', 'pelican', 'bay', 'infirmary', 'meetings', 'cost', 'morbidity', 'p.r.n.,2', 'duragesic', 'q.d.,3', 'q.i.d', 'pruritus.,4', 'reinstituted', 'infirmary.,5', 'meantime', 'hispanic', 'bloating', 'lease', 'las', 'cruces', 'silver', 'anybody', 'gila', 'wrong', 'chills.', 'bilateral.', 'costovertebral', 'psyche', 'collect', 'panels', 'alpha-fetoprotein', 'impressive', 'calling', 'information.', 'cause.,1', 'opiate', 'opiates', 'physician.,2', 'end-stage', 'investigation', 'gastroenterologist', 'unnecessary', 'vaccination', 'preclude', 'alcohol-related', 'nuclear', 'psc', 'alpha1-antitrypsin', 'coagulopathy', 'that.', 'educated', 'bradycardic.', 'offices', 'over-eat', 'starve', 'seizure.,2', 'hypoglycemia.,3', 'anemia.,4', 'hypotension.,5', 'dyspnea.,6', 'hemicolectomy.,2', 'anemia.,3', 'hospital-acquired', 'pneumonia.,4', 'hypertension.,5', 'failure.,6', 'colonoscopy.,2', 'hemicolectomy.', 'hypoglycemia', 'necessary', 'gastroparesis', 'j-tube', 'hyperglycemia', 'rates', 'course.', 'endocrinologist', 'midnight', 'gastroenterologists', 'flexure', 'hemicolectomy', 'feeds', 'predischarge', 'septic-like', 'zosyn', 'vancomycin', 'mrsa', 'instructions/medications', 'shy', 'strenuous', 'isotonic', 'bedtime.,3', 'nitro-dur', 'syrup', 'p.r.n.,5', 'daily.,6', 'daily.,7', 'daily.,8', 'bedtime.,9', 'ferrous', 'nexium', 'breakfast.', 'carbonate', 'mg/vitamin', 'mg/', 'j-tube.', 'telephone', 'lidocaine.', 'peritonitis', 'pneumothorax', 'freely.', 'dullness', 'mid-axillary', 'povidone', 'bard-parker', 'klatskin', 'cores', 'histologic', 'post-procedure', 'light-headedness', 'vaccines', 'stabbed', 'knife', 'premenopausal', 'daily.,2', 'daily.,3', 'cholecystitis/cholecystectomy', 'tubal', 'transcriptionist.', 'morbidly', 'groomed', 'icterus', 'injected.', 'rovsing', 'popliteal', 'dorsalis', 'pedis', 'integumentary', 'excellent.', 'diagnostics', 'gravity', 'rbcs', 'polys', 'lymphs', 'lipase', 'mentions', 'appendix', 'discretely', 'pneumoperitoneum.', 'unclear.', 're-examine', 'appendicitis.', 'suppurative', 'laparoscopy.,2', 'appendectomy.', 'injectable', 'marcaine.', 'appendix.', 'suprapubic', 'non', 'ovary', 'adnexal', 'fallopian', 'uterus', 'fibroid', 'bladed', 'portal', 'create', 'dissector', 'mesoappendix', 'cecum', 'endovascular', 'stapling', 'doubly', 'staple', 'aspirated', 'fascias', '0-vicryl', 'ur6', 'undyed', 'esophagitis', 'dictated', 'value', 'inhibitor', 'nsaids', 'wheezing', 'yellow-brown', 'sputum', 'laryngitis', 'pharyngitis', 'denying', 'diarrhea.', 'arouses', 'pink.', 'tones', 'fingertips.', 'laboratories', 'bicarb', 'saturations', 'cea', 'occult', 'impression/plan,1', 'exacerbation.,2', 'omnicef', 'azithromycin', 'guaifenesin', 'n-acetyl-cysteine', 'secretions', 'normalized', 'complications.,3', 'encourage', 'bloodless', 'urging', 'guaiac-positive', 'factors.,4', 'capacity', 'malnutrition', 'trends', 'adjusting', 'excess', 'morbid', 'roux-en-y', 'antecolic', 'antegastric', '-mm', 'eea', 'anastamosis', 'esophagogastroduodenoscopy', 'diets', 'programs', 'comorbidities', 'bariatric', 'seminar', 'dietician', 'psychologist', 'handout', 'evidenced', 'signing', 'devices', 'pain.,2', 'postoperatively.', 'postoperatively.,3', 'uterine', 'perforation.,4', 'rigid', 'scant.', 'gravida-1', 'para-1', 'hysteroscopy', 'curettage', 'bimanual', 'anteverted', 'mobile', 'serosanguineous', 'cul-de-sac', 'ovaries', 'sidewall', 'speculum', 'vagina', 'vulsellum', 'tenaculum', 'manipulator', 'gloves', 'insufflate', 'camera', 'pubic', 'probe', 'suctioned', 'nezhat-dorsey', 'instruments', 'desufflate', 'lap', 'colic.', 'choledocholithiasis', 'cholangiogram', 'choledocholithotomy', 'choledochoscopy', 't-tube', 'duct.', 'hemodialysis', 'nonvisualization', 'vertically', 'stuck', 'subhepatic', 'subxiphoid', 'subcostal', 'undersurface', 'infection/inflammation', 'intra-abdominally', 'laparoscopically', 'bookwalter', 'scarred', 'shrunk', 'centimeter', 'duodenum', 'kocherized', 'partly', 'intrahepatic', 'dig', 'stones', 'probing', 'pressing', '1-cm', 'rubber', 'generously', 'ampulla', 'vater', 'choledochoscope', 'floating', 'confluence', 'impressing', 'burn', 'subdiaphragmatic', 'jackson-pratt', 'winslow', 'novafil', 'subfascial', 'gangrenous', 'cholelithiasis.', 'cholangiogram.', 'bile/pus', 'ebl', 'stones.', 'epigastrium', 'constituting', 'serially', 'jp', 'trochar', 'irrigator', 'reinforced', 'figure-of-8', '1/4', 'adapter', 'bisect', 'cephalad', 'reducer', 'triangle', 'calot', 'clip', 'applier', 'ligate', 'fine-tipped', 'ductotomy', 'cholangiocatheter', 'angles', 'aborted', 'cholangiography', 'occluding', 'juncture', 'leaks', 'penetrating', 'kocher', 'expelled', 'anastomosis.', 'intubation.', 'handouts', 'scd', 'versastep', 'midaxillary', 'centimeters', 'treitz', 'load', 'gia', 'stapler', 'mesentery', 'ligasure', 'antimesenteric', 'roux', 'duodenogastric', 'mesenteric', 'surgidac', 'passageway', 'transversely', 'fires', 'seamguard', 'og', 'anvil', 'joined', 'end-to-side', 'endocatch', 'carter-thomason', 'instrument', 'sickle', 'dilemma', 'crisis', 'retained', 'answering', 'positively', 'bupivacaine', 'hemostat', 'expandable', 'inspect', 'rings', 'reusable', 'retraced', 'reddick', 'instill', 'endo-gia', 'pds', 'rapide', 'mastisol', 'band-aids', 'cholecystitis.,2', 'cholelithiasis.,3', 'cholecystectomy.,2', 'include,1', 'gallbladder.,2', 'adhesions.', 'attacks', 'kefzol', 'hooked', 'omental', 'adhesion', 'infundibulum', 'endoclips', 'endoscissors', 'gallstone', 'grasper', 'de-insufflated', 'dried', 'colic', 'structure', 'extracted', 'dressing.', 'satisfactorily', 'pending.', 'preanesthesia', 'antiembolic', 'hose', 'flowtrons', 'preemptive', 'ropivacaine', '-scalpel', 'deeper', 'blunt-tipped', 'bullet-nose', 'kittner', 'right-angle', 'hook-tip', 'retrieved', 'escape', 'layered', 'procedure,1', 'piggyback', 'aspirating', 'intra-', 'extrahepatic', 'trees', 'subphrenic', 'subcu', 'dyskinesia.', 'dyskinesia', 'studding', 'endoclip', 'endoshears', 'transect', 'electrobovie', 'spatulated', 'ochsner', 'heading', 'radicals', 'gutter', 'deflate', 'tying', 'indurated', 'grey', 'cholelithiasis.,2', 'impacted', 'contained', 'prepping', 'uneventfully', 'encountered.', 'shears', 'fulgurated', 'subumbilical', 'panoramic', 'midepigastric', 'grasping', 'edge.', 'invited', 'cystic-common', 'perforation.', '4-year-old', 'polyethylene', 'glycol', 'boluses', 'dehydration.', 'carlos', 'appendicis', 'intraloop', 'abscesses', 'debris', 'perihepatic', 'recesses', 'uneventful', 'timeout', 'reiterated', 'unique', 'anesthetized.', 'gently', '__________', 'distension', 'lowest', 'intraperitoneal', 'endoloops', 'irrigating', 'desufflated', 'tossed', 'endobag', 'endoclose', 'cholecystectomy.,3', 'hemodialysis.,4', 'hypertension.,6', 'failure.,7', 'ago.,8', 'murphy', 'nitrite', 'amylase', 'med/surg', 'low-dose', 'dialysis', 'nephrologist', 'surgeon', '3-5', 'renagel', 'lovastatin', 'pepcid', 'ruptured', 'periumbilical', 'bluntly', 'five-mm', 'hypogastric', 'pus', 'juxtarenal', 'a-line', 'perineum', 'ioban', 'pubis', 'omni-tract', 'retract', 'green', 'scribed', 'mobilizing', 'ligating', 'dividing', 'perirenal', 'osmotic', 'diuresis', 'suitable', 'activated', 'repaired.', 'pairs', 'hemashield', 'end-to-end', 'semi', 'semi-continuous', 'reestablished', 'competent', 'leak.', 'electrocoagulation', 'grafts', 'snuggly', 'vest-over-pants', 'perfused', 'sma', 'viscera', 'kanamycin', 'coapted', 'reconfirmed', 'non-perforated', 'perioperative', 'tucked', 'infra-umbilically', 'inside', 'instilled', 'attain', 'cartridge', 'reloaded', 'pneumatosis', 'coli', 'cecum.', 'tiredness', 'anemic', 'flatus', 'microcytic', 'dyspneic', 'moment.', 's-s/s-s.', 'bowel.', 'ulcer.', 'desaturations', 'necessitate', 'nonhealing', 'ischial', 'osteomyelitis', 'spina', 'bifida.', 'bifida', 'solid.', 'medicated', 'ascites.,3', 'laparotomy.,2', 'adhesions.,3', 'crystalloids', 'proving', 'agreeable', 'catheters', '________', 'intraabdominal', 'protected', 'straw-colored', 'toldt', 'ileocecal', 'gia-', 'ileum', 'sparring', 'mesentry', 'radiopaque', 'hemostated', 'side-by-side', 'terminal', '0-muscular', 'intestines', 'loop', 'approximation', 'irrigate', 'telemetry', 'decompression.', 'gall', 'colored', 'stabbing', 'antacids', 'cbd', 'wbc.', 'pain/adhesions.', '/social', 'contributory', 'gyn', 'lmp', 'gravida', 'para', 'pap', 'smear', ',cardiovascular', 'dysrhythmias', 'pedal', 'orthopnea', 'fugax.', 'emphysema', 'tb', 'scaling', 'blisters', 'photosensitivity.', ',appearance', 'overweight.', 'breasts', 'nipples', 'everted', 'gallop.', 'pitched.', 'turgor', 'elasticity', 'hepatobiliary', 'radiopharmaceutical', 'mci', 'technetium-m', 'choletec.', 'cholecystic', 'disorder.,2', 'syndrome.,3', '6-week-old', 'mechanism', 'mic-key', 'tubeless', 'button', 'affixing', 'inciting', 'grapes', 'oranges', 'high-residue', 'fruits', 'loose', 'asks', 'rope-like', 'streaking', 'anastomotic', 'ileum/cecum', 'crampy', 'non-specific', 'migraine-type', 'ss', 'heartburn', 'h2', 'blockers', 'tums', 'spicy', 'mexican', 'food.', 'nascobal', 'cord-like', 'approx', '6/8', 'sent.', 'ago.,2', 'symptoms.,3', 'thrombophlebitis', 'emphatically', 'residue', 'obstructions', 'instructions.,3', 'day.,4', 'minimize', 'wondering', 'reflux-type', 'work-up', 'eugene', 'portland', 'oregon', 'gastritis', 'anti-inflammatory', 'celiac', 'sprue', 'panel.', 'irish-greek', 'elementary', 'belching', 'transglutaminase', 'antiendomysial', 'gluten-free', 'remarkably', 'tubes.', 'stone.', 'ethanol.', 'interestingly', 'itching', 'thirst', 'mmm', '8.', 'brown', 'non-insulin-dependent', 'erosive', 'diverticulosis', 'pmd', 'followup.', 'bleed.,2', 'fibrillation.,4', 'mellitus.,5', 'feosol', 'atenolol', '-calorie', 'ada.', 'arranged', 'gastroscopy.', 'globus.', 'olympus', 'gastroscope', 'gastrojejunal', 'efferent', 'jejunal', 'hypopharynx', 'stricturing', 'ge', 'incisors', 'barretts', 'ulceration', 'afferent', 'post-gastric', 'anatomy.,2', 'stricture.', 'gastroparesis.', 'sphincter', 'viewed', 'extrinsic', 'bezoar', 'undigested', 'broken', 'antrum', 'pylorus', 'cardia', 'repair.,2', 'gastroparesis.,3', 'duodenum.', 'inhibitors.,2', 'barrett', 'hiatus', 'columnar', 'epithelium', 'erosion', 'fundic', 'helicobacter', 'pylori', 'retroflex', 'short-segment', 'esophagus.,2', 'hernia.,3', 'body.,4', 'report.,2', 'therapy.,3', 'needed.,4', 'surveillance', 'confirms', 'tarry', 'smelly', 'perfectly', 'southern', 'altercation', 'dorm', 'ensued', 'hurting', 'hurt', 'unknown.,2', 'unknown.,3', 'unknown.,4', 'unknown.,5', 'diphenhydramine', 'p.r.n.,6', 'p.r.n.,7', 'daypro', 'non-insulin', 'mellitus.,2', 'failure.,3', 'depression.,5', 'recently.,6', 'hyperlipidemia.,7', 'tonsillectomy.', 'houseparent', 'university.', 'hpi.', 'preventive', 'colon.', 'hepatomegaly.', 'blood.', 'fundoplication', 'decannulation', 'prove', 'laryngotracheoplasty', 'unpredictable', 'site.', 'belly', 'induration', 'reinsert', 'hint', 'appearance.', 'exceptionally', 'exquisite', 'protection', 'exams', 'gastroenteritis.,2', 'nausea.,3', 'vomiting.,4', 'diarrhea.,5', 'bleed.,6', 'gastroenteritis', 'resolved.,2', '-pack-year', 'granuloma', 'watery', 'trop', 'stayed', 'clostridium', 'difficile', 'prandin', 'glucophage', 'benicar', '3-year-old', 'gagging', 'enema', 'picu', 'hypertensive', 'intensivist', 'peho', 'npo', 'pediasure', 'miralax', 'carnitine', 'reglan.', 'kub', 'loops', 'female.', 'sedated.', 'foul-smelling', 'meals.', 'carafate', 'disturbances', 'conjugate.', 'leukocytes.', 'uti.,2', 'gerd.,3', 'dysphagia.,4', 'contraception', 'consult.', 'microscopy.,2', 'famotidine', 'barium', 'stricture.,4', 'ortho', 'tri-cyclen', 'lo.', 'premedication', 'ncs', 'ointment', 'vault', 'colonoscope', 'rectosigmoid', 'retroflexion', 'undetermined', 'hemorrhoids.,2', 'colonoscopy.', 'friable', 'miller', 'hs', 'imdur', 'hesitant', 'prilosec.', 'pepto-bismol', 'permitting', 'tts', 'esophagitis.,2', 'junction.,3', 'hernia.,4', '-mg.', 'drops.', 'socially.', 'strokes.', 'heartbeat', 'cough.', 'constipated.', 'year-old', 'non-icteric', 'painless', 'constipated.,1', 'monitor.', 'forwarded', ',sample', 'diverticulosis.', 'occupied', 'preventing', 'diverticula', 'anorectal', 'diverticulosis.,2', 'colon.,3', 'quantity', 'described.', 'needed.,2', 'incarcerated', 'sac.', 'nonreducible', 'entrapped', 'ecchymotic', 'milked', 'reapproximate', 'anus', 'colovesical', 'fistula.', 'fistula.,2', 'abscess.', 'colonoscopy.,4', 'urethra', 'cystogram', 'die', 'hartmanns', 'leaking.', 'parker', 'ochsners', 'caudad', 'electrocautery.', 'adhesiolysis', 'cultured', 'bacteriology', 'intestine', 'peons', 'ta-', 'roticulator', 'allis', '_________', 'stump', 'ethicon', 'mushroom', 'doyen', 'insufflating', 'pictures', 'vesicle', 'diverticulitis', 'quadrant.', 'splitting', 'pulling', 'yellow', 'mature', 'longitudinally', 'matured', 'probed', 'ureter', 'leaking', 'esophagogastrectomy', 'oroendotracheal', 'aseptically', 'descended', 'pyloroplasty', 'lavaged', 'viable', 'sucker', 'turbid', 'sageman', 'redo', 'recoverable', 'push', 'bolstered', 'loosely', 'gauze', 'penny.', 'esophagoscopy', 'portoenterostomy', 'cholestatic', 'lodged', 'inducing', 'securely', 'hyperextension', 'laryngoscope', 'esophagoscope', 'facilitated', 'nasoenteric', 'code', 'principal', 'icd-9', 'quarter', 'knob', 'pipkin', 'diverticuli', 'procedure.,2', 'removal.,3', 'colostomy.,4', 'sigmoidoscopy.,5', 'ureteral', 'stent.', 'colostomy.', 'cystoscope', 'cystitis', '____', 'attaching', 're-prepped', 'retracting', 'towels', 'dilating', 'dilator', 'perforate', 'doughnuts', 'bubble', 'subq', 'iodoform', 'dyspepsia.', 'dyspepsia.,3', 'gastritis.,4', 'gastroparesis.,5', 'billroth', 'anastomosis.,6', 'whipples', 'pancreaticoduodenectomy.', 'postprandial', 'dyspepsia', 'boarded', 'jejunostomy', 'follow.', 'cetacaine', 'gif', 'model', 'postgastrectomy-type', 'dysphagia.,2', 'photo.,2', 'cvas', 'encephalopathic', 'ventilator-dependency', 'granules.', 'sweep', 'retroflexing', 'transilluminating', 'finder', 'photograph', 'attachments', 'hernia.,2', 'esophagitis.', 'pseudo', 'versed.', 'regimens', 'dyspeptic', 'coursed', 'antrum.', 'proton-pump', 'restrictions', 'antral', 'locally.', 'bore', 'angiocath', 'thread', 'connector', 'ligature', 'pyloric', 'erosion.', 'gif-q.', 'preprocedure', 'pause', 'titrated', 'motility', 'incisura', 'jar', 'found.', 'postbulbar', 'met.', 'physician.', 'afterward', 'avoiding', 'gastritis.', 'photography', 'strictures', 'profundus', 'videoscope', 'deglutition', 'panendoscope', 'deflected', 'photographs', 'connect', 'dealing', 'gif-', 'pcf-.', 'coloration', 'rugal', 'folds', 'normal-appearing', 'clo', 'verge', 'cecal', 'distorted', 'aphthous', 'fistulas', 'cocci', 'serology', 'remicade', 'modulon', 'ml/h', 'phosphate', 'receding', 'fistulogram', 'enterocutaneous', 'intestinal', 'vistaril', 'atropine', 'curves', 'polypectomy.', 'enterocolitis', 'malformations.', 'gif-.', 'z-line', 'pedunculated', 'juvenile-appearing', 'snared', 'stalk', 'watts', 'pure', 'coag', '2-second', 'severed', 'successfully', 'snare.', 'gastritis.,2', 'polyp.', 'bite', 'cricopharyngeus', 'flex', 'straightened', 'blocker', 'intravenously.,2', 'intravenously.', 'pool', 'enterogastritis.', 'protonix.', 'erosions.', 'enteritis', 'irritability.', 'examinations', 'gif-xq', 'ampule', 'department.', 'varices.', 'impression,1', 'contents.,2', 'erythromycin', 'stigmata', 'resuscitation', 'transfusion.,2', 'drip.,3', 'octreotide', 'drip.,4', 'burden', 'repassed', 'antacid', 'gastroduodenoscopy.', 'aspirate.', 'meltzer-lyon', 'neoplasia', 'kinevac.', 'kinevac', 'trap', 'enable', 'crystals', 'photodocumentation', 'backed', 'weeks.', 'mid-epigastric', 'sour', 'taste', 'cimetidine', 'waxing', 'waning', 'wks', 'non-bilious', 'non-bloody', 'wk', 'recurrence.', 'malignancies.', 'tattoos', 'risky', 'behavior.', 'nkda.', ',vitals', 'murmurs/rubs/gallops.', 'abd', 'splenomegaly.', 'ext', 'cyanosis/clubbing/edema.', ',ct', '6x6', 'multilobular', 'hypodense', 'glands', 'kidneys', 'collections.', 'operation,1', 'ivor-lewis', 'esophagogastrectomy.,2', 'jejunostomy.,3', 'tubes.,4', 'thoracotomy.', 'dual-lumen', '-blade', 'balfour', 'mechanical', 'freeing', 'falciform', 'ties', 'stick', 'reinforcement', 'jejunum', 'witzel', 'securing', 'non-muscle-sparing', 'counted', 'azygos', 'ligatures', 'automatic', 'tabularized', 'chose', 'punched', 'buttressed', 'pleura', 'cholangiopancreatography', 'abnormal-appearing', 'ampulla.', 'pancreatitis.', 'duodenoscope', 'adenomatous-appearing', 'orifices', 'cannulation', 'wilson-cooke', 'tritome', 'sphincterotome', 'represented', 'efforts', 'ductal', 'ceased', 'withdrawn.', 'papilla', 'adenomatous', 'taken.,2', 'obtained.,3', 'chips', 'today.,2', 'anatomy.,3', 'month-old', 'solids', 'ulcers.', 'signed.', 'marino', 'fernandez.', 'fernandez', 'xp-', 'advance', 'clotest', 'unflexed', 'ulcers.,2', 'sphincter.', 'biopsies.,3', 'gore', 'extender', 'coiled', 'indicative', 'heparinized.', '7-french', 'sheaths', 'amplatz', 'wires', 'calibrated', 'aortogram', 'replacing', 'deployed', 'arteries.', 'wired', 'completely.', 'ballooned', 'aggressively', 'dissolve', 'heparin.', 'iron-deficiency', 'aspiration.', 'atrophic-appearing', 'taken.,3', 'biopsies.,2', 'ppi.,3', 'lovenox', 'days.,4', 'endoscopy.', 'forceps.', 'hurricane', 'sprayed', 'negotiated', 'bites', 'paraesophageal', 'transition', 'zone', 'ultrasounds', 'coffee-ground', 'outlining', 'incremental', 'dorsum', 'prepyloric', 'urease', 'spencer', 'herniorrhaphy.', 'inhalation.', 'attainment', 'hibiclens', 'preperitoneal', '0-ethibond', 'cautious', 'increments', 'combative', 'atm', 'good-size', 'albeit', 'mild.', 'lifelong', 'inhibition', 'odynophagia.,2', 'dysphagia.,3', 'odynophagia', 'erythematous', 'duodenitis.,2', 'seen.,3', 'stomach.', 'duodenitis', 'junction.', 'radiologically', 'gej', 'pharynx.', 'morales', 'narcotic', 'white-based', '1.,2.', 'indentation/scar', 'stomach.,3', 'replace', 'melena.', 'solitary', 'premedications', 'varix', '–', 'varix.,2', 'sites.', 'comfort', 'colic-type', 'greasy', 'unrevealing', 'reproduction', 'premedicated', 'complication.', 'malnutrition.,2', 'dehydration', 'lang', 'wickless', 'enterogastritis', 'gauge', 'ensuring', 'break-away', 'ensured', 'instruct', 'hemodynamic', 'desaturation.', 'single-channel', ',esophagus', 'biopsied.,2', 'reflux-induced', 'mm.,3', 'push.', 'aciphex.', 'squamocolumnar', 'les', 'anti-reflux', 'esophagogastroduodenoscopy.', 'mm.', 'mentally', 'challenged', 'jerky.', 'cortef', 'ddavp', 'panhypopituitarism.', 'mine', 'visitation', 'mallampati', 'classification', 'achalasia', 'dilate', 'answered.', 'bleeding.,2', 'fundal', 'polyps.,4', 'polyps.', 'traversed', 'sessile', 'obstructional', 'egd.', 'dotted', 'punctate', 'eosinophilic', 'flame', 'diverticulum.', 'laparotomy.,3', 'diverticulectomy.,4', 'appendectomy.,5', 'toilet.', 'rectum.', 'catheter.', 'ventilator-dependent', 'hypoxemia', 'warmth', 'hypoxia', 'ablated', 'symphysis.', 'penetrated', 'transection', 'clamped', 'appendiceal', 'gut', 'halfway', 'warmed', '1-0', 'adaptic', '4x4s', 'abds', 'jps', 'case.', 'ventilatory-dependency', 'esophagogastroduodenoscopy.,2', 'melanosis', 'coli.,3', 'colectomy.', 'staging', 't2n0m0.', 'reaction.', 'esophagectomy', 'transposition.,2', 'transposition', 'mucosa.,3', '-series', 'coli.,2', 'diminutive', 'colectomy', 'transposition.,4', 'coli.,5', 'coli.,6', 'coli.', 'avoidance', 'laxatives', 'utis', 'ciprofloxacin', 'leukemoid', 'medifast', 'rec', 'sheets.', 'mentioned.', 'redness', 'foul', 'smelling', 'compensated', 'ate', 'eggplant', 'parmigiana', 'nitropaste', 'exertional', 'dysuria.', 'asthma.,2', 'advice.,4', 'pilonidal', 'isentress', 'norvir', 'prezista', 'inhalation', 'exudates', 'denture', 'decayed', 'nails', 'gfr', 'gpt', 'protime', 'ketones', 'bnp', 'dilatation/hematemesis', 'n.p.o.', 'd5', 'medication.,2', 'restart', 'completed.,3', 'id', 'pressor', 'lisinopril.,5', 'treatment.,6', 'nicotine', 'patch.,7', 'socks', 'restrain', 'lovenox.', 'addendum', 'periaortic', 'pneumomediastinum', 'profuse', 'spiked', 'aztreonam', 'reflux.', 'ileus.', 'revision.', 'eats', 'brenner', 'toradol', 'transitioned', 'issues.', 'soda', 'football', 'swallow.', 'semisolids', 'solids.', 'demonstrable', 'demonstrated.', 'readicat', 'subcentimeter', 'nondependent', 'stranding', 'osteoblastic', 'osteolytic', 'fluid.,2', 'isovue-.', 'attenuation.', 'detected', '-cm', 'necessary.,2', 'ileostomy.', 'gallstone.', 'diverting', 'abscess.,3', 'changed.,4', 'isovue-', ',within', 'thickened-appearing', 'endometrium', 'intramural', 'fibroids', 'suspected.', 'bowels', 'contains', 'hypoattenuating', 'fibroids.,3', 'endometrium.,4', 'material.', 'originating', 'hydronephrosis.', 'atelectasis.', 'contrast-enhanced', 'obtained.,2', 'atelectasis.,4', 'adnexa', 'fever.', 'reconstruction.', 'pericolonic', 'intrarenal', 'correlated', 'dedicated', 'disclosed', 'phleboliths', 'airdrop', ',1.normal', 'appendix.,2.moderate', 'colon.,3.no', 'stones.,4.tiny', 'faxed', 'perinephric', 'indeterminate', 'solid-appearing', 'atelectatic', ',1.very', 'advised.,2.diverticulosis.,3.moderate', 'colon.,4.normal', 'sulcus.', 'irregularity', 'low-attenuation', 'splenic', 'hounsfield', 'indeterminate.', '8-mm', 'polar', 'angiomyolipoma', 'ureters', 'phlebolith', 'gonadal', 'vein.', 'fat-containing', 'fat.,2', 'months.,3', 'mri.,4', 'observed.,5', 'examination.,6', 'angiomyolipoma.,7', 'dermoid', 'bothers', 'refrain', 'grown', 'prolapsing', 'regional.,4', 'cholecystectomy.,7', 'greensboro', 'stoma', 'reducible', 'idea', 'appliances', 'reuse', 'existing', 'aortobiiliac', 'spiral', 'centered', 'endoluminal', 'mural', 'endolumen', 'agent', 'exoluminal', 'adrenals', 'aortoiliac', 'hemorrhoidal', 'onions', 'adult-onset', 'januvia', 'crestor', 'prostatitis', 'cardio', 'non-labored', '7-1/2', 'bleeding.,3', 'irc', 'real', 'habit', 'stools.', 'exists', 'suffer', 'says.', 'housewife', 'f.', 'antrectomy', 'convenience', 'pre-contrast', 'peripheral-enhancing', 'pararenal', 'neoplastic', 'exclude.', 'diverticulitis.', 'visualized.', 'suspected.,2', 'nodes.,3', 'thirteen', 'millimeter', 'etiology.,4', 'diverticulitis.,5', 'dilatation.,6', 'attached.', 'zolpidem', 'triamterene', 'tricor', 'houston', 'texas', 'florida', 'consume', 'indigestion', 'consistency', 'tuberculosis', 'scarlet', 'pruritus.', 'submandibular', 'submaxillary', 'future.,2', 'paper', 'cancer.,3', 'alternations', 'narcotics', 'pyrosis', 'disease.,5', 'satiety', 'dysmotility', 'gastroparesis.,6', 'spur', 'schatzkis', 'remotely', 'malignancy.,7', 'elevations', 'transaminases', 'like.,2', 'review.,3', 'infrared', 'embarrassment', 'colonography', 'obstruction.', 'exam.,3', 'bilaterally.,4', 'administered.', 'intra', 'dilatation.', 'distended.', 'hydroureter.', 'collection.', 'adrenal/kidneys', 'fluid/air', 'malalignment', 'dislocation.', 'nephro-/ureterolithiasis', 'communicated', 'fleet', ',systemic', 'hearing.', 'dysphonia', 'paralysis.', 'hematuria.', 'high-pitched', 'nonbloody', 'repre-', 'd.', 'pcos.', 'pains.', 'attack.', 'nonedematous', 'embolism', 'among', 'brighter.', 'magnesia', 'dulcolax', 'suppository', 'cad/angina', 'afternoon.', 'discussed.', 'hemorrhoids.,3', 'prep.', 'photos.', 'coloscopy', 'completion.', 'maneuvered', 'sigmoid.', 'nonsurgical', 'high-fiber', 'antibiotic-associated', 'hemorrhoidectomy', 'happens', 'same.', 'shouting', 'truth', 'pools', 'parasites', 'liked', 'coupled', 'anticipated', 'vsl3', 'probiotic', 'reculturing', 'antispasmodic', 'anxiolytic', 'proctosigmoiditis.', 'sims', 'boggy', 'proctosigmoiditis', 'pan', 'canasa', 'suppositories', 'pathology.', 'readmitted', 'volvulus', 'methadone.', 'pcf-l.', 'ileal', 'retroflexion.', 'filipino', 'heme-positive', 'diverticular', 'neoplasia.', 'cumulative', 'telangiectasia', 'photodocumented', 'preparation.,2', 'throughout.,4', 'hemorrhoids.', 'time.,3', 'screening.', 'myelodysplastic', 'firmness', 'anorectum', 'encircled', 'fentanyl.', 'surveillance.', 'cf', 'tv-directed', 'jumbo', 'representative', 'colitis-like', ',sigmoid', '4/4.', '1/4.', 'adenomatous.', 'explicit', 'anatomically', 'small-mouth', 'assuredly', 'renewed', 'flare', 'conventional', 'sulfasalazine', 'rusty', 'pcf-', 'appendical', 'biopsy-removed', 'randomly', 'crohn', 'junk', 'immune', 'suppressive', 'azathioprine', 'consistency.', 'hematochezia.,2', 'polypectomy.,2', 'explainable', 'mode', 'blanching', 're-scoped', 'biteblock', 'reentered', 'instruction', 'abstain', 's3', 's4', 're-assessed', 'adequacy', 'sedatives', 'ic', 'non-bleeding', 'injection-lift', 'minimal.,2', 'minimal.,3', 'large-mouthed', 'colon.,4', 'prolapsed', 'retrieved.,2', 'retrieved.,3', 'diverticulosis.,4', 'diet.,2', 'results.,3', 'years.,4', 'substance.', 'icd9', 'navigation', 'obliterated', 'them.,2', 'them.,4', 'lipomata', 'described.,5', 'adenomas.', 'removed.,2', 'habits.', 'polyps/removed', 'fulgurated.', 'sever', 'maneuvering', 'fulgurated.,2', 'pentax', 'examiners', 'aggregate', 'sclerotherapy', 'screening.,2', 'eclk.', 'glucagon', 'peristalsis', 'hinder', 'besides', 'ample', 'advice.,2', 'cf-hal.', 'washing', 'universal', 'recheck.', 'ischiorectal', 'diverticluli', 'totality', 'fleets', 'bloating.', 'fistulous', 'jagged', 'undrained', 'scars', 'dimpled', 'ileum.,2', 'lumen.', 'antibiotics.,2', 'x.,3', 'persists', 'hypertrophy.', 'photography.', 'prolapse.', 'lavage', 'considerably', 'gaping', 'contraindications', 'prolapse', 'mucus', 'heartburn.', 'colorectal', '7-mm', '4-mm', 'removed.,3', 'hemorrhoids.,4', 'ileum.', 'signature', 'consenting', 'cancers', 'near-obstructing', 'invading', 'subserosal', 'angiolymphatic', 'microsatellite', 'iud', 'uterus.', 'mammography', 'hives', 'child.', 'miscarriages', 'surgeries.', 'glasses', 'esthetician.', 'aunts', 'aged', 'hemochromatosis.', 'cannula.', 'jaundice.', 'dry.', 't3c', 'm0', 'firstly', 'cured', 'adjuvant', 'database', 'online', 'relapse', 'x-linked', 'agammaglobulinemia', 'xla', 'platinum-based', '5-fu', 'recuperate', 'pros', 'cons', 'liver-associated', 'nonacute', 'eomi.', 'afebrile.,2', 'improving.,3', 'a.m.,4', 'culture.,5', 'leucocytosis', 'improving.,6', 'recommendations.,7', 'levaquin.,8', 'counseling.', 'colonoscopies', 'precancerous', 'identical', 'knowing', 'serevent', 'puffs', 'nasonex', 'seafood', 'crab', 'mobster.', 'dakota', 'collage', 'certified', 'torn', 'acl', 'luminal', 'sigmoid.,2', 'years.,3', 'guidance.', 'above-named', 'forms', 'kindred', 'choledocholithiasis.', '/.,2', 'paraventral', 'loss.,4', 'extravasated', 'extraction', 'necessitated', 'elixir', 'co2.', 'anomaly', 'divided.', 'histopathology', 'long-standing', 'transitional', 'diversion', 'filter', 'epoetin', 'alfa', 'cholestyramine', 'celecoxib', 'resided', '=/', 'hr=', 'ill-appearing', 'cvs', 'rdw', 'mmol/l', 'orally', 'desaturate', 'nonrebreadier', 'computed', 'tomographic', 'non-bladed', 'tattoo', 'opposite', 'impinging', 'retrocecal', 'extravasation', 'dye', 'fire', 'tegaderm', 'mevacor.', 'production', 'today.,3', 'though.,4', 'thickening.,5', 'requirement', 'pneumonia.,6', 'flagyl.,2', 'florastor', 'replenish', 'flora.,3', 'identifiable', 'anomalous', 'nodularity', 'murphys', 'sphincterotomy', 'hanging', 'carbon-dioxide', 'encapsulating', 'scissor', 'dissectors', 'scissor.', 'dorsey', 're-insufflated', 'cholangiocarcinoma.', 'adenomyomatosis', 'mid-to-proximal', 'cholangiocarcinoma', 'surgeon.', 'lutein', 'younger', 'butchers', 'argentinean', 'contracted', 'health.', 'absolutely', 'prompted', 'node.', 'blake.', 'graspers', 'time-consuming', 'incorporated', 'unsafe', 'open.', 'incorporating', 'silks', 'blake', 'morrisons', 'absorbable', 'stitch.', 'anticoagulants.', 'records.', 'comfortably', 'jvd.', 'rubs.', 'gu/rectal', 'internally', 'noncompliant', 'catheterization.', 'chocking', 'cooperation', 'teaspoon', 'sip', 'puree', 'cracker', 'sips', 'transport', 'spillage', 'pocketing', 'faucial', 'pillars', 'pooling', 'liquid.', 'hyolaryngeal', 'epiglottic', 'bolus.', 'reflux.,2', 'otolaryngologist', 'pillars.', 'video-imaging', 'nectar-thick', 'viscosity', 'swallows', 'cavity.', 'lingual', 'vallecula', 'trace-to-mild', 'piriform', 'laryngeal', 'vestibule', 'incomplete', 'leads', 'contributes', 'swallows.', 'prognostic', ',based', 'penetration.,2', 'unthickened', 'dehydration.,3', 'mouth.,4', 're-education', 'train', 'techniques', 'maneuvers', 'enema.', 'encopresis', 'constipation.', 'instillation', 'post-evacuation', 'overhead', 'nonobstructive', 'opacify', 'periappendicitis.', 'appendectomy.,2', 'necessity', 'intraperitoneally', 'purulence', 'fitz-hugh-curtis', 'ur-6', 'l3', 'broad-spectrum', 'mallory-weiss', 'subjected', 'bicap', 'ablation', 'inhibitors', 'antiemetics', 'nonperforated.', 'fibers', 'transversus', 'transversalis', 'clean.', 'taenia', 'kelly', 'crushed', 'reapplied', 'gangrenous.', 'mcburney', 'aerobic', 'anaerobic', 'three-fourth', 'devitalization', 'buried', 'abundantly', 'lortab.', 'mouth.', 'passy-muir', 'hands-free', 'voicing', 'secretion', 'safety.', 'bmr', 'ramp', 'milliamps', 'suprahyoid/submandibular', '5-minute', 'exhalation', 'buildup', 'anytime', 'napping', 'larynx', 'contracting', 'actively', 'impeding', 'reeducation', 'communication.', 'study.,2', 'volitional', 'stimulations.,3', 'protection.,4', 'hours.,5', 'pathologist', 'aspiration.,6', 'tolerable', 'levels.,2', 'aspirations.,3', 'linguistic', 'tia/stroke', 'valleculae', 'pyriform', 'vallecular', 'consistencies', 'peristaltic', 'penetration.', 'sensation.,3', 'mind', 'endogia', 'x-loupe', 'recreated', 'reevaluated', 'irrigant', 're-exploration', 'diaphragm.', 'obtunded', 'gather', 'obtunded.', 'tah/bso.', 'evaluate.', 'obtain.', 'diminished.', 'hyponatremia', 'sided.,2', 'hand-assisted', 'adrenalectomy', 'inmate', 'nonfunctioning', 'flank-up', 'gelport', 'incising', 'freshened', 'trocar.', 'clips.', '7-', '8-day', 'obstipation', 'hormone', 'chip', 'winkel', 're-consulted.', 'smoke.', 'non-injected.', 'focally', 'one-week', 're-infected', 'sebaceous', 'body.,2', 'lma.', 'recurrently', 'multiply', 'knotted', 'lma', 'puncta', 'methylene', 'peroxide', 'tenotomy', '-8', 'outright', 'calcium.', 'known.', 'deceased.', 'job.', 'tacky', 'unlabored', 'neurologically.', 'segs', 'alk-phos', 'impossible', 'suppuration.', 'tented', 'whereupon', 'babcocks', 'excisional', 'nonviable', 'dehiscence', 'evisceration', 'fibrinous', 'excisionally', 'debrided', 'marking', 'pen', 'undermining', 'achievement', 'antibiotic-soaked', 'finished', 'chylous', 'chylothorax.,2', 'infradiaphragmatic', 'lymphangiectasia.', '6-month-old', 'chylothoraces', 'transdiaphragmatic', 'fountain', 'dismal', 'explains', 'chylothorax', 'lymphangiectatic', 'quarters', 'supramesenteric', 'transplantation', 'aneurysm-like', 'pockets', 'chyle', 'correctable', 'indirect', 'eviscerated', 'lymphangiectasia', 'unaffected', 'tradeoff', 'render', 'bridges', 'accumulations', 'ascitic', 'universally', 'ectopy', 'stent-supported', 'heaviness', 'fluttering', 'awareness', 'pvcs', 'consecutive', ',constitutional', 'disturbances.', 'swallowing.', 'hematologic', 'copd.,4', 'fem-popliteal', 'heart.', 'clopidogrel', 'allopurinol', 'day.,5', 'day.,6', 'day.,7', 'atorvastatin', 'intention', 'upstroke', 'split', 'apex.', 'clubbing.', 'vvir', 'pacemaker.', 'access.', 'tachybrady', 'arrhythmias', 'beta-blocker', 'class-ii', 'insertion.', 'wildes', 'pectodeltoid', 'pectoral', 'pectoris', 'pocket', 'tunneled', 'pacer', 'cordis', '___', 'thresholds', 'generator', 'poly___', 'settings', ',implant', 'sigma', 'brady', 'parameter', 'volts', 'pacing', 'threshold', 'milliapms', 'ohms', 'r-wave', 'sensing', 'millivolts.', 'arrhythmia.', 'insidious', 'nonproductive', 'limit', 'nocturnal', 'ivda', 'thromboembolism', 'ivc', 'exercised', 'regularly.', 'thrombolysis', 'miscarriage.', 'artery.,2', 'artery.,3', 'artery.,5', 'cm/sec', 'broadening.', 'bulb.,4', 'vertebrals', 'minimum.', 'parenteral', 'legal', 'guardian', 'bacteriostatic', 'times.', 'peristatic', 'ekg.', 'bruce', 'age-predicted', 'electrocardiogram', 'technetium', 'stress.', 'tolerance.,2', 'response.,3', 'treadmill', 'evoke', 'fibrocalcific', 'excursion', 'pericardium', 'thrombi', 'regurgitation.,3', 'severe.', 'arteries/branches', 'plaquing', 'parametric', 'cca', 'm/s', 'ic/cc', 'plaquing.', 'hyperpyrexia/leukocytosis.,2', 'catheter.,2', 'hypotensive', 'anasarcic', 'hypoxic', 'temperatures', 'changed.', 'kit', 'anasarca', 'shorter', 'opsite', 'this.,2', 'anesthetize', 'roughed', 'urgently', 'cath', '6-french', 'angiograms', '3drc', 'angio-seal', 'results,1', 'circumflex', 'stenotic', 'benzocaine', 'semi-fowler', 'later.', 'short-axis', 'extubation', 'appendage', 'second.', 'contractility', 'size.', 'well-seated', 'bileaflet', 'shadowing', 'perivalvular', 'm/sec', 'continuity', 'equation', 'cm2', 'valves.', 'aic.', 'pulmonic', 'structurally', 'dissection.', 'atrium.,2', 'reevaluation', 'insult.', 'risk/benefit/alternative', 'exclusion', 'shunts', 'inherent', 'negativity', 'all-inclusive', 'oversedation', 'self-stated', 'echocardiogram.', 'viscous', 'micrograms', 'oximetric', 'multi-plane', 'dentition', 'lvef', 'to-and-fro', 'endocarditis', 'valves', 'jets', 'reversible', 'cusps', 'accurately', 'reader', 'rvsp', 'deceleration', 'milliseconds', 'intra-atrial', 'svc', 'd5w', 'nonmobile', 'abnormalities.,2', 'appendage.,4', 'jets.,5', 'atherosclerosis.', 'similar.', 'size.,4', 'vegetation', 'thickened.,5', 'regurgitation.,6', 'thrombus.,7', 'effusion.,8', 'bacteremia', 'multiplane', 'numbed', 'cusp', 'sq', 'planimetry.,2', 'ai', 'also.,3', 'present.,5', 'seen.,7', 'function.,8', 'arch.', 'bacteremia.', 'dimensions.,3', 'effect.,4', 'negative.,5', 'normal.,6', 'echodensity', 'vegetation.,7', 'normal.,8', 'regurgitation.,9', 'vegetation.,3', 'impending', '4-month-old', 'girl.', 'probe.', 'lubricated', 'anterior-posterior', 'tingeing', 'lines.', 'groins', 'head-up', 'double-lumen', '8-cm', 'mottled', 'functioned', 'failure.,2', 'otolaryngology', 'transglottic', 'preoxygenated', 'supporting', 'trache', 'suctioned.', 'reconnected', 'tidal', 'saturate', 'trachesotomy', 'volumes.', 'acetic', 'soaks', 'dependency.,2', 'flaps.,2', 'scoop', 'fasttract.', 'dependency', 'fasttract', 'explained.', 'cartilages', 'mark', 'monopolar', 'cauterization', 'sternohyoid', 'raphe', 'stats', 'bisected', 'pusher', 'cardioversion.', 'rate.,2', 'noted.,2', 'clots.,4', 'size.,5', 'size.,6', 'mac.,7', 'motion.,8', 'normal.,9', 'ventricle.', 'ti', 'atrium.,3', 'regurgitation.,4', 'insufficiency.,5', 'clots.', 'cardioversion', 'biphasic', 'anteroposterior', 'fibrillation.', 'table.', 'sublingual', 'nitroglycerin', 'out.', 'persist', 'ventilatory', 'resides', 'capped', 'uncapping', 'hypercarbic', 'tracheostomy.', 'lotrisone', 'roxanol', 'tartrate', 'simethicone', 'robitussin', 'nitroglycerin.', '-year-smoking', 'postnasal', 'drip', 'stable-appearing', 'stridor', 'laryngoscopy.', 'infarction.,5', 'laryngoscopy', 'cords', 'supraglottic', 'impress', 'tracheostoma', 'failure.', 'tracheotomy.', 'inhalational.', 'inhalational', 'tape', 'cartilaginous', 'duoderm', 'ped', 'tight-to-shaft', 'cuffed', 'bivona', 'velcro', 'carina', 'dimension.,3', 'excursion.,5', 'effect.,6', 'negative.,7', 'benign.,8', 'benign.,9', 'planimetry', 'pattern.,3', 'planimetry.', 'toronto', 'stentless', 'porcine', 'valve.,2', 'bypass.,3', 'cardioplegia', 'cross-clamp', 'sternotomy', 'sternum', 'full-dose', 'u-stitch', 'sump', 'circuit', 'flows', 'cross-clamped', 'arresting', 'ostial', 'tycron', 'commissures', 'diseased', 'commissural', 'sewing', 'subannular', 'sewed', 'rb', 'ostia', 'non-coronary', 'coaptation', 'de-aired', 'electromechanical', 'oversewed', 'sh', 'wean', 'graft.,2', 'hyperkalemia.', 'thrombectomy', 'graft.', 'mid-venous', 'occluded', 'predialysis', 'dialysis.', 'fogarty', 'hang', 'hep', 'thromboendarterectomy', 'dacron', 'closure.,2', 'grafting', 'autogenous', 'obtuse', 'wires.', 'flushing', 'dexon', 'takeoff', 'papaverine-soaked', 'double-looped', 'looped', 'potts', 'aortotomy', 'snares', 'tightened', 'feathery', 'packed.', 'cradle', 'rumel', 'sumping', '7-0', '8-0', 'partial-occlusion', 'aortotomies', 'partial-', 'anastomoses', 'commenced', 'de-cannulated', 'stainless', 'steel', 'forearm.', 'betadine.', 'antecubital', 'runoff', 'longitudinal', 'noncrushing', 'debakey', 'extract', 'ptfe', 'graftotomy', 'gore-tex', 'thrill', 'non-small-cell', 'lobe.,2', 'remission.', 'fine-needle', 'suitably', 'serratus', 'latissimus', 'tuffier', 'exposure.', 'circumcised', '/2', 'or/and', 'ta/2', 'firings', 'ta/4', 'lingular', 'pericostal', 'empyema', 'decortication', 'pleurectomy.', 'thanks', 'ingenuity', 'explosion', 'welled', 'sensitivity.', 'accomplish', 'adhered', 'trapped', 'injuring', 'corresponding', 'inflate', 'restrained', 'minute.,2', 'tilt.,3', 'orthostasis', 'vasodepressor', 'empyema.', 'decortication.,2', 'bronchoscopy.', 'thoracostomy', 'loculations', 'subbronchiole', 'asp', 'subsegmental', 'bronchiole', 'compressions', 'airways', 'bronchoscope', 're-intubated', 'customary', 'intrathoracically', 'intrathoracic', 'thoracoscopic', 'yankauer', 'reminder', 'electrocauterized', 'dorsi', 'systematic', 'extubate', 're-expand', 're-expansion', 're-inflation', 'sulcus', '0-silk', 'pneumovac', 'ctx', 'cosmetic', 'pleur-evac', 'consolidation', 'thoracoscopy', 'declaudication', 'hydropneumothorax', 'brownish', 'odor', 'fecal-like', 'endobronchial', 'secure', 'seventh', 'fibrotic', 'gray-white', 'whitish', 'deposit', 'grayish', 'caseous-like', 'firm.', 'enlarge', 'thoracoport', 'unroofed', 'depths', 'pledget', 'nozzle', 'endothoracic', 'sutures.', 'suturing', 'thrombin', 'necked', 'water-seal', 'intracostal', 'thoracoabdominal', 'operation/procedure', 're-implanting', 'island', 'interposition', 'cerebrospinal', 'psoas', 'iliacs', 'carrell', 'pledgetted', 're-establishing', 're-established', 'focal.', 'pleural-based', 'nodule.', 'thoracoscopy.,2', 'wall.', 'willing', 'deflation', 'stalk.', 'prestige', 'injure', 'hemostasis.', 'hypotension.,2', 'bradycardia.,3', 'diabetes.,4', 'polycystic', 'residual.,7', 'osteodystrophy.,8', 'anemia.,9', 'fibroids.', 'monitoring.', 'disequilibrium', 'feature', 'anhedonia', 'pursue', 'recommendations.', 'cellcept', 'cyclosporine', 'evening.,3', 'hydralazine', 'morning.,7', 'operations/procedures,1', 'tessio', 'submental', 'assembled', 'counter-incisions', 'burying', 'cuffs', 'tear-away', 'bled', 'basilic', 'bulldog', 'effusion.', 'hemothorax.', 'thoracentesis.', 'midscapular', 'thoracentesis', 'nonclotting', 'afterwards', 'intrapleural', 'manually', 'milky', 'fluid.', 'fainting', 'anyway', 'tesio', 'surgeon-interpreted', 'fluoroscopy.', 'locate', 'j', 'tips', 'threaded', 'mammograms', 'scratches', 'flights', 'ppd.', 'farming', 'birds', 'cats.', 'spring', 'grove', 'asbestos.', 'caduet', 'micardis', 'supraventricular', 'perinatal', 'dusky', 'pediatrician', 'duskiness', 'tires', 'adenosine', 'northwest', 'acyanotic', 'prostaglandin', 'mcg/kg/minute.', 'shallow', 'pulses.', 'normoactive', 'situs', 'thymus', 'criss-cross', 'atrioventricular', 'discordance', 'morphologic', 'malopposed', 'ductus', 'physiologically', 'physiology', 'ductal-dependent', 'e1.', 'e1', 'cardiothoracic', 'consultant', 'echocardiographic', 'durable', 'rastelli', 'bidirectional', 'glenn', 'septation', 'spanish', 'interpreter', 'pericardiotomy.', 'transhiatal', 'nondiagnostic', 'dobutamine', 'tamponade', 'physiology.', 'exited', 'endocarditis.,2', 'jude', 'valve.,3', 'tamponade.', 'window.,2', 'insufficiency.', 'reclosed', 'graded', 'stressed', 'predicted', 'aggravated', ':,1.', 'ischemia.,2', 'exercise.,3', 'access.,2', 'eleven', 'degloving', 'debridements', 'locator', 'cannulized.', 'aimed', 'myoview', 'mcg/kg/minute', 'qs', 'j-junctional', 'sloping', 'tc-m', 'gated', 'ratio', 'dobutamine-induced', 'window.', 'cardiomyopathy', 'ptca', 'stenting.', 'depolarizing', 'qrs', 'millicuries', 'thallous', 'imaged', 'perfusion.,3', 'bruce.', 'seconds.,4', 'mets', '.,6', 'maximum-predicted', '/.,8', 'fatigue.,9', 'hypertensive.', 'capacity.,2', 'asymptomatic.', 'refuses', 'casa', 'grande', 'keeps', 'exchange.', 'pacing.,2', 'exchanges.', 'living.', 'loratadine', 'near-syncopal', 'accommodate', 'heaves', 'thrills', 'diameters', 'breathing.', 'talkative', 'impulse', 'eri', '-lead', 'decompensation.', 'syndrome.,2', 'dependent.,4', 'decompensation.,5', 'exchange.,6', 'disables', 'recognizing', 'renders', 'incapable', 'reimplantation', 'possesses', 'dementia.,7', 'stenting', 'descending.', 'judkins', 'groin.', 'bmw', 'predilatation', 'crosssail', 'cypher', 'drug-eluting', 'integrilin.', 'restenosis', 'angiographic', 'insignificant', 'circumflex.', 'predilated', 'nonrebreather.', 'communicates', 'writing.', 'moles', 'rub.', 'congested', 'base.', 'scrotal', 'reproducible', 'conclusions,1', 'residual.,2', 'coronaries.', 'integrilin', 'statins', 'regard.', 'management.,2', 'anticoagulation.,3', 'chest.', 'status-post', 'asd.', 'mm/dd/yy.', 'cardiomediastinal', 'silhouette', 'pneumothoraces', 'effusions.', 'intervention.,2', 'prior.,3', 'mastectomy', 'chronic.', 't.i.d.,2', 'dose.,4', 'clindamycin.', 'decreased.', 'pmi', 'irregular.', 'mass.,2', 'effusion.,3', 'accordingly', 'connection.,2', 'arteriosus.,3', 'secundum', 'thymectomy.,5', 'neonatal', 'postnatally', 'correction.', 'defect.,3', 'arteriosus.,4', 'kilograms', 'hypothermic', 'circulatory', 'equals', 'patulous', 'nonobstructed', 'arteriosus', 'approximating', 'indwelling', 'oscillating', 'thymectomy', 'procured', 'glutaraldehyde', 'pursestrings', '8-french', 'polystan', 'cooling', 'iced', 'cubic', 'centimeter/kilogram', 'cold-blood', 'cross-clamping', 'cardioplegic', 'substituting', 'openings', 'anastomosed', 'interlocking', 'atriotomy', 'deairing', 'hemodynamics', 'rewarming', 'inotropic', 'ultrafiltration', 'smeared', 'reabsorbable', 'unavailability', 'pneumonitis', 'pneumonia.', 'bunch', 'narcan', 'benzodiazepine', 'decompensation', 'varicose', 'veins.', 'knee.,2', 'alleviate', 'tributaries', 'saphenofemoral', 'difficult.', 'diagonal', 'tributary', 'femorosaphenous', 'shone', 'coarctation', 'dream', 'thunder', 'defibrillator', 'dependent.', 'parents.', 'twelve', 'nares', 'ox', 'capturing', 'technician', 'microfractures', 'oversensing', 'sensor', 'widening', 'medtronics', 'icu.', 'ready', 'pediatrics', 'chem-', 'malfunction.', 'billable', 'non-st-elevation', 'mi.', 'culprit', 'grafting.', 'angioplasty.', 'jl-4', 'flushed.', 'non-st', 'elevation-mi', 'rebolused', 'started.', 'cls', 'hew', 'atmospheres', 'sizing', 'bare', 'buddy', 'guidewires', 'all.', 'ventriculography', 'walls.', 'moderate-to-large', 'diagonals', 'stented', 'nondominant', 'small-to-moderate', 'factors.', 'femara', 'hyzaar', 'metformin.', 'anteroseptal', 'repolorization', 'pattern.', 'rest/stress', 'sum', '0.,2.', 'workload', 'excludes', 'troponin.,2', 'deconditioning.,4', 'nebulization.', 'posttussive', 'alleviated', 'california.', 'asthmatic', 'nebulized', 'hypoxemic', 'hospitalist', 'checked.', 'shots', '2-year-old', 'soon.', 'delano', 'laying', 't-max', 'fahrenheit.', 'conjunctival', 'tachypnea', 'peripherally.', 'palpation.', 'defects.', 'solo', 'playful', 'neutrophils.', 'cefuroxime', 'broaden', 'instituted.', 'depend', 'fev1', 'fef', 'postbronchodilator', 'dlco', 'predicted.', 'restrictive', 'limitation', 'hydroxychloroquine', 'q-fever', 'homograft', 'pseudoaneurysm', 'substitute', 'dysmorphic', 'badly', 'degenerated', 'wound.', 'measure', 'phenomenon.', '1/2/6', 'endocarditis.', 'questioned', 'assures', 'serology.,3', 'cbc.,4', 'valvotomy', 'valvuloplasty', 'predicting', 'continuation', 'sheets', 'cycled', 'intravascular', 'pressures.', 'exchanged', 'fick', 'consumption', 'derived', 'radiometer', 'hemoximeter', 'capacity.', 'cineangiograms', 'collecting', 'saturated', 'a-wave', 'right-to-left', 'resistances', 'arborization', 'non-dominant', 'coursing', 'facing', 'surgical.,2', 'aortopulmonary', 'shunt.,3', 'valvuloplasty.', 'supplemented', 'annulus.,2', 'narrowing.,3', 'fistula.,4', 'encephalopathy.,5', 'cardiology/cardiothoracic', 'sedentary', 'requirement.', '-3/7-week', 'babies', 'fio2.', 'jaundiced.', 'high-frequency', 'wiggle.', 'worsens', 'nitric', 'oxide', 'indocin', 'considered.', 'xyzs', 'frustrated', 'apartment', 'all-in-all', 'outlined.', 'erythromycin.', 'mild-to-moderately', 'disease/emphysema', 'stable.,2', 'oxygen.,3', 'spirometry', 'adequate.', 'fev1/fvc', 'bronchodilator', 'abovementioned', 'parameters.', 'mvv', 'tlc', 'frc', 'rv/tlc', 'alveolar', 'retailer', 'claritin-d', 'spells.', 'diabetic.', 'sensitivities', 'arcus.', 'brisk.', 'bundle-branch', 'block.', 'cardiomegaly.', 'edema.,2', 'block.,4', 'underway', 'embolism.', 'history,1', 'bleed.,3', 'aneurysm.,8', 'stenosis.,9', 'cabg.,2', 'hysterectomy.,3', 'filter.,4', 'tonsillectomy.,5', 'adenoidectomy.,6', 'surgery.,7', 'stent.,8', 'aspirin.,2', 'potassium.,3', 'lasix.,4', 'levothyroxine.,5', 'lisinopril.,6', 'pacerone.,7', 'protonix.,8', 'toprol.,9', 'zyrtec.', 'distension.', '-pack', '-cc', 'bronchospastic', 'element.,2', 'expiratory', 'volume.,3', 'fef-', 'airflows', 'single-breath', 'diffusing', 'reduced.', 'refreshed', 'dozing', 'boring', 'activities.', 'turp.', 'hytrin', 'zantac.', 'dog', 'budd', 'automotors', 'setter', '½', 'low-hanging', 'scalloped', 'foreshortened', 'adventitious', 'non-focal.', 'obesity.,4', 'loss.,3', 'tsh.,4', 'endanger', 'sleepy.,5', 'glucovance', 'nexium.', 'laparotomy.', 'non-smoker', 'cva.', 'double-saliva', 'aspiration.,2', 'hemiparesis.,3', 'double-swallow', 'italian', 'lemon', 'hesitate', 'yards.', 'tgv', 'bronchodilator.,3', 'extrapulmonary', 'sinusoids', 'vacterl', 'takedown', 'pda', 'coil', 'collateral', 'wood', 'extracardiac', 'fontan', 'fenestration', 'context', 'candidacy', 'protruding', 'tract.', 'conduit', 'angiographically', 'suprasystemic', 'valvoplasty', 'ranger', 'waste', 'inflation', 'aneurysmal', 'disappearance', 'entirety.', 'distinctive', 'amplatzer', 'occluder', 'figured', 'reconfiguration', 'repeated.', 'pull-back', 'qt-qs', 'units.', 'sinusoidal', 'rudimentary', 'augmented', 'flowed', 'competitive', 'presumably', 'pulmonaries', 'levo', 'unobstructed', 'flowing', 'association.,3', 'communications.,4', 'shunts.,2', 'shunt.,4', 'arteriosus.,5', 'venovenous', 'vessels.,6', 'fenestration.', 'hemodynamics.,2', 'obstruction.,4', 'failed.,2', 'cardiologic', 'hub', 'interstitial', 'actonel', 'shellfish.', 'varied', 'compare', 'pneumonitis.,2', 'stable.,3', 'exacerbation.,3', 'hyperglycemia.', 'exacerbation.,4', 'exacerbation.,5', 'hypercapnia', 'culture.,7', 'control.,8', 'requiring.,9', 'nebulizers', 'bipap.', 'bipap', 'one-liter', 'suprahilar', 'differences', 'clindamycin', 'shaun', 'eagan', 'eureka', 'community', 'times.,2', 't.i.d.,3', 'glucotrol', 'daily.,5', 'b.i.d.,6', 'lantus', 'q.a.m.,7', 'q.a.m.,8', 'rinse', 'mouthwash', 'use.,9', 'bedtime.', 'q.a.m.', 'duoneb', 'dispensed', 'ampules', 'q.a.m', 'refills.', 'community-acquired', 'dual-port', 'port-a-cath.,2', 'coalmine', 'silica', 'pneumoconiosis', 'jefferson', 'hydroureter', 'urology', 'resuscitated', 'albuterol.,2', 'pacerone.,3', 'theophylline,4', 'lovenox.,5', 'atrovent.,6', 'insulin.,7', 'lantus.,8', 'zestril.,9', 'oxide.', 'lopressor.', 'zegerid.', 'coal', 'miners', 'copd.,3', 'placement.,6', 'obstruction.,7', 'cancer.,8', 'diarrhea.,9', 'pernicious', 'proctitis.', 'anxiety.', 'presently.', 'eyes.', 'xerosis', 'scabbing', 'extremities.,2', 'extremities.,3', 'lymphedema', 'extremities.,4', 'noninfectious', 'channels.,5', 'ventilatory-dependent', 'unit.', 'gestational', 'nonsignificant.', 'recreational', 'pre-eclampsia', 'rigors', 'glaucoma.', 'valley', 'urologic', 'normocephalic.', 'st-t', 'preeclampsia', 'pressure.,2', 'fairs.,3', 'consents', 'hypoxia.,3', 'viral.,2', 'arthritis.,4', 'stress-induced', 'struggled', 'avelox', 'augmentin', 'rocephin', 'drifted', 'rheumatologist', 'emphysema.', 'observation.', 'contributory.', 'tracheobronchial', 'rend.', 'awaiting', 'apical', 'overload', 'associates.', 'infrarenal', 'bumex', 'proair', 'hfa.,6', 'atrovent', 'nebs', 'b.i.d.,7', 'b.i.d.,8', 'daily.,9', 'quinine', 'aldactone', 'theo-', 'p.o.', 'janumet', 'levaquin.,2', 'azithromycin.,3', 'adhesive', 'tape.,4', 'shrimp', 'allergy.', 'father.', 'custodian', 'grandson', 'questions.', '52', 'ranging', 'cranium', 'nondisplaced', 'heave', 'diagnostic/laboratory', 'theophylline', 'pr', 'single-valve', 'absolute', 'mortality', 'incidences', 'deciding', 'plan/recommendations', 'unit.,2', 'optimize', 'prophylaxis.,3', 'hemothorax', 'anaerobic.', 'overnight.', 'sedation.,2', 'talc', 'pleurodesis', 'recur.', 'narrative', 'unclamped', 'pleurocentesis.', 'scanned', 'gliding', 'serosanguinous', 'investigational', 'mucositis', 'immunocompromise', 'jittery', 'high-dose', 'transplant.', 'filgrastim', 'levofloxacin', 'ursodiol', 'ondansetron', 'implanted', 'reasons.', 'lifetime', 'drinker.', 'nonstop', 'diathesis', 'oncologic', 'pneumonias', 'asbestos', 'nephrolithiasis', 'tic', 'anxious.', 'noninjected', 'heave.', 'blinded', 'acceleration', 'dysrhythmia', 'mg/minute', 'amiodarone.', 'amiodarone.,2', 'thrombocytopenic', 'nadir', 'resolved.,3', 'euvolemic', 'bnps.,4', 'in-house', '5-1/2-year-old', '3-mm', 'left-to-right', 'la/ao', 'arteriosus.', 'nit-occlude', 'reconfigure', 'implantation.', 'aorta.', 'qp', '1:1.', 'cineangiogram', 'conical', 'six-month', 'paf', 'hyperthyroid.', 'tapazole', 'atenolol/chlorthalidone', 'spironolactone', 'bayer', 'mg-given', 'pex', '1/6', 'inferolateral', 'pain-mild', 'nexium.,2', 'edema-has', 'chlorthalidone.,3', 'paf-due', 'hypokalemia', 'rhythm.,4', 'hyperthyroidism-last', 'suppressed', 'it.,5', 'dyslipidemia-samples', 'given.,6', 'lvh.,7', 'menometrorrhagia.', 'echo.,2', 'edema.,3', 'precordial', 'aggravating', 'hypothyroidism.,2', 'tiredness.', 'urological', 'hematological', 'bruit.', 'fair.', 'infection.,2', 'interruption', 'grams', 'thrive', 'arteriosus.,2', 'prematurity.,3', 'cribbed', 'caprosyn', 'in-charge', 'picc', 'cephalic', 'venogram', 'visipaque', 'mapping', 'joining', 'approach.', 'christmas', 'hydromorphone', 'nebulizer.', 'vesicular', 'voltage.', 'airspace', 'likely.,3', 'sick-sinus', 'lead.', 'impedance', 'can.', 'subclavicular', 'documenting', 'disconnected', 'carry', 'tortuosity', 'innominate', 'bacitracin-soaked', 'vitatron', 'cardiology/cardiac', 'cardiomyopathy.', 'triphosphate', 'mcg/kg/min', 'elaborated', 'provocation', 'scintigraphic', 'multivessel', 'inferoapical', 'midway', 'vicinity', 'anteroapical', 'wraparound', 'myocardium', 'viable.', 'dual-chamber', 'pacemaker.,2', 'mg.,2', 'mcg.,3', '4-inch', 'side-arm', 'pinned', 'peel-away', 'sleeve', 'preformed', 'stylet', 'antibiotic-impregnated', 'data,1', 'manufacturer', 'scientific', 'guidant', 'millivolts', 'volt', 'milliseconds.,2', 'r-waves', 'milliseconds.', 'ddd', 'service.,2', 'position.,3', 'antibiotics.,4', 'format.,5', 'morning.,6', 'days.,7', 'enrollment', 'transvenous', 'calibration', '4-o', 'dddr', 'thin-walled', '-gauze', 'argon', '-knife', 'wiped', 'chromic', 'overlaid', ',manufacturer', 'medtronics.', 'sigma.', 'width', 'p-wave', 'polarity', 'bipolar.', 'switch', 'indication,1', 'single-chamber', 'g.,2', 'mg.,3', 'mg.,4', 'mcg.', 'sidearm', 'abcd.', 'msec.', 'vvi', 'verify', 'morning.,5', 'format.,6', 'icd', 'interrogation.', 'drrs', 'nonischemic', 'max', 'tracking', 'msec', 'impendence', 'vt1', 'vt2', 'detection', 'atp', 'vf', 'mobitz', 'altrua', 'guidance.,2', 'evaluation.,3', 'dextrose', 're-accessing', 'j-wire', '2-inch', 'used.', 'asystole', 'oxygenating', 'standby.', 'reshaped', 'fixated', 'fragility', 're-access', 'backup', 'fixate', 'header', 'altura', 'continuous.', 'x-ray.', 'noticed.', 'non-q-wave', 'pnd.', 'doxazosin', 'metoclopramide', 'starlix.', 'ptosis.', 'axilla.', 'q-waves', 'v3.', 'ck-mb', 'rhythm.,2', 'infarction.,4', 'fibrillation.,2', 'echocardiogram.,3', 'heparin.,4', 'troponin.,5', 'translator', 'proceed.,6', 'sinoatrial', 'dual', 'enrhythm', '2-1/2-inch', 'medium-sized', 'venotomy', 'back-bleeding', 'analyzer', 'anchored', 'acid.', 'technetium-', 'sestamibi', 'bigeminy', 'good.,2', 'imaging.,3', 'rest.', 'ischemia.,4', 'stress.,5', 'exercise.,6', 'imaging.,7', 'fosamax', 'flaxseed', 'oil.', 'right-bundle', 'v3', 'v6', 'seen.,2', 'tracer', 'images.,3', 'stress.,3', 'rest.,4', 'large-sized', 'ischemia.,5', 'stress.,6', 'pci', 'impella', 'unstable', 'postabsorptive', 'nonsedated', '0-inch', 'lv-gram', 'rao', 'pullback', 'lao', 'jl4', 'jr4', 'guiding', 'orthogonal', 'lvedp', 'aortography', 'mid-stenosis', 'upsized', 'multipurpose', 'l/min', 'asahi', 'sprinter', 'nominal', 'endeavor', 'mid-lad', 'post-dilate', 'overlapping', 'rewires', 'maverick', 'post-dilatation', 'kissing', 'inflations', 'balloons', 'timi', 'perclose', 'ima', 'arteriotomy', 'angiomax', 'support.', 'groins.', 'tolerated.,2', 'hydration.,3', 'inferoseptal', 'non-transmural', 'unresponsive.', '2am', 'analgesic', '8am', '1gm/kg', 'helicopter', 'ns', 'etoh/substance', 'mechanically', '7mm/5mm', 'blink', 'subfalcine', 'center.', 'paraparesis', 'brainstem/spine', 'tectum', 'c7-t3', 'c7-t7', 'tia.', 'acidophilus', 'supplement.,2', 'cholestyramine.,3', 'creon', 'evening.', 'd3', 'weekly.', 'vancomycin.', 'chf.', 'pasadena.', 'wheeze.', 'retrosternal', 'lift.', 'hypokalemia.', 'multilobar', 'operations,1', 'quadrangular', 'p2', 'leaflet.,2', 'annuloplasty', 'cosgrove', 'galloway', 'fuser', 'band.,3', 'resection.', 'cannulas', 'y-shaped', 'sondergaards', 'diastole', 'borders', 'defined', 'define', 'chordae', 'reconstruct', 'pledgeted', 'abscess-type', 'infusing', 'non-pledgeted', 'cosgrove-galloway', 'microlaryngoscopy', 'relapsing', 'polychondritis', 'saddle', 'cardiorespiratory', 'laser-safe', 'kantor', 'epiglottis', 'suspended', 'supraglottis', 'telescopes', 'posterolaterally', 'laser', 'vaporize', 'mesothelioma.', 'vats', 'surface.', 'drained.', 'cans', 'aerosol', 'carcinomatosis', 'epithelioid', 'calretinin', 'd2-', 'moc-', 'cdx-2', 'cea.', '4l', 'hydrocodone.', 'spouse', 'quadrants.', 'dvt.', 'assessment,1', 'apart.,2', 'slides', 'methodist', 'staining.,2', 'triumph', 'with.,4', 'delaying', 'surgeons', 'complexity', 'scapula', 'lighting', 'video-assisted', 'malleable', 'easier', 'hemithorax', 'evicel', 'lexiscan', 'hyperemic', 'rest-stress', 'sequence.', 'analyzed', 'cedars-sinai', 'software.', 't-wave', 'avl', 'v4', 'end-systolic', 'akinesis', 'small-to-medium', 'reversibility', 'near-normal', 'perfusion.', 'infarction.,2', 'identified.,3', 'metastasectomy', 'sub-millimeter', ',to', 'banking', 'node.,2', 'node.,3', 'wedge.,4', 'posterior.,5', 'anterior.,6', 'segment.,7', 'anterolateral.,8', 'anterolateral.,9', 'fissure.', 'anterior.', 'package', 'endotracheally', 'duraprep', 'muscle-sparing', 'ausculatory', 'auscultatory', 'ta', 'wedges', 'spotty', 'implants', 're-expanded', 'spect.', 'tetrofosmin', 'pharmacologic', 'uniform', 'isotope', 'st-elevation', 'express', 'meaningful', 'accompanies', 'attentive', 'aide', 'garbled', 'flopping', 'yes.', 'thrombolytic', 'contraindicated', 'pci/cabg', 'nitro', 'normalization', 'early-to-mid', 'concentrate', 'librarian', 'florida.', 'waxes', 'wanes', 'nods', 'conversely', 'gestures', 'vocalization', 'droop.', 'ekgs', 'canalized', 'of.', 'recurrence.,2', 'preload', 'appropriate.,3', 'thinners', 'discussion.', '-day-old', 'norwood', 'sano', 'modification', 'unexplained', 'institution', 'extracorporeal', 'decannulated', 'performance.', 'alloderm', 'rv-pa', 'ventriculotomy', 'spilled', 'paste', 'treadmill.', 'avf', 'lexiscan.', 'non-conclusive', 'scarring.', 'stress/rest', 'epicardial', 'narrowing.', 'tamponade.,2', 'atrium.', 'diaphoretic', 'inspite', 's-s.', ',a.', 'subcarinal', 'margin.', 'anthracosis', 'nests', 'immunoperoxidase', 'ck-7', 'ck-', 'ttf', 'lymphoblastic', 'caval', 'filter.', 'cytometry', 'lymphoblasts', 'testicle', 'lump', 'skateboarding', 'strain', 'lifts', 'basketball', 'acne', 'denver', 'biology', 'aspires', 'promptly', 'above-noted', 'unfractionated', 'pet/ct', 'sheryl', 'asplund', 'precursor-b', 'adhesives.', 'initiated.,2', '//.,3', 'great-grandmother', 'great-uncle', 'great-grandfather', 'sides.', 'student', 'majoring', 'breckenridge', 'man.', 'acne.', 'rsr', 'respective', 'thigh.', 'nondiscrete', 'testicle.', 'myelocyte', 'blasts', 'phosphorus', 'uric', 'units/l', 'units/ml', 'fibrinogen', 'leukemia.,2', 'femoral/right', 'epididymitis.', 'aspirate/biopsy', 'pencil-tip', 'status.,2', 'studies.,3', 'ultrasound/doppler', 'testicles.,4', 'designated', 'an,8', 'x,0', 'puckering.', 'anthracotic', 'pigment.', 'formalin', 'inked', 'subpleural', 'ill-defined', 'puckered.', 'pigment', 'adipose', 'tissue.', 'a,2', 'differentiated', 'anthracotically', 'pigmented', '4r', 'histologically', 'pt1', 'glandular', 'microscopy', 'lobectomy.,2', 'anesthesia,1', 'tube.,2', '4-cm', 'stick-tied', 'glover', 'procedure.,3', 'sampling', '7.,4.', 'tube.,5', 'analysis.', 'single-lumen', 'inframammary', 'offers', 'encircling', 'separating', 'excising', 'reexpand', 'adenocarcinoma.', 'x,4.cm', 'pink-tan', 'sectioning', 'tan-gray', 'mucoid', 'abut', 'invade', 'bronchioloalveolar', 'mucinous', 'lobectomy.', 'differentiated.', 'blood/lymphatic', 'perineural', 'involved.', 'non-neoplastic', 'thoracotomy.,2', 'lobectomy.,4', 'lymphadenectomy.', 'freehand', 'transfixion', 'r4', 'nodal', 'short-axis.', 'triphasic', '0/8.', 'entered.', 'stapler.', 'estep', 'unavailable', 'alarmed', 'deconditioning', 'cancelling', 'accounting', 'similarity', 'facilities.', 'cancel', 'helpful.', 'ia', 'abdominopelvic', 'enlarging', 'tertiary', 'periodic', 'aches', 'exertion.', 'ras', 'palpitation.', 'racing', 'caffeinated', 'usage.', 'ligation.', 'ibuprofen.', 'endocrine/hematologic', 'lympyhadenopathy.', 'palpitation.,2', 'ago.,3', '/.,4', 'laryngotracheal', 'uncuffed', 'emerge', 'adhesions.,2', 'adrenalectomy.', 'crystalloids.', 'staff.', 'associate', 'comorbidities.', 'gynecological', 'bladder.', 'bean', 'hassan', '___________', 'non-cutting', 'blade.', 'gerotas', 'isolating', 'dumping', 'reinspected', 'thallium', 'history/surgeries/hospitalizations', 'lima', 'kerlone', 'gemfibrozil', 'citrucel', 'beverages.', ',endocrine', 'degrees.', 'resonant', 'medication.,3', 'wichita', 'douloureux', 'newton', '//.,4', 'pneumococcal', 'reactivity', 'cytokeratin', 'ae1/ae3', 'cam5', 'cytokeratin-', 'cytokeratin-7', 'diastase', 'convincing', 'intracytoplasmic', 'mucin', 'neuroendocrine', 'synaptophysin', 'chromogranin', 'cytoplasmic', 'melanoma', 'hmb-', 'melan-a', 'spindle', 'pleomorphic/giant', 'transcription', 'ttf-1', 'sarcomatoid', 'components.', ',histologic', 'approaches', 'pleura.', 'pt1n1mx', 'consultation.', 'studies.,2', 'arrhythmia.,3', 'procainamide', 'brugada', 'induction.,2', 'electrophysiological', 'ah', 'hv', 'one-to-one', 'ra-erp', 'va', 'disassociation', 'pathways', 'isoproterenol', 'tracts', 'extrastimuli', 'troubling', 'refractoriness', 'vt.', 'vt', 'lexiscan.,2', 'scan.,2', 'cardiomyopathy.,2', 'nyha', 'iii.,4', 'tachycardia.,5', 'gained', 'revised', 'prescription.', 'advantage', 'mistake', 'somebody', 'intentionally', 'medicaid', 'driveway', 'rock', 'tachyarrhythmia', 'wandering', 'apcs', 'bi-atrial', 'felodipine', 'klor-con', 'gerd.,7', 'morse', 'chain', 'delivering', 'newspapers', 'rheumatologic', 'ranged', 'immobile', 'studies/lab', 'mat', 'apcs.', 'burst', 'troponins', 'optimization', 'beta-blockers', 'palpations', 'triviflor', 'elocon', 'synalar', 'phenobarbitone', 'latex.', 'angioplasties', 'tobacco.', ',bones', 'mills', 'isaac', 'resonance', 'polyneuropathy', 'vertebrae', 'pinches', 'hutchison', 'ku', 'nocturia.', 'arrhythmias.,3', 'couplets.', 'triplet', 'reported.', 'artefact', 'wenckebach', 'hickman', 'dizziness.', 'hours.,2', 'minute.,3', 'seen.,4', 'bigemini', 'trigemini', 'seen.,5', 'noted.,6', 'second.,7', 'contractions.,4', 'couplets.,5', 'kept.', 'couplets', 'trigemini.', 'catheterization.,2', 'angiography.,3', 'ventriculogram.', 'flutter', 'aicd', 'angiographies', '/0', 'moderate-caliber', 'trifurcates.', 'wraps', 'bifurcating', 'small-caliber', 'ramus', 'lcx', 'om', 'rca', 'ventriculography.', 'intraaortic', 'al1', 'findings,1', 'present.,3', 'origin.,5', 'systole', 'pt/inr.', 'regulate', 'dangerous', 'convinced', 'anticoagulation.', 'insufficiency.,3', 'fibrillation.,5', 'copd.,6', 'pneumonia.,7', 'colon.,9', 'coumadin.,2', 'simvastatin.,3', 'nitrofurantoin.,4', 'celebrex.,5', 'digoxin.,6', 'levothyroxine.,7', 'vicodin.,8', 'hydrochlorothiazide.,9', 'carvedilol.', 'drink.', 'percussion.', 'soft.', 'scared', 'echocardiography.,2', 'pvcs.,3', 'two-vessel', 'ventriculography.,2', 'angiography.', 'hemodynamics,1', 'trifurcates', 'ulcerated', 'excentric', 'severity.,5', 'perforators', 'angulation.', 'flow-limiting', 'branches.', 'bifurcates', 'however.', 'non-flow', 'shell-like', 'segment.', 'cath-based', 'jl5', 'videotapes', 'terminate', 'well-preserved', 'inferobasilar', 'arteriography', 'portion.,4', 'flow.', 'mid-to-distal', 'distribution.,2', 'ventilated.', 're-canalized', 'collateralized.', 'revascularization', 'swan-ganz', '-guage', 'xb', 'manipulated', 'collateralized', 'xience', 'thermal', 'dilution', '/9', 'dilution.', 'coronaries', 'proximal-to-mid', 'supplies', 're-canalization', 'overlapped', 'embolization.', 'st-segment', 'in-stent', 'versed.,2', 'fentanyl.,3', 'administration.,4', 'asian-american', 'tcu', 'akinetic', 'hypercontractility', 'overestimates', 'arteriography,1', 'system.,3', 'bridging', 'takasubo', 'aka', 'ballooning', 'countershock', 'atn', 'fraction.,2', 'six-french', 'angiography.,2', 'transluminal', 'voyager', 'intracoronary', 'pilot', 'saver', 'normally.,3', 'normal-caliber', 'irregularities', 'pressure.,4', 'hypokinesis.', 'integrilin.,2', 'rest.,3', 'modification.,4', 'scintigraphy', 'arteriographies', 'diagonal.', 'jr4.', 'zeta.', 'distally.,3', 'proximal.', 'intervene.', 'post-dilated', 'conclusion,1', 'descending/diagonal', 'range.,2', 'patent.,3', 'circumflex.,4', 'coronary.,5', 'catheterization.,3', 'optiray', 'mgy.', 'gradient.', 'pda.', 'ectatic', 'ectasia', 'severity.', 'wall.,2', 'descending.,5', 'intercoronary', 'sport', 'al2', 'tearing', 're-cross', 're-dilated', 're-wire', 're-establish', 'femostop', 'osteal', 'deploying', 'abutting', 'subintimal', 'under-filled', 'zero', 'cath.,2', 'gram.,4', 'arteriogram.,5', 'mynx', 'lv-to-aortic', 'arteriogram', 'circumflex.,2', 'plaque.,4', 'calcified.,2', 'ventriculogram.,4', 'aortogram.,5', 'above-mentioned', 'angulated', 'manifold', 're-inflated', 'remeasured', 'transducers', 'radius', 'non-ionic', 'lv-ao', 'postcatheterization', ',hemodynamics', 'minute/m2', 'cm2.', 'tapers', 'vessel.', 'angiography.,4', 'angiography.,5', 'lvao', 'preinjection', 'postinjection', 'pullback.', 'traverses', 'diseased.', 'y-graft', 'patent.,4', 'nitrate', 'discontinued.,2', 'cessation.,4', 'nonionic', 'subtotaled', 'timi-i', 'three-vessel', 'providence', 'agreeable.,2', 'troponin-positive', 'reopro', 'reflow', 'noted.,3', 'lesion.,4', '-5', 'compliance.,2', 'triple-vessel', 'old.,4', 'reopro/stent', 'realizing', 'fibrillating', 'transpulmonic', 'resistance.', 'vasodilator', 'primacor', 'flail', 'p3', 'v5', 'dilatations', 'branch.', 'tee.,3', 'phlebitis.', 'hauling', 'corn', 'aggravate', 'pms', 'menstrual', 'impatient', 'spotting', 'flashes', 'rechecked', 'available.', 'polyphagia', 'polydipsia', 'polyuria.', 'dysplasia.', 'nonsmoker.', 'allegra.', 'pleasant.', 'nonerythematous.', 'dimpling', 'rugae', 'white/yellow', 'flovent', 'retry', 'month.,2', 'restarting', 'being.,3', 'premenstrual', 'dysphoric', 'perimenopausal', 'q.d.,4', 'document', 'currently.,5', 'yearly', 'monthly', 'self-breast', 'echo.', 'ra', '5.,2.', 'complex.,3', 'moderate-size', 'om1', 'irregularities.', 'bridge', 'ventillation.', 'pseudoaneurysms', 'hypoplasia', 'quality.', 'pfannenstiel', 'dissections', 'restoring', 'meager', 'anteromedial', 'u-clips', 'anchoring', 'backflow', 'permitted', 'angina.', 'jaw.', 'existed', 'crushing.', 'timing', 'onset/frequency', 'packs/day', 'menopause', 'estraderm', 'patch.', 'psh', ',oriented', 'resp', 'ft.', 'lbs.', 'gingival', 'pyorrhea', 'crepitance', 'interspaces', 'splinting', 'contours', 'tactile', 'fremitus.', 'bibasilar.', 'clicks', 'situation.deep', 'midposition', 'icterus.', 'unspecified.', 'creatine', 'kinase', 'isoenzymes', 'modifications', 'mg/dl.', 'arteriography.', '6fl4', '6fr4', 'cine', 'view.', 'lmca', 'origin.,4', 'airway.', 'sevoflurane', 'naris', 'arytenoids', 'wedged', 'bronchomalacia', 'preoperative/postoperative', 'tracheobronchitis.,2', 'engorgement', 'bronchoalveolar', 'lavage.', 'one-and-a-half', 'sub-segment', 'tracheobronchitis', 'sub-carina', 'readvanced', 'jr-4', 'perforating', 'capital', 'carcinomatosis.,2', 'bronchitis.,5', 'lobes.,6', 'irregularity.', 'intermedius/right', 'oppose', 'inserting', 'aliquots', 'subsegments', 'fibromucosa', 'prebronchoscopy', 'cessation', 'bedsite', 'tb/miliary', 'tb.', 'tuberculosis.', 'isolation', 'oropharynx.', 'frothy', 'subsegement', 'lingula', 'distortions', 'subsegment', 'bronchioalveolar', 're-advanced', 'fistulogram.,2', 'vein.,3', 'brachiocephalic', 'pacu.', 'french.', 'bevel', 'compressible', 'glidewire', 'kumpe', '2x2', 'postcutting', 'postangioplasty', 'extravasation.', 'extravasation.,2', 'poststandard', 'trauma/motor', 'accident.,2', 'distress/ventilator', 'asynchrony.,4', 'hypoxemia.,5', 'lung.,6', 'anesthesia/sedation', 'brevital', 'asynchrony', 'tissue/clots', 'impactions/tissue', 'plugging', 'pad.', 'cannulation.,2', 'runoff.,5', 'foot.,6', 'leg.,7', 'valid', 'wholey', '4-curve', 'omniflush', 'sfa', 'royal', 'pulse.', 'short.', 'd1', 'd1.', 'd2', 'oms', 'sheath.', 'transurethral', 'plasmacytoma', 'dissipates', 'progresses', 'triggers', 'alleviating', 'avodart', 'wellbutrin', 'tall', 'deviations', 'arrhythmias.', 'age.,2', 'exercise.,4', 'exercise.,5', 'ischemia.,3', 'test.,4', 'optimum', 'hemoptysis.,2', 'friability.', 'diagnostic.', 'service.', 'midtrachea', 'reexamined', 'topically', 'assurance', 'single-vessel', 'nantucket', 'debra', 'anderson', 'recuperates', 'completes', 'inferiorly.', 'exercise.', 'termination', 'mm.,2', 'product.', ',resting', 'tetraphosphate', 'homogenous', 'visits', 'inhaler.', 'cooperate', 'haggard', 'exhausted-appearing', 'tripoding', 'faint', 'rales.', '0-2', 'cells.', 'pneumothorax.', 'mounting', 'readied', 'preparations', 'dacuronium', 'cupped', 'impractical', 'nebulated', 'triage', 'tridil', 'sepsis', '2h', 'solu-medrol.', 'terminates', 'cavitary', 'masses.,2', 'pathology.,3', 'residing', 'transorally', 'epistaxis', 'bacteriologic', 'caseous', 'infarctions', 'midsternal', 'unlike', 'illegal', 'mylanta', 'aftercare', 'myself.', 'depressions', 'ecg/echocardiogram', 'hospital-based', 'bnp.', 'nebulizers.,2', 'ceftriaxone.', 'near-syncope', 'perrla.', 'pneumonic', 'pe', 'opacities', 'problem.,3', 'controlled.,4', 'diuretics', 'nonrebreather', 'pco2', 'po2', 'liters.', 'etomidate', 'vecuronium', 'fiberoptically', 'habitus.', 'ai.', 'intracavitary', 'brachytherapy', 'ebt', 'simulation', 'novoste', 'markers', 'strontium', 'sources', 'radiobiological', 'principles', 'atherectomy', 'individualized', 'imperative', 'profile.', 'obtundation', 'septic', 'utah', 'spending', 'arizona', 'members.', 'ex-smoker', 'supplementation.,2', 'prednisone.,3', 'cyclobenzaprine.,4', 'losartan', 'lasix.,7', 'oxygen-dependent', 'recuperating', 'acidosis', 'septicemia', 'scattered.', '2/6.', 'myoglobin', 'acidosis.,2', 'leg.,3', 'shutdown.,4', 'involvement.,2', 'dialysis.,3', 'failure.,4', 'osteogenic', 'sarcoma', 'systolically', 'mac-4', 'capnographer', 'dopamine', 'caregiver', 'angina.,2', 'inferoposterior', 'pseudonormalization', 'pi', 'enlargement.,2', '2.,5.', 'mhz', 'b-mode', 'compressibility', 'intraluminal', 'parasternal', 'mcg/kg', 'maximized', 'windows.', 'recovery.', 'upsloping', 'in-flow', 'indications,1', 'eri.,2', 'upgrade', 'explanted', 'medronic', 'kdr', 'abcd.,2', 'addr', 'abcd.,3', 'abcd.,4', 'msec.,2', 'replacement.,2', 'home.,2', 'ex-home', 'days.,5', 'icd.,2', 'fluoroscopy.,3', 'testing.,4', 'venography.', 'unsuccessfully', 'prepectoral', 'fluoroscopically', 'stylettes', 'screwed', 'j-shaped', 'glossal', 'needing', 'port.', 'subclavian/axillary', 'vein.,2', 'electively', 'wire.', 'redraped', 'improved.,2', 'stable.,4', 'improving.,5', 'malnourishment', 'bottomed', 'zyvox', 'diuresed', 'garden', 'court', 'facility.', 'medications/instructions', 'peep', 'lately.', 'snf', 'conditioning', 'adenosine.', 'increment', 'test.,2', 'improved.,4', 'improved.,5', 'pro-bnp', 'hyperlipidemia.,2', 'breast.,4', 'nephrectomy.,5', 'rhinitis.', 'crepitations', 'empirical', 'colonization.', 'de-colonization', 'oxygen.', 'pulmonology', 'distress.,2', 'uri', 'inhaled', 'corticosteroids', '6.', 'zithromax.', 'tachypnea.', 'perfused.', 'regular.,2', 'regular.,3', 'wheeze.,2', 'qvar', 'provider.,3', 'retractions', 'xopenex.', 'smokers', 'hypoxia.', 'suprasternal', 'ml/kg', 'nebulization', 'ordered.', 'peribronchial', 'albuterol/atrovent', 'inspiratory/expiratory', 'childs', 'seconds.', 'alertness', 'teaching', 'bronchiolitis', 'croup.', 'asthmaticus', 'steroid-eluting', 'lead.,3', 'lead.,4', 'chronotropic', 'incompetence', '2a', 'ascertained.', 'generators', 'polychrome', ',pulse', 'sdr.', ',model', 'appendages', 'blanking', 'orders.', 'change.,2', 'embolism.,3', 'bronchodilators.,2', 'clinic.,3', '2.,4.', 'stable.,5', 'replaced.,6', '-.,7', 'american-native', 'indian', 'antibiotics.', 'tapering', 'days.,3', 'week.,2', 'tomorrow.', 'room.,2', 'ok', 'companies', 'pillow', 'salvador', 'education.', 'oldest', 'girls', 'chlordiazepoxide', 'clidinium', 'mg/2', '1two', 'eyelids', 'ml/kg/min', 'post-stress', 'subjects', 'gender', 'race/ethnicity.', 'uncertain.', 'dyslipidemia.', 'carvedilol', 'up-titrated', 'diuretic', 'up-titrate', 'furosemide.', 'whenever', 'icd.', 'parsons', 'telescope', 'suprastomal', 'fibroma', 'post-cyberknife', 'low-level', 'combivent', 'oxaprozin', 'asacol', 'eager', 'eater', 'calorie', 'resource', 'kid', 'boxes', 'chocolate', 'milkmaid', 'half-and-half', 'vaccine.', 'premix', 'snacks', 'a-dec', 'school-aged', 'drip.', 'hyperinflation', 'clubbed.', 'rn', 'bsn', 'refilled', 'timely', 'concerns.', 'pulmozyme', 'ccs', 'regime', 'rcp', 'treatments.', 'rd', 'cde', 'guidelines', 'struggling', 'trend', 'lcsw', 'fibrosis.,2', 'vaccine', 'done.,2', 'treatment.,3', 'evaluate/investigate', 'ccs.,4', 'augment', 'high-calorie', 'dietician.,5', 'before.,6', 'air-space', 'bpm.', ',initial', 'unenhanced', 'gating', 'scoring', 'agatston', 'determination.', 'intracath', 'multi-detector', 'mdct', 'breath-holding.', '“', 'chaser', '”', 'retrospective', 'determination', ',calcium', 'lm', 'population', 'score.', 'demonstration', 'take-off', 'extramural', 'non-malignant', 'calcific/atheromatous', 'remodeling', 'large-size', 'om2', 'av-groove', 'crux', 'dominant.', 'sino-tubular', ',ventricular', ',lm', 'significance', 'courses.', 'dominance', 'calcifications.', 'embolism.,2', 'calcifications.,4', 'lobectomy.,5', 'atelectasis.,6', 'stability', 'paratracheal', 'kidney.', 'twenty', 'neoplasm.,2', 'above.,3', 'time.,4', 'siemens', 'dual-source', 'post-processing', 'vitrea', 'workstation', 'ultravist', 'sublingually', 'unreadable', 'beam-hardening', 'readable.', 'saved', 'pacs', '0-second', 'timed', 'ml/sec.', 'beats/min.', 'multiphase', 'multiplanar', 'rendering', 'defining', 'adequate.,2', 'dominant.,3', 'stenosis.,4', 'irregularities.,5', 'irregularities.,6', 'stenosis.,7', 'mid-segment', 'abnormalities.,8', 'vessels.', 'ancillary', 'lifestyle', 'coalescent', 'infiltrates/consolidation', 'fibrosis.', ',1.anterior', 'infiltrate/consolidation', 'appearance.,2.bilateral', 'hemodynamics.,3', 'injection.,4', 'angiogram.,5', 'angioseal.', 'okayed', 'disengaged', 'counter-clock', 'hemodynamics.', 'deployment', 'angioseal', 'atheromatous', 'om3', 'marginal.', 'system.,2', 'plaque.,3', 'noncardiac', 'bumped', 'femur', 'subchondral', 'suprapatellar', 'bursa', 'finally.', 'normoactive.', 'wrists', 'strengths', 'extenders', 'steri-stripped', 'coban', 'appliance', 'brooke', 'living.,2', 'embolus', ',technique', 'detector', 'thicknesses', ',examination', 'timing.', 'non-calcific', 'flow-limited', 'noncoronary', ',cardiac', 'subendocardial', 'pseudoaneurysm.', 'tri-leaflet', ',limited', 'occlusion.', 'bronchitis.,2', 'senile-type', 'dementia.,5', 'hypothyroidism.,6', 'dependent.,7', 'resuscitate/do', 'intubate.', 'humibid', 'l.a.', 'chem-7', 'overload.', 'aortography.', 'cramping-like', 'bivalarudin', 'timi-3', 'terminus', 'haziness', 'incident.', 'milligray.', 'fills', 'groove.', 'non-obstructive', 'intervention.,4', 'bronchospasm', '3-day', 'wheezings', 'pipe', 'artificial', 'click', 'guarded.', 'keflex', 'preadmission', 'postprocessing', 'narrowings', 'possible.', 'codominance', 'indicated.,3', 'mailed', 'charming', 'presyncope.', 'precipitating', 'darkness', 'modestly', 'routines', 'hospitals', 'since.', 'exogenous', 'caffeine', 'sodas', 'coffees', 'urticaria', 'neoprene', 'cast.', 'charted', 'preexcitation.', 'two-dimensional', 'nine-year', 'recorder', 'curative', 'expresses', 'd-dimer', 'vasculature', 'cause.', 'positive.', 'lake', 'harris', 'consulted.', ',past', 'performed.,2', 'hyperlipidemia.,6', 'zocor.', 'jvp', 'heard.', 'chemistry-7', '2d', 'antiarrhythmic', 'point.,2', 'isosorbide', 'mononitrate', 'reason.', 'non-significant.', 'feebly', 'defect.', '-1/2-year-old', 'asplenia', 'dextrocardia', 'double-outlet', 'malposed', 'staged', 'blalock-taussig', 'transpulmonary', '0:1.', 'decompressing', 'reconstitute', 'caval-pulmonary', 'bernstein', 'terumo', 'ultra-thin', 'sd', 'pg', 'bpx', 'genesis', 'premounted', 'optiprobe', 'near-complete', 'sds', 'reconstituted', '6-mm', 'midsection', 'detachable', 'coils', 'admixture', 'woods', '/minute/meter', 'squared', 'liters/minute/meter', '1-mmhg', 'washout', 'cava.,3', 'defect.,4', 'atrium.,5', 'atria.', 'shunt.,2', 'anastomosis.,2', 'implantation.,2', 'implantation.,3', 'psa', 'metformin.,2', 'prilosec.,3', 'acid.,4', 'flomax.,5', 'metoprolol.,6', 'crestor.,7', 'claritin.', 'rigors.', 'undertaken,1', 'cineangiography.,2', 'cineangiography.,3', 'bare-metal', 'postdilated', 'x2.', 'cineangiography', 'ebu', 'checking', 'pre-dilate', 'guides', 'large-caliber', 'branch.,4', 'plv', 'noted.,5', 'fractional', 'shortening', 'bicuspid', 'ports.', 'tyshak', 'consumption.', 'desaturated', 'vq', 'mismatch.', 'juxtaductal', 'narrowest', 'aorta.,2', 'cardiomyopathy.,3', 'valve.,4', 'ovale.', 'undoubtedly', 'query', 'impairment.', 'psychologic', 'nonsignificant', 'findings.,2', 'workup.,2', 'svg', 'om.,4', 'lad.,5', 'ventriculogram.,6', 'aortogram.,7', 'plano', 'ao', 'ava', '2-balloon', 'predilations', 'break', 'lves', 'inferobasal', 'insufficiencies', 'tortuosities.,3', 'branching', 'stenosis.,6', 'right.,7', 'depending', 'parapneumonic', 'loculated.', 'infiltration.', 'recumbent', 'liberally', 'activase', 'installation', 'advent', 'retaining', 'diurese', 'work.', 'tries', 'ivcd', 'paradoxical', 'weekly.,2', 'none.,8', 'none.,9', 'vitiligo', 'keloid', 'hepatojugular', 'anticoagulated', 'control.,2', 'diuretic.,3', '2.,6.', 'delay.,7', 'abuse.,8', 'osteoporosis.,9', 'controlling', 'ablated.', 'histology.', 'mesh.', 'kaiser', 'positivity', 'obliquely', 'disarticulated', 'articulations', 'encasing', 'undue', 'mesh', 'vaseline', 'angio.', 'utilized.', 'consolidations', 'interval.', 'axilla', 'discloses', 'clavicle.', 'assessed.,3', 'lung.,4', 'preferred', 'antihypertensive', 'ladys', 'inhibitor.', 'nightly.,3', 'a.m.,5', 'q.i.d.,9', 'barometric', 'trauma.,2', 'sepsis.', '2-physician', 'lateral.', 'groshong', 'svc/ra', 'atelectasis.,2', 'nonacute/stable.,3', 'situated', 'pending.,2', 'followup.,3', 'cardiologists', 'pvcs.', 'inderal.', 'cad.', 'ob-gyn', 'products.', 'allergies/intolerances.', 'historian.', 'hematochezia.', 'genito-urinary', 'incontinence.', 'abdomen/flank', 'non-diaphoretic.', 'newborn', 'hemithorax.', 'infuse-a-port', 'tinged', 'peon', 'add.', 'grocery', 'orthostasis/vasovagal', 'tilt-table', 'reassurance', 'does.,2', 'arise', 'bed.,3', 'p.r.n.,4', 'plaques', 'antegrade.', 'torturous', 'back-bled', 'sternocleidal', 'platysmal', 'ansa', 'cervicalis', 'problematic.', 'circulating', 'heifitz', 'profunda', 'intima', 'shortened', 'imbricating', 'suture.', 'xylocaine.', 'drips', 'conservator', 'ship', 'butterfly', 'phalange', 'op-site', 'findings/specimens', 'nil', 'arteriograms.', 'origin.,2', 'arteries.,4', 'arteriograms', 'comparison.', 'buffered', 'cross-filling', 'parked', 'vasoseal', 'open-heart', 'septectomy', 'cephazolin', 'gowns', 'chloraprep', 'line.', 'heparin-coated', 'j-end', 'lumens', 'stabilization.', 'allen', '2-french', 'tingeing.', 'thoracis.,2', 'endarterectomy.,2', 'endarterectomy.,3', 'endarterectomy.,4', 'argyle', 'pickups', 'shunting.', 'avoided', 'lapsed', 'tacking', 'flapping', 'moments', 'direct-current', 'sdi', 'joule', 'synchronized', 'paddles', 'restore', 'dc', 'pads', 'restoration', 'pre-existing', 'sores', 'years.,2', 'osteoporosis.,7', 'fractures.,8', 'mellitus.,9', 'toe.,4', 'amoxicillin.,2', 'clavulanic', 'hours.,3', 'mg.,7', 'fenofibrate', 'raloxifene', 'alendronate.', 'brimonidine', '-mg', 'k-dur', '-meq', 'doctor4', 'investigative', 'flutter/cardioversion.', 'j.', 'reattempted', 'low.', 'therapy-controlled', 'tendencies', 'snores', 'angioedema', 'tibiales', 'supervising', 'triglyceride', 'testings', 'apolipoprotein', 'lpa', 'lipoprotein', 'entertained', 'particular.', 'know.', 'm.d', 'backache', 'two-pillow', 'buspar', 'lotrel', 'bedtime.,6', 'obesity.,3', 'osteoarthritis.,4', 'syndrome.,5', 'arteriogram.,6', 'backache.', 'tests.,3', 'study.,4', 'expiration.', 'arousable.', 'peri-infarct', 'improves.,2', 'inr.,4', 'beta-blockers.,5', 'rocephin.,6', 'monitor.,7', 'stable.,8', 'improving.,9', 'counseled.', 'nephrology.', 'chocolate/caffeine', 'ingestion', 'repletion', 'resumption', 'minimization', 'sotalol', 'weekend.', 'granddaughter', 'pravastatin', 'diazepam.', 'fascicular', 'lvbb.', 'aminophylline.', 'block.,2', 'xxx', 'capsure', ',xyz', 'obesity.,6', 'lobe.,7', 'deconditioning.', 'consultations', 'cardiology.', 'echocardiogram.,2', 'brain.,3', 'stay.', 'cath.', 'scale.,4', 'novolin', 'b.i.d.,5', 'arrest.,2', 'post-respiratory', 'extremis.', 'hand-held', 'ph', 'bands.', 'ada', 'ventolin', 'electrographic', 'tc-', 'pharmacological', 'cardiolite.', 'poststress', 'fair.,2', 'evidences', 'reperfusion', 'parkway', 'greenish', 'expectoration', 'yards', 'dysfunction.,3', 'nephropathy', 'failure.,5', 'implantation.,6', 'fibrillation.,7', 'therapy.,2', 'preoperatively.', 'dysrhythmia.', 'mesothelioma.,2', 'infections.,3', 'disease/gastritis.,4', 'osteopenia.,5', 'sciatica.,6', 'neuropathy.,8', 'fibromyalgia.,9', 'these.', 'tonsillectomy.,2', 'appendectomy.,4', 'thyroidectomy.,5', 'coccygectomy.,6', 'cystoscopies', 'several.,7', 'resuspension.,8', 'robaxin', 'armour', 'temazepam', 'chloral', 'hydrate', 'fathers', 'sciatic', 'coagulopathy.', 'well-groomed', 'articulate', 'arcus', 'senilis', 'engulfed', 'porta', 'hepatis', 'nonocclusive', 'greenfield', 'strip', 'r.', 'digitalis', 'pneumovax.', 'dips', 'smokeless', 'corridor', ',ophthalmologic', 'gout.', 'niddm.', 'anticoagulants', 'nonprogression', 'infarcts', 'plethora', 'retraction.', 'auscultated.', 'holden', 'lansoprazole', 'piperacillin/tazobactam', 'intractable/inoperable', 'envision', 'scenario', 'essence', 'parcel', 'notion', 'nondihydropyridine', 'nephrolithotomy', 'hyperlipidemia.,3', 'obesity.,5', 'syndrome.,6', 'thyroidectomy', 'barber', 'clonidine', 't.i.d.,7', 'q.p.m.', 'coverage.', 'well-appearing', 'scar.', 'clavicular', 'prosthetic', 'click.', 'fatigability.', 'exercise-induced', 'spray.,2', 'evista', 'well-built', '°.', 'crepitation', 'friction', 'canada', 'estimates', 'cardioversions', 'emerged', 'flecainide', 'fibrillation/atrial', 'antiarrhythmics', ',as', 'evening.,5', 'sea', 'nephew', 'electrophysiologist', 'ep', 'sluggish', 'college.', 'kyphoscoliosis', 'egophony', 'flutter.', 'echocardiogram-guided', 'favor', 'electrocardioversion', 'tachyarrhythmias', 'bradyarrhythmias', 'cardioverter', '5-second', 'statistically', 'null', 'titrate-down', 'lollipop', 'hands-driven', 'suppose', 'promulgating', 'aortocoronary', 'halifax', 'subsiding', 'splenectomy', 'respectively.', 'medically.', 'widow', 'georgia', 'likes', 'tea', 'paxil.', 'meloxicam', 'i/vi', 'peaking', 'radiologists', 'infarction.,3', 'non-pitting', 'edema.,8', 'arthritis.,9', 'spleen.,2', 'report.', 'ptca/endeavor', 'lad.', '6-french.', 'valium.,2', 'benadryl.,3', 'lidocaine.,4', 'heparin.,5', 'reopro.,6', 'xp', 'folded', 'redilated', 'establishment', 'reinflated', 'wall.,3', 'occlusion.,2', 'function.,4', 'panicking', 'sentences.', 'insulin-dependent', 'heparin-induced', 'polypectomies.', 'abc.', 'evening.,7', 'malaise.', 'gum', 'hematemesis.', 'petechiae', 'forearms.', 'swings.', 'weakly', 'sluggish.', 'diminishment', 'excursions', 'expanded.', 'angiogram.,3', 'catheterization.,4', 'post-absorptive', 'non-sedated', 'projection.', 'runs', 'midsegment', 'disease.,7', 're-stenosis', 'precatheterization', 'shunt.', 'norwood.', 'glenn.,2', 'hypoplasia.,3', 'neo-aortic', 'coarctation.,6', 'xxxxxx', 'hayes', 'siterite', 'measured.', 'berman', 'cavagram', 'continuously.', 'a6', 'pullbacks', '6-mmhg', 'mixing', ',please', 'meter', 'wide-open', 'isthmal', 'duplication', 'opacified', 'catheter-induced', 'duplicated', 'crushing-type', 'substernal', 'iliofemoral', 'ml/second', 'psi', 'successfully.', 'measurement.,2', 'performed.,3', 'stenting.,4', 'arteriotomy.', 'dispositioned', 'om-3', 'om-4', 'plom', 'circ', 'salvage', 'sizeable', 'taxus', 'indefinitely', 'prophylaxis.', 'angio-seal.', 'progression.', 'descend', 'bedrest', 'operates', 'om-2', 'kink', 'allows', 'amenable', 'antihyperlipidemic', ',under', 'backwash', 'funneling', 'divides', 'excluding', 'connecting', 'well.,5', 'ivus', 'reevaluate', 'williams', 'vessel.,2', 'noted.,4', 'vessel.,5', 'shot.,6', 'native.,2', 'vessel.,3', 'thermodilution', 'transducer.', '/7', '//4', 'angiographs', 'langston', 'yielding', 'cm2.,3', 'kenneth', 'fang', 'repair/replacement', 'dose.,2', 'bisulphate', 'po,3', 'abciximab', 'bolus,5', 'ml/', 'ml,6', ',approach', 'sci', 'quantum', 'vista', 'brite', '6fr', 'jr', '4,3.', 'acs/guidant', 'wire,4', 'findings/interventions', 'transaortic', 'eluting', 'stented.,3', 'warranted.,4', 'moveable', 'non-bleed-back', 'hexabrix', 'balloon.', 'balloon.,4', 'allograft', 'bypass.,2', 'ioban.,3', 'mahurkar', 'hemofiltration', 'shin', 'tapes', 'cardiectomy', 'resecting', 'transecting', 'atriums', 'overtime', 'counterpulsation', 'infraclavicular', 'fresh-frozen', 'cryoprecipitates', 'hodgkin', ',i.', 'contemplated', 'nitrates', 'iii.', 'step-down', 'mercury', 'posterobasal', 'posteromedial', 'protection.,2', 'pump.', 'banded', 'cc/kg', 'pumping', 'suffers', 'djd.', 'pulled.', 'q.d-discontinued', 'mg-reduced', 'lorcet', '/-given', 'b.i.d-given', 'epigastrium.', 'cad-status', 'dyspnea-seems', 'pain-we', 'scotland', 'refills.,4', 'dyslipidemia-excellent', 'given.,5', 'panic', 'anxiety-xanax', 'refills', 'pain-asked', 'q.d.,7', 'prevention-i', 'plavix.,2', 'given.,4', 'orthopedics.,5', 'peridex', 'cardiovascularly', 'x4.', 'conduits', 'targets', 'smallest', 'neo-synephrine', 'precedex', 'interfaced', 'ij', 'probes', 'harvest.', 'harvest', 'globally', 'softened', 'accommodated', 'apposed', 'venotomies', 'slit', 'epicardium', 'pedicle.', 'de-airing', 'contractile', 'v-pacing', 'reappose', 'halves', 'musculofascial', 'guide-wire', 'exchanger', 'j-tipped', 'cdrc', 'neptune', 'edp', 'obstructive.,2', 'main.,3', 'flow.,4', 'mid-left', 'prox-lad', 'bradycardic', 'mg/deciliter', 'off-pump', 'bivad', 'protectors', 'multilayer', 'pulsavac', '2-stage', 'normothermia', 'bulldogs', 'begun.', 'pectus', 'double-layer', 'minimized', 'lessen', 'insult', 'protection.', 'surgilon', 'crossclamped', 'crossclamp', 'opened.', 'mersiline', 'tapes.', 'osteomyelitis.,2', 'broviac', 'toddler', 'exhausted', 'routes', 'reiterate', 'transited', 'tether', 'ingrowth', 'contamination', 'suctioning', 'satisfied', 'booklet', 'washings', 'immunocompromise.', 'immunocompromised', 'host', 'stains.', 'pneumonitis.', 'bronchioles', 'tenacious', 'bronchopneumonia.,2', 'bronchoscopy.,2', 'laryngectomy', 'aspirated.', 'fungi', 'fast.', 'richardson', 'oxygenated', 'pus.', 'transported.', 'bronchus.', '7-month-old', 'secretions.', 'airways.', 'sequelae', 'smv', 'new-appearing', 'be.', 'paralytics', 'purulent-appearing', 'similar-appearing', 'intrabronchially', 'self-expanding', 'situation.,2', 'bronchoplasty', 'bronchus.,4', 'trachea.,5', 'silicon', 'cords.,2', 'stent.,3', 'tissue.,4', 'tissue.,5', 'struts', 'stent.,6', 'terrible', 'jet', 'conferred', 'strategy', 'cauterize', 'painstaking', 'bits', 'donovan', 'dumon', 'y-stent', 'examine', 'backlog', 'examined.', 'proximity', 'reexamination', 'polydek', 'bagging', 'satisfactorily.', 'recipient', 'radiation-induced', 'im.,4', 'cords.', 'hyperemia', 'tenting', 'inspissated', 'bal', 're-introduced', 'gram-stain', 'nocardia', 'aspergillus', 'mycoplasma', 'chlamydia', 'rsv', 'legionella', '6-cm', 'container', 'tachycardia.,4', 'pacing.', 'defibrillator.,2', 'defibrillator.,3', 'placement.,4', 'mcg.,4', 'sticks', '9-french', '-volt', 'balloon-tipped', 'whisper', 'j-curved', 'defibrillate', 'establishing', 'workings', 'p-waves', 'milliseconds.,3', 'ohms.,2', 'ohms.', 'settings,1', 'vt-1', 'vt-2', 'defibrillator,2', 'joules.,2', 'morning.,4', 'plugging.', 'lukens', 'successive', 'syncytial', 'innocent', 'grunting', 'flaring', 'fontanelle', '2-3/6', 'coarseness', 'fireplaces', 'barbecues', 'infants', 'washings.', 'breast-feeding', 'intake.', 'decides', 'eat.', 'mucocele', 'commissure', 'propensity', 'carinae', 'sticky', 'mucomyst', 'dislodge', 'plugs', 'mid-to-high', 'microbiologic', 'frail', 'cicatrix.,3', 'stents.,5', 'trachea.,6', 'cm.,7', 'cm.,8', 'cm.,9', 'dilation.,2', 'mitomycin-c.,4', 'theater', 'dedo', 'microdebrider', 'precarinal', 'aspirations', 'wang', '9-day', 'moms', 'vaporizer', 'reevaluation.', 'g8', 'pregnancy.', 'bird', 'fussy', 'boarder.', 'curvature.', 'reassess', 'tetralogy', 'fallot', 'discontinuous', 'palliated', 'unifocalization', 'unifocalized', 'arterioplasty', 'diego', 'contegra', 'well-functioning', 'z-med', 'mistique', 'angiograph', 'neointimal', 'levophase', 'disruption.', 'defect.,2', 'atresia.,3', 'sinus.,4', 'arch.,5', 'arteries.,6', 'conduit.,3', 'repair.,4', 'arteries.,5', 'informs', 'map', 'tahoe', 'pacific', 'hypernatremia', 's/mid', 'sgot', 'sgpt', 'concentrated', 'critically', 'depletion', 'replete', 'started.,2', 'negative.,3', 'examination.,4', 'pma.,5', 'supplementation.,6', 'so.,7', 'fingerstick', 'multiorgan', 'holt', 'recollect', 'directed.', 'arthritis.,6', 'death.', 'cafeteria', 'plendil', 'periphery.', 'panel.,4', 'management.,5', 'indefinitely.,6', 'echocardiogram.,7', 'ash', 'anesthetist', 'tunneling', 'rod', 'saline.', 'wings', 'angiogram.,4', 'runoff.,6', 'applicable.', 'engagement', 'v-tech', 'arch.,2', 'over.,5', 'summed', 'flow.,6', 'in.', 'researching', 'statement', 'tracings', 'pac.', 'lids', 'lashes', 'brows', 'cellulitis.', 'corresponds', 'making.', 'ionized', 'munson', 'wolff-parkinson', 'qt', 'varner', 'non-inducible', 'wpw', 'post-discharge.', 'response.,2', 'bioprosthetic', 'claudication.', 'fearful', 'chloraseptic', 'cloth', ',4-french', 'omni', 'injector', 'proceeded.', 'run-off', 'contralateral', 'destination', 'functionally', 'circulate', 'question.', 'search', 'accelerated', 'approached', 'o1', 'thruway', 'deployed.', 'midcalf', 'collateralization', 'tibioperoneal', 'arteries.,3', 'described.,4', 'hypertrophied·', 'hundred', 'heparinization.', 'cooled', 'slush', 'aortobifemoral', 'bypass.', 'arteriosclerosis', 'x8', 'betadine-coated', 'intraabdominally', 'intraluminally', 'vented', 'tunnels', 'twisting', 'repacked', 'shell', 'retroperitoneum', 'diagnosis,1', 'bifurcated', 'clampable', 'beveled', 'graft-to-side', 'abf', 'footed', 'rocking', 'mini-strokes', 'sensipar', 'hyperparathyroidism.', 'bedtime.,4', 'nephro-vite', 'q.a.m.,6', 't.i.d.,8', 'day.,9', 'nightly.', 'talking.', 'data/lab', 'unreliable', 'xy', 'adjudicate.', 'labetalol.,2', 'diuresis.,3', 'stratification', 'well.,4', 'labetalol.,5', 'thromboprophylaxis', 'extremity.,2', 'triphasic.,4', 'biphasic.,4', 'starclose', ',2', 'erupts', 'finishing', 'om-1', 'pl', 'portion.,7', 'catheterization/pci', 'arthrectomy', 'mmhg.,2', 'trunk.', 'portion.', 'plavix.', '3x8', 'cross-it', 'dopamine.', 'notified.', 'slam', 'export', 'predilation', 'artery/diffuse', 'overlap', 'result.', 'hypokinetic', 'mr.,2', 'subtotally', 'penetrate', 'ventriculography.,4', 'reaches', 'small.', 'overload.,4', 'overload.,2', 'grafting.,3', 'nitrate.,4', 'atherectomy.,3', 'angioplasty.,5', 'non-severe', 'anticipated.', 'angioplastied', 'precluded', 'clearpath', 'arthrectomize', 'dealt', 'up-and-over', 'raby', 'hoped', 'precluding', 'acetabular', 'run-on', 'women', 'stresses', 'handled', 'doesnt', 'fail', 'squeezing.', 'occurs.', 'blades.', 'doctor.', 'dont', 'low-salt', 'low-fat', 'overworking', 'extremes', 'altitudes', 'pressurized', 'airplanes', 'arent', 'techniques.', 'fatal', 'decreases', 'odds', 'occur.', 'post-lexiscan', 'ranks', '1-.', 'tonight', 'one-hour.', 'nosebleed.', 'banker.', 'qday', 'n.', 'circumstance', 'neighbor', 'pain-free', 'her.,6', 'tolerating.,7', 'claritin', 'cornell', 'laboratory.', 'membranes.', 'nondisplaced.', 'valsartan', 'non-cardiac', 'exertionally', 'anti-anginal', 'desires', 'anginal', 'suited', 'transfer.', 'of.,3', 'tonight.', 'enclosing', 'endocrine/hematological', 'heent/neck', 'feeble', 'extensively.,2', 'fares']\n"
     ]
    }
   ],
   "source": [
    "print(words)"
   ]
  },
  {
   "cell_type": "code",
   "execution_count": 75,
   "id": "2024948e",
   "metadata": {},
   "outputs": [
    {
     "name": "stdout",
     "output_type": "stream",
     "text": [
      "[ 0.03106281 -0.07074327  0.04528017  0.16558787  0.08254202  0.10887036\n",
      "  0.03197986  0.1958983  -0.10656888  0.0334806   0.03862099 -0.04223233\n",
      " -0.04572555 -0.10445784  0.05143708 -0.04712089  0.08446626 -0.1325916\n",
      "  0.0968876  -0.02690332  0.06379066  0.01096087  0.01100656 -0.01099656\n",
      " -0.01176183  0.13956495 -0.03462233  0.07849466  0.21987307  0.10976051\n",
      "  0.04065366 -0.02805992 -0.02344968 -0.12820625  0.03302466  0.04898654\n",
      "  0.06109745  0.02393153  0.05513814  0.00918279 -0.03220907  0.05300608\n",
      "  0.0023952   0.15712751  0.0936674  -0.05891731  0.11208563  0.01157327\n",
      "  0.12993358 -0.18160485 -0.09727473  0.01755428 -0.04410746  0.03760902\n",
      " -0.04152933  0.13273336  0.02738803 -0.07390727  0.10324132  0.1178416\n",
      " -0.05794292  0.23620804 -0.02957127  0.08089279 -0.13097455  0.19013423\n",
      "  0.09664432  0.03826337 -0.05076467  0.04340009  0.0281681  -0.11033987\n",
      " -0.00567356  0.07536107 -0.0665089  -0.03894016 -0.15872507 -0.02581827\n",
      "  0.022851    0.14955792 -0.02432656 -0.02895778 -0.0206597   0.09341644\n",
      " -0.03633495 -0.06480666  0.06827912  0.08440921 -0.16196926  0.05846878\n",
      "  0.11367259  0.00585381 -0.12669529 -0.03290727 -0.05733252 -0.04588136\n",
      " -0.0912772  -0.02408805  0.02068055  0.02336548]\n"
     ]
    }
   ],
   "source": [
    "#Access word vectorfor one word \"allergy\"\n",
    "print(mymodel['allergy'])"
   ]
  },
  {
   "cell_type": "code",
   "execution_count": 77,
   "id": "49355bc5",
   "metadata": {},
   "outputs": [],
   "source": [
    "#The word \"allergy\" has been rated 100 different features here, which are the values."
   ]
  },
  {
   "cell_type": "code",
   "execution_count": 87,
   "id": "37a3036e",
   "metadata": {},
   "outputs": [
    {
     "data": {
      "text/html": [
       "<div>\n",
       "<style scoped>\n",
       "    .dataframe tbody tr th:only-of-type {\n",
       "        vertical-align: middle;\n",
       "    }\n",
       "\n",
       "    .dataframe tbody tr th {\n",
       "        vertical-align: top;\n",
       "    }\n",
       "\n",
       "    .dataframe thead th {\n",
       "        text-align: right;\n",
       "    }\n",
       "</style>\n",
       "<table border=\"1\" class=\"dataframe\">\n",
       "  <thead>\n",
       "    <tr style=\"text-align: right;\">\n",
       "      <th></th>\n",
       "      <th>Term1</th>\n",
       "      <th>Term2</th>\n",
       "    </tr>\n",
       "  </thead>\n",
       "  <tbody>\n",
       "    <tr>\n",
       "      <th>0</th>\n",
       "      <td>Glaucoma</td>\n",
       "      <td>Fibrillation</td>\n",
       "    </tr>\n",
       "    <tr>\n",
       "      <th>1</th>\n",
       "      <td>Carbatrol</td>\n",
       "      <td>Dilantin</td>\n",
       "    </tr>\n",
       "    <tr>\n",
       "      <th>2</th>\n",
       "      <td>Cardiomyopathy</td>\n",
       "      <td>Tylenol</td>\n",
       "    </tr>\n",
       "    <tr>\n",
       "      <th>3</th>\n",
       "      <td>Herpes</td>\n",
       "      <td>Hyperthyroidism</td>\n",
       "    </tr>\n",
       "    <tr>\n",
       "      <th>4</th>\n",
       "      <td>Seasickness</td>\n",
       "      <td>Nausea</td>\n",
       "    </tr>\n",
       "    <tr>\n",
       "      <th>5</th>\n",
       "      <td>Coccidioidomycosis</td>\n",
       "      <td>Histoplasmosis</td>\n",
       "    </tr>\n",
       "    <tr>\n",
       "      <th>6</th>\n",
       "      <td>Angina</td>\n",
       "      <td>Plavix</td>\n",
       "    </tr>\n",
       "    <tr>\n",
       "      <th>7</th>\n",
       "      <td>Zofran</td>\n",
       "      <td>Ipecac Syrup</td>\n",
       "    </tr>\n",
       "    <tr>\n",
       "      <th>8</th>\n",
       "      <td>Seizures</td>\n",
       "      <td>Insulin</td>\n",
       "    </tr>\n",
       "    <tr>\n",
       "      <th>9</th>\n",
       "      <td>Septicemia</td>\n",
       "      <td>Dyspnea</td>\n",
       "    </tr>\n",
       "    <tr>\n",
       "      <th>10</th>\n",
       "      <td>Nystagmus</td>\n",
       "      <td>Incontinence</td>\n",
       "    </tr>\n",
       "    <tr>\n",
       "      <th>11</th>\n",
       "      <td>Seasickness</td>\n",
       "      <td>Ethanol</td>\n",
       "    </tr>\n",
       "    <tr>\n",
       "      <th>12</th>\n",
       "      <td>Earache</td>\n",
       "      <td>Hyperacusis</td>\n",
       "    </tr>\n",
       "    <tr>\n",
       "      <th>13</th>\n",
       "      <td>Plague</td>\n",
       "      <td>Cholestyramine</td>\n",
       "    </tr>\n",
       "    <tr>\n",
       "      <th>14</th>\n",
       "      <td>Zovirax</td>\n",
       "      <td>Famvir</td>\n",
       "    </tr>\n",
       "    <tr>\n",
       "      <th>15</th>\n",
       "      <td>Nausea</td>\n",
       "      <td>Vomiting</td>\n",
       "    </tr>\n",
       "    <tr>\n",
       "      <th>16</th>\n",
       "      <td>Ketonuria</td>\n",
       "      <td>Chyluria</td>\n",
       "    </tr>\n",
       "    <tr>\n",
       "      <th>17</th>\n",
       "      <td>Convulsion</td>\n",
       "      <td>Ethanol</td>\n",
       "    </tr>\n",
       "    <tr>\n",
       "      <th>18</th>\n",
       "      <td>Parasitemia</td>\n",
       "      <td>Malaria</td>\n",
       "    </tr>\n",
       "    <tr>\n",
       "      <th>19</th>\n",
       "      <td>Proteinuria</td>\n",
       "      <td>Diabetes</td>\n",
       "    </tr>\n",
       "  </tbody>\n",
       "</table>\n",
       "</div>"
      ],
      "text/plain": [
       "                 Term1            Term2\n",
       "0             Glaucoma     Fibrillation\n",
       "1            Carbatrol         Dilantin\n",
       "2       Cardiomyopathy          Tylenol\n",
       "3               Herpes  Hyperthyroidism\n",
       "4          Seasickness           Nausea\n",
       "5   Coccidioidomycosis   Histoplasmosis\n",
       "6               Angina           Plavix\n",
       "7               Zofran     Ipecac Syrup\n",
       "8             Seizures          Insulin\n",
       "9           Septicemia          Dyspnea\n",
       "10           Nystagmus     Incontinence\n",
       "11         Seasickness          Ethanol\n",
       "12             Earache      Hyperacusis\n",
       "13              Plague   Cholestyramine\n",
       "14             Zovirax           Famvir\n",
       "15              Nausea         Vomiting\n",
       "16           Ketonuria         Chyluria\n",
       "17          Convulsion          Ethanol\n",
       "18         Parasitemia          Malaria\n",
       "19         Proteinuria         Diabetes"
      ]
     },
     "execution_count": 87,
     "metadata": {},
     "output_type": "execute_result"
    }
   ],
   "source": [
    "data2=pd.read_csv(\"MedicalConcepts.csv\",)\n",
    "data2.head(20)"
   ]
  },
  {
   "cell_type": "code",
   "execution_count": 88,
   "id": "50ede1f2",
   "metadata": {},
   "outputs": [
    {
     "data": {
      "text/plain": [
       "Fibrillation          8\n",
       "Mycosis               8\n",
       "Dyslipidemia          8\n",
       "Cataracts             7\n",
       "Cirrhosis             7\n",
       "                     ..\n",
       "Dementia              1\n",
       "Ceftiaxone            1\n",
       "Dysentery             1\n",
       "Glyburide             1\n",
       "Glomerulosclerosis    1\n",
       "Name: Term1, Length: 269, dtype: int64"
      ]
     },
     "execution_count": 88,
     "metadata": {},
     "output_type": "execute_result"
    }
   ],
   "source": [
    "data2['Term1'].value_counts()"
   ]
  },
  {
   "cell_type": "code",
   "execution_count": 89,
   "id": "50bb0e0f",
   "metadata": {},
   "outputs": [],
   "source": [
    "data2_words1= data2['Term1']"
   ]
  },
  {
   "cell_type": "code",
   "execution_count": 90,
   "id": "a8bef153",
   "metadata": {},
   "outputs": [
    {
     "name": "stdout",
     "output_type": "stream",
     "text": [
      "[['Glaucoma'], ['Carbatrol'], ['Cardiomyopathy'], ['Herpes'], ['Seasickness'], ['Coccidioidomycosis'], ['Angina'], ['Zofran'], ['Seizures'], ['Septicemia'], ['Nystagmus'], ['Seasickness'], ['Earache'], ['Plague'], ['Zovirax'], ['Nausea'], ['Ketonuria'], ['Convulsion'], ['Parasitemia'], ['Proteinuria'], ['Gastroenteritis'], ['Hypoproteinemia'], ['Spiriva'], ['Ketonuria'], ['Insulin'], ['Cataracts'], ['Methadone'], ['Diabetes'], ['Blanching'], ['Thirsty'], ['Photosensitization'], ['Polyuria'], ['Psoriasis'], ['Virilism'], ['Comatose'], ['Sleeplessness'], ['Neuropathy'], ['Psoriasis'], ['Tuberculosis'], ['Obesity'], ['Thromboembolism'], ['Pneumoniae'], ['Cardura'], ['Cataracts'], ['Cirrhosis'], ['Seizures'], ['Cataracts'], ['Anemia'], ['Convulsion'], ['Osteoporosis'], ['Seizures'], ['Garlic'], ['Dyslipidemia'], ['Fibrillation'], ['Cefoxitin'], ['Deafness'], ['Penicillin'], ['Diabetes'], ['Hemochromatosis'], ['Ischemias'], ['Pallor'], ['Earache'], ['Herpes'], ['Dyslipidemia'], ['Rabies'], ['Plague'], ['Chyluria'], ['Alcohol'], ['Codeine'], ['Coumadin'], ['Vancocin'], ['Coccidioses'], ['Pallor'], ['Aneurysm'], ['Ischemias'], ['Flatulence'], ['Cefazolin'], ['Osteoporosis'], ['Encephalitis'], ['Hemophilia'], ['Arthritis'], ['Urethrorrhea'], ['Anovulation'], ['Albumin'], ['Polyuria'], ['Snoring'], ['Psoriasis'], ['Haemorrhoids'], ['Epilepsy'], ['Epilepsy'], ['Psoriasis'], ['Snoring'], ['Arteriosclerosis'], ['Myelosuppression'], ['Pneumoniae'], ['Hernias'], ['Hematemesis'], ['Arthralgia'], ['Synthroid'], ['Pneumoniae'], ['Bandemia'], ['Glaucoma'], ['Seasickness'], ['Arthralgia'], ['Hemophilia'], ['Dysuria'], ['Underexertion'], ['Aneurysm'], ['Colchicine'], ['Hernia'], ['Overnutrition'], ['Cataracts'], ['Ethanol'], ['Hyperthyroidism'], ['Esmolol'], ['Infertility'], ['Arthralgia'], ['Anoxemia'], ['Dizziness'], ['Pancreatitis'], ['Gastroenteritis'], ['Leukopenia'], ['Histoplasmosis'], ['Neuropathy'], ['Clubbing'], ['Hemiplegia'], ['Mycosis'], ['Rheumatism'], ['Dyspnea'], ['Cirrhosis'], ['Hemicrania'], ['Loperamide'], ['Sluggishness'], ['Cardiomyopathies'], ['Anoxemia'], ['Seasickness'], ['Dyslipidemia'], ['Thalassemia'], ['Convulsion'], ['Angina'], ['Myositis'], ['Anovulation'], ['Earache'], ['Ischemias'], ['Bronchitis'], ['Lipitor'], ['Pneumoniae'], ['Spasm'], ['Torticollis'], ['Dermatitis'], ['Silvadene'], ['Arteriosclerosis'], ['Hemochromatosis'], ['Metatarsalgia'], ['Dehydration'], ['Colitis'], ['Diabetes'], ['Ketonuria'], ['Seizures'], ['Gonorrhea'], ['Banana', 'Bag'], ['Hypothyroidism'], ['Thalassemia'], ['Reticulocytosis'], ['Mycosis'], ['Mycoses'], ['Pallor'], ['Maculopapule'], ['Heartburn'], ['Aloe', 'Vera'], ['Codeine'], ['Acetylcysteine'], ['Cromolyn'], ['Spasm'], ['Diarrhea'], ['Ceftazidime'], ['Pain'], ['Narcan'], ['Vasculitis'], ['Colchicine'], ['Cozaar'], ['Cirrhosis'], ['Cefepime'], ['Smallpox'], ['Starvation'], ['Photosensitization'], ['Dexamethasone'], ['Hepatitis'], ['Ischemias'], ['Hernias'], ['Goiter'], ['Ataxia'], ['zoonosis'], ['Rhonchi'], ['Tiredness'], ['Atherosclerosis'], ['Hepatitis'], ['Narcan'], ['Diarrhea'], ['Myositis'], ['Bronchitis'], ['Dysuria'], ['Levaquin'], ['Hyperacusis'], ['Chloramphenicol'], ['Cefaclor'], ['Erythromycin'], ['Hypothyroidism'], ['Protonix'], ['Catatonia'], ['Schistosomiasis'], ['Polydipsia'], ['Cirrhosis'], ['Stridor'], ['Atenolol'], ['Prostatism'], ['Dehydration'], ['Enalapril'], ['Hyperemesis'], ['Reticulocytosis'], ['Uremias'], ['Myopathy'], ['Infertility'], ['Ketonuria'], ['Blastomycoses'], ['Candidiasis'], ['Heparin'], ['Cardiomyopathy'], ['Mycosis'], ['Proteinuria'], ['Angina'], ['Bacteremia'], ['Dyslipidemia'], ['Uremias'], ['Osteoporosis'], ['Hyperemesis'], ['Parasitemia'], ['Neuropathy'], ['Seasickness'], ['Iron'], ['Cardialgia'], ['Rheumatism'], ['Brucellosis'], ['Atenolol'], ['Emaciation'], ['Aphonia'], ['Starvation'], ['Blepharospasm'], ['Ampicillin'], ['Angina'], ['Lasix'], ['Uremias'], ['Incontinence'], ['Thromboembolism'], ['Exophthalmos'], ['Uremias'], ['Sinemet'], ['Allergy', '.'], ['Hernia'], ['Dehydration'], ['Fish-mouthing'], ['Arthritis'], ['Infertility'], ['Bronchitis'], ['Mycosis'], ['Cataracts'], ['Overnutrition'], ['Convulsion'], ['Cyanosis'], ['Infertility'], ['Neuropathy'], ['Erythromycin'], ['Heartburn'], ['Pallor'], ['Hyperextension'], ['Weakness'], ['Hypothyroidism'], ['Grimaces'], ['Exophthalmos'], ['Infertility'], ['Dizziness'], ['Dyslipidemia'], ['Giardiasis'], ['Seizures'], ['Zoloft'], ['Peritonitis'], ['Actonel'], ['Arthralgia'], ['Clubbing'], ['Plavix'], ['Primatine'], ['Constipation'], ['Arthritis'], ['Meningitis'], ['Dizziness'], ['Cataracts'], ['Agitation'], ['Anosmia'], ['Drooling'], ['Cirrhosis'], ['Glaucoma'], ['Syncope'], ['Regurgitation'], ['Activase'], ['Zithromax'], ['Catatonia'], ['Arthralgia'], ['Blepharospasm'], ['Photopsia'], ['Meningitis'], ['Glyburide'], ['Atherosclerosis'], ['Anosmia'], ['HYPEREMESIS'], ['Angina'], ['Thrombophilias'], ['Obesity'], ['Glucotrol'], ['Atherosclerosis'], ['Scapulalgia'], ['Hepatomegaly'], ['Anosmia'], ['Meningitis'], ['Hypersomnolence'], ['Prostatorrhea'], ['Flatulence'], ['Flushing'], ['Mittelschmerz'], ['Hemochromatosis'], ['Clubbing'], ['Mittelschmerz'], ['Thirsty'], ['Sciatica'], ['Bronchitis'], ['Candidiasis'], ['Snoring'], ['Fibrillation'], ['Digoxin'], ['Xanax'], ['Hepatitis'], ['Dyspnea'], ['Clubbing'], ['Rheumatism'], ['Rheumatism'], ['Diabetes'], ['Fibrillation'], ['Hemicrania'], ['Thromboembolism'], ['Hemoptysis'], ['Osteoporosis'], ['Ataxia'], ['Mycosis'], ['Sciatica'], ['Catapres'], ['Appendicitis'], ['Ceftiaxone'], ['Hemicrania'], ['Plavix'], ['Gastroenteritis'], ['Epilepsy'], ['Hypoproteinemia'], ['Dyspnea'], ['Prilosec'], ['Cisplatin'], ['Medrol'], ['Ischemias'], ['Scapulalgia'], ['Mycosis'], ['Nausea'], ['Cholestyramine'], ['Weakness'], ['Urethrorrhea'], ['Carboplatin'], ['Neuropathy'], ['Syphilis'], ['Isosorbide'], ['Nephritis'], ['Doxycyline'], ['Uremias'], ['Rales'], ['Hyperextension'], ['Mittelschmerz'], ['Cirrhosis'], ['Pancreatitis'], ['Pancreatitis'], ['Thromboembolism'], ['Hepatitis'], ['Hyperacusis'], ['Thrombocytopenia'], ['Appendicitis'], ['Metatarsalgia'], ['Bandemia'], ['Levophed'], ['Rheumatism'], ['Chills'], ['Camelpox'], ['Overnutrition'], ['Leukopenia'], ['Synthroid'], ['Atherosclerosis'], ['Fibrillation'], ['Thrombophilias'], ['Hemiplegia'], ['Atherosclerosis'], ['Clonus'], ['Pyorrhea'], ['Dyspnea'], ['Brucellosis'], ['Meningism'], ['Thalassemia'], ['Nitroglycerine'], ['Allergy', '.'], ['Hyperoxia'], ['Airsickness'], ['Constipation'], ['Candidiasis'], ['Zocor'], ['comatose'], ['Angina'], ['Vasculitis'], ['Syncope'], ['Gonorrhea'], ['Hyperoxia'], ['Schistosomiasis'], ['Lipitor'], ['Snoring'], ['Anoxemia'], ['comatose'], ['Wellbutrin'], ['Anosmia'], ['Headache'], ['Bandemia'], ['Phenobarbital'], ['Bleomycin'], ['Avitaminoses'], ['Mycosis'], ['Polyarthritides'], ['Cardiomyopathy'], ['Cirrhosis'], ['Hunger'], ['Hypothyroidism'], ['Influenzae'], ['Tylenol'], ['Hyperoxia'], ['Ischemias'], ['Anovulation'], ['Tuberculosis'], ['Fibrillation'], ['Hypothyroidism'], ['Syphilis'], ['Carboplatin'], ['Drooling'], ['Arthritis'], ['Diabetes'], ['Hemoptysis'], ['Proteinuria'], ['Drooling'], ['Pallor'], ['Syphilis'], ['Cataracts'], ['Epilepsy'], ['Adenitis'], ['Heartburn'], ['Clubbing'], ['Asthma'], ['Thromboembolism'], ['Fibrillation'], ['Glomerulosclerosis'], ['Nocturia'], ['Seizures'], ['Scapulalgia'], ['Allopurinol'], ['Hemochromatosis'], ['Amantadine'], ['Meningitis'], ['Myositis'], ['Pneumonia'], ['Thromboembolism'], ['Cluttering'], ['Thrombocytopenia'], ['Syncope'], ['Tremor'], ['Epilepsy'], ['Agitation'], ['Anovulation'], ['Erythema'], ['Dehydration'], ['Rales'], ['Cortisone'], ['Headache'], ['Arthritis'], ['Erythema'], ['Obesity'], ['Dyspnea'], ['Uremias'], ['Prostatism'], ['Hemoglobinopathy'], ['comatose'], ['Weakness'], ['Thirsty'], ['Dyspnea'], ['Dyslipidemia'], ['Leukopenia'], ['Meningitis'], ['Weakness'], ['Constipation'], ['Fibrillation'], ['Goiter'], ['Nocturia'], ['Hyperthyroidism'], ['Dyslipidemia'], ['Pallor'], ['Vfend'], ['Hemoptysis'], ['Mastodynia'], ['Rales'], ['Anemia'], ['Sinemet'], ['Dermatitis'], ['Coccidioses'], ['Tiredness'], ['Polyuria'], ['Toothache'], ['Mannitol'], ['Otitis'], ['Clonus'], ['Anemia'], ['Fish', 'Oil'], ['Nocturia'], ['Weakness'], ['Dyslipidemia'], ['Mycosis'], ['Dementia'], ['Dysentery'], ['Plague'], ['Rabies'], ['Influenza'], ['Rabies'], ['Plavix'], ['Giardiasis'], ['Psoriasis'], ['Propranolol'], ['Toothache'], ['Dermatomyositis'], ['Starvation'], ['Anovulation'], ['Agranulocytosis'], ['Torticollis'], ['Tiredness'], ['Calamine'], ['Hemochromatosis'], ['Anovulation'], ['Hyperextension'], ['Albuterol'], ['Arthritis'], ['Cyanosis'], ['Pepcid'], ['Epilepsy'], ['Carsickness'], ['Fibrillation'], ['zoonosis'], ['Meningism'], ['Abortions.spontaneous'], ['Dyspnea'], ['Encephalitis'], ['Epilepsy']]\n"
     ]
    }
   ],
   "source": [
    "data2_token1 = [word_tokenize(word) for word in data2_words1]\n",
    "\n",
    "print(data2_token1)"
   ]
  },
  {
   "cell_type": "code",
   "execution_count": 95,
   "id": "fbea3415",
   "metadata": {},
   "outputs": [],
   "source": [
    "mymodel_2= Word2Vec(data2_token1, min_count=1)"
   ]
  },
  {
   "cell_type": "code",
   "execution_count": 96,
   "id": "c1d74e17",
   "metadata": {},
   "outputs": [
    {
     "name": "stdout",
     "output_type": "stream",
     "text": [
      "Word2Vec(vocab=273, size=100, alpha=0.025)\n"
     ]
    }
   ],
   "source": [
    "print(mymodel_2)"
   ]
  },
  {
   "cell_type": "code",
   "execution_count": 97,
   "id": "79f6de0c",
   "metadata": {},
   "outputs": [
    {
     "name": "stdout",
     "output_type": "stream",
     "text": [
      "['Glaucoma', 'Carbatrol', 'Cardiomyopathy', 'Herpes', 'Seasickness', 'Coccidioidomycosis', 'Angina', 'Zofran', 'Seizures', 'Septicemia', 'Nystagmus', 'Earache', 'Plague', 'Zovirax', 'Nausea', 'Ketonuria', 'Convulsion', 'Parasitemia', 'Proteinuria', 'Gastroenteritis', 'Hypoproteinemia', 'Spiriva', 'Insulin', 'Cataracts', 'Methadone', 'Diabetes', 'Blanching', 'Thirsty', 'Photosensitization', 'Polyuria', 'Psoriasis', 'Virilism', 'Comatose', 'Sleeplessness', 'Neuropathy', 'Tuberculosis', 'Obesity', 'Thromboembolism', 'Pneumoniae', 'Cardura', 'Cirrhosis', 'Anemia', 'Osteoporosis', 'Garlic', 'Dyslipidemia', 'Fibrillation', 'Cefoxitin', 'Deafness', 'Penicillin', 'Hemochromatosis', 'Ischemias', 'Pallor', 'Rabies', 'Chyluria', 'Alcohol', 'Codeine', 'Coumadin', 'Vancocin', 'Coccidioses', 'Aneurysm', 'Flatulence', 'Cefazolin', 'Encephalitis', 'Hemophilia', 'Arthritis', 'Urethrorrhea', 'Anovulation', 'Albumin', 'Snoring', 'Haemorrhoids', 'Epilepsy', 'Arteriosclerosis', 'Myelosuppression', 'Hernias', 'Hematemesis', 'Arthralgia', 'Synthroid', 'Bandemia', 'Dysuria', 'Underexertion', 'Colchicine', 'Hernia', 'Overnutrition', 'Ethanol', 'Hyperthyroidism', 'Esmolol', 'Infertility', 'Anoxemia', 'Dizziness', 'Pancreatitis', 'Leukopenia', 'Histoplasmosis', 'Clubbing', 'Hemiplegia', 'Mycosis', 'Rheumatism', 'Dyspnea', 'Hemicrania', 'Loperamide', 'Sluggishness', 'Cardiomyopathies', 'Thalassemia', 'Myositis', 'Bronchitis', 'Lipitor', 'Spasm', 'Torticollis', 'Dermatitis', 'Silvadene', 'Metatarsalgia', 'Dehydration', 'Colitis', 'Gonorrhea', 'Banana', 'Bag', 'Hypothyroidism', 'Reticulocytosis', 'Mycoses', 'Maculopapule', 'Heartburn', 'Aloe', 'Vera', 'Acetylcysteine', 'Cromolyn', 'Diarrhea', 'Ceftazidime', 'Pain', 'Narcan', 'Vasculitis', 'Cozaar', 'Cefepime', 'Smallpox', 'Starvation', 'Dexamethasone', 'Hepatitis', 'Goiter', 'Ataxia', 'zoonosis', 'Rhonchi', 'Tiredness', 'Atherosclerosis', 'Levaquin', 'Hyperacusis', 'Chloramphenicol', 'Cefaclor', 'Erythromycin', 'Protonix', 'Catatonia', 'Schistosomiasis', 'Polydipsia', 'Stridor', 'Atenolol', 'Prostatism', 'Enalapril', 'Hyperemesis', 'Uremias', 'Myopathy', 'Blastomycoses', 'Candidiasis', 'Heparin', 'Bacteremia', 'Iron', 'Cardialgia', 'Brucellosis', 'Emaciation', 'Aphonia', 'Blepharospasm', 'Ampicillin', 'Lasix', 'Incontinence', 'Exophthalmos', 'Sinemet', 'Allergy', '.', 'Fish-mouthing', 'Cyanosis', 'Hyperextension', 'Weakness', 'Grimaces', 'Giardiasis', 'Zoloft', 'Peritonitis', 'Actonel', 'Plavix', 'Primatine', 'Constipation', 'Meningitis', 'Agitation', 'Anosmia', 'Drooling', 'Syncope', 'Regurgitation', 'Activase', 'Zithromax', 'Photopsia', 'Glyburide', 'HYPEREMESIS', 'Thrombophilias', 'Glucotrol', 'Scapulalgia', 'Hepatomegaly', 'Hypersomnolence', 'Prostatorrhea', 'Flushing', 'Mittelschmerz', 'Sciatica', 'Digoxin', 'Xanax', 'Hemoptysis', 'Catapres', 'Appendicitis', 'Ceftiaxone', 'Prilosec', 'Cisplatin', 'Medrol', 'Cholestyramine', 'Carboplatin', 'Syphilis', 'Isosorbide', 'Nephritis', 'Doxycyline', 'Rales', 'Thrombocytopenia', 'Levophed', 'Chills', 'Camelpox', 'Clonus', 'Pyorrhea', 'Meningism', 'Nitroglycerine', 'Hyperoxia', 'Airsickness', 'Zocor', 'comatose', 'Wellbutrin', 'Headache', 'Phenobarbital', 'Bleomycin', 'Avitaminoses', 'Polyarthritides', 'Hunger', 'Influenzae', 'Tylenol', 'Adenitis', 'Asthma', 'Glomerulosclerosis', 'Nocturia', 'Allopurinol', 'Amantadine', 'Pneumonia', 'Cluttering', 'Tremor', 'Erythema', 'Cortisone', 'Hemoglobinopathy', 'Vfend', 'Mastodynia', 'Toothache', 'Mannitol', 'Otitis', 'Fish', 'Oil', 'Dementia', 'Dysentery', 'Influenza', 'Propranolol', 'Dermatomyositis', 'Agranulocytosis', 'Calamine', 'Albuterol', 'Pepcid', 'Carsickness', 'Abortions.spontaneous']\n"
     ]
    }
   ],
   "source": [
    "words_2 = list(mymodel_2.wv.vocab)\n",
    "print(words_2)"
   ]
  },
  {
   "cell_type": "code",
   "execution_count": 98,
   "id": "c800537c",
   "metadata": {},
   "outputs": [
    {
     "data": {
      "text/plain": [
       "Insulin        9\n",
       "Coumadin       8\n",
       "Ethanol        7\n",
       "Tylenol        7\n",
       "Headache       6\n",
       "              ..\n",
       "Mannerism      1\n",
       "Cardura        1\n",
       "Rogaine        1\n",
       "Carsickness    1\n",
       "Protonix       1\n",
       "Name: Term2, Length: 281, dtype: int64"
      ]
     },
     "execution_count": 98,
     "metadata": {},
     "output_type": "execute_result"
    }
   ],
   "source": [
    "data2['Term2'].value_counts()"
   ]
  },
  {
   "cell_type": "code",
   "execution_count": 99,
   "id": "02f926db",
   "metadata": {},
   "outputs": [],
   "source": [
    "data2_words2= data2['Term2']"
   ]
  },
  {
   "cell_type": "code",
   "execution_count": 100,
   "id": "be3ff3b0",
   "metadata": {},
   "outputs": [
    {
     "name": "stdout",
     "output_type": "stream",
     "text": [
      "[['Fibrillation'], ['Dilantin'], ['Tylenol'], ['Hyperthyroidism'], ['Nausea'], ['Histoplasmosis'], ['Plavix'], ['Ipecac', 'Syrup'], ['Insulin'], ['Dyspnea'], ['Incontinence'], ['Ethanol'], ['Hyperacusis'], ['Cholestyramine'], ['Famvir'], ['Vomiting'], ['Chyluria'], ['Ethanol'], ['Malaria'], ['Diabetes'], ['Cromolyn'], ['Hunger'], ['Serevent'], ['Folic', 'Acid'], ['Glucagen'], ['Wheezing'], ['Ultram'], ['Psoriasis'], ['Pallor'], ['Lasix'], ['Aphonia'], ['Chyluria'], ['Meningism'], ['Drooling'], ['Hepatitis'], ['Agitation'], ['Glucophage'], ['Arthritis'], ['Clubbing'], ['Diabetes'], ['Hemoptysis'], ['Ceftiaxone'], ['Hytrin'], ['Glucophage'], ['Banana', 'Bag'], ['Carbatrol'], ['Insulin'], ['Reticulocytosis'], ['Carbatrol'], ['Prednisolone'], ['Dilantin'], ['Fish', 'Oil'], ['Fish', 'Oil'], ['Angina'], ['Ceftiaxone'], ['Ataxia'], ['Cefazolin'], ['Insulin'], ['Anosmia'], ['Mittelschmerz'], ['Aspirin'], ['Crowning'], ['Cholestasis'], ['Cholestyramine'], ['Acne'], ['Adenitis'], ['Menouria'], ['Antabuse'], ['Narcan'], ['Aspirin'], ['Glucotrol'], ['Meningitis'], ['Coumadin'], ['Osteoporosis'], ['Toprol-XR'], ['Glucagen'], ['Keflex'], ['Thrombus'], ['Meningitis'], ['Thromboembolism'], ['Arthralgia'], ['Tremor'], ['Carboplatin'], ['Heparin'], ['Insulin'], ['Stridor'], ['Coreg'], ['Infertility'], ['Phenobarbital'], ['Alcohol'], ['Spasm'], ['Loperamide'], ['Cholestyramine'], ['Snoring'], ['Septicemia'], ['Dementia'], ['Vomiting'], ['Pain'], ['Lidocaine'], ['Dyspnea'], ['Meningism'], ['Fibrillation'], ['Carsickness'], ['Clubbing'], ['Glucotrol'], ['Plavix'], ['Virilism'], ['Silvadene'], ['Prednisolone'], ['Sinemet'], ['Seizures'], ['Pancreatitis'], ['Alcohol'], ['Seizures'], ['Amiodarone'], ['Carboplatin'], ['Neuralgia'], ['Propofol'], ['Atenolol'], ['Insulin'], ['Insulin'], ['Cefaclor'], ['Prednisolone'], ['Constipation'], ['Dyspnea'], ['Plavix'], ['Lipitor'], ['Colchicine'], ['Penicillin'], ['Hematemesis'], ['Headache'], ['Dulcolax'], ['Fatigue'], ['Syncope'], ['Seizures'], ['Ethanol'], ['Iron'], ['Tremor'], ['Wellbutrin'], ['Levophed'], ['Medrol'], ['Mittelschmerz'], ['Amoxil'], ['Aloe', 'Vera'], ['Singulair'], ['Lovastatin'], ['Weakness'], ['Lasix'], ['Erythromycin'], ['Allergy', '.'], ['Ketamine'], ['Ischemias'], ['Polyuria'], ['Toothache'], ['Starvation'], ['Epilepsy'], ['Polydipsia'], ['Starvation'], ['Valproic', 'Acid'], ['Plavix'], ['Vitamin', 'B1'], ['Weakness'], ['Hemoglobinopathy'], ['Aspirin'], ['Carboplatin'], ['Meningitis'], ['Iron'], ['Macule'], ['Motrin'], ['Vicodin'], ['Robitussin'], ['Adenosine'], ['Prednisolone'], ['Opisthotonus'], ['Cefaclor'], ['Ceftiaxone'], ['Morphine'], ['Duragesic'], ['Hemiplegia'], ['Probenecid'], ['Diovan'], ['Anemia'], ['Bacitracin'], ['Vaccinia'], ['Mittelschmerz'], ['Dermatitis'], ['Actonel'], ['Tylenol'], ['Drooling'], ['Earache'], ['Scleroderma'], ['Ethanol'], ['Babesiosis'], ['Rales'], ['Atenolol'], ['Angina'], ['Hematemesis'], ['Morphine'], ['Colchicine'], ['Myopathy'], ['Loperamide'], ['Cipro'], ['Avelox'], ['Bleomycin'], ['Ceftiaxone'], ['Cefoxitin'], ['Lidocaine'], ['Infertility'], ['Tums'], ['Lethargy'], ['Cardura'], ['Polyuria'], ['Lipitor'], ['Snoring'], ['Lasix'], ['Cipro'], ['Dysentery'], ['Lisinopril'], ['Carboplatin'], ['Hematemesis'], ['Hypersomnolence'], ['Trembling'], ['Fibrillation'], ['Insulin'], ['Seizures'], ['Prostatorrhea'], ['Protamine', 'Sulfate'], ['Rales'], ['Pain'], ['Rogaine'], ['Dyspnea'], ['Amauroses'], ['Lipitor'], ['Emaciation'], ['Cardiomyopathy'], ['Nausea'], ['Cardialgia'], ['Insulin'], ['Clubbing'], ['Iron'], ['Loperamide'], ['Tylenol'], ['zoonosis'], ['Toprol-XR'], ['Cachexia'], ['Mittelschmerz'], ['Anorexia'], ['Coumadin'], ['Amoxil'], ['Diarrhea'], ['Mannitol'], ['Pyorrhea'], ['Lasix'], ['Heparin'], ['Prostatism'], ['Aspirin'], ['Gifulvin'], ['Bacitracin'], ['Goiter'], ['Syncope'], ['Polyuria'], ['Rheumatism'], ['Anovulation'], ['Serevent'], ['Histoplasmosis'], ['Diabetes'], ['Malnutrition'], ['Epilepsy'], ['Folic', 'Acid'], ['Blepharospasm'], ['Diabetes'], ['Allopurinol'], ['Protonix'], ['Weakness'], ['Lopid'], ['Paresis'], ['Synthroid'], ['Hemiballismus'], ['Synthroid'], ['Anovulation'], ['Vertigo'], ['Angina'], ['Avitaminoses'], ['Aloe', 'Vera'], ['Prozac'], ['Ataxia'], ['Fosamax'], ['Chyluria'], ['Constipation'], ['Lipitor'], ['Levophed'], ['Diarrhea'], ['Cirrhosis'], ['Tuberculosis'], ['Ethanol'], ['Narcan'], ['Morphine'], ['Aphonia'], ['Sinemet'], ['Methotrexate'], ['Headache'], ['Weakness'], ['Heartburn'], ['Streptase'], ['Cipro'], ['Narcan'], ['Tylenol'], ['Bedwetting'], ['Headache'], ['Headache'], ['Avandia'], ['Cardialgia'], ['Catch'], ['Zofran'], ['Corkscrewing'], ['Hemoptysis'], ['Xenical'], ['Motrin'], ['Influenzae'], ['Halitosis'], ['Hepatosplenomegaly'], ['Digoxin'], ['Vancocin'], ['Snoring'], ['Cipro'], ['Halitosis'], ['Iron'], ['Aphonia'], ['Arthritis'], ['Vitamin', 'K'], ['Toothache'], ['Hunger'], ['Motrin'], ['Pneumonia'], ['Medrol'], ['Ethanol'], ['Calamine'], ['Cardizem'], ['Ativan'], ['Cirrhosis'], ['Medrol'], ['Garlic'], ['Sleeplessness'], ['Prednisolone'], ['Hyperglycemia'], ['Coumadin'], ['Nitroglycerine'], ['Fibrillation'], ['Coumadin'], ['Actonel'], ['Constipation'], ['Coccidioses'], ['Underexertion'], ['Toprol-XR'], ['Cefazolin'], ['Cefoxitin'], ['Tylenol'], ['Coumadin'], ['Dysentery'], ['Hepatomegaly'], ['Hunger'], ['Serevent'], ['Glucophage'], ['Zofran'], ['Prednisolone'], ['Lipitor'], ['Nitroglycerine'], ['Blastomycoses'], ['Zofran'], ['Zetia'], ['Zocor'], ['Aphonia'], ['Cisplatin'], ['Syphilis'], ['Penicillin'], ['Toprol-XR'], ['Pyorrhea'], ['Penicillin'], ['Motrin'], ['Cyanosis'], ['Hunger'], ['Actonel'], ['Hemochromatosis'], ['Cataract'], ['Maculopapule'], ['Dyspnea'], ['Hepatomegaly'], ['Aphonia'], ['Heartburn'], ['Peritonitis'], ['Colchicine'], ['Granulocytosis'], ['Propofol'], ['Polyarthritides'], ['Snoring'], ['Echinacea'], ['Sandimmune'], ['Bleomycin'], ['Armor', 'Thyroid'], ['Urethrorrhea'], ['Synthroid'], ['Coumadin'], ['Headache'], ['Toothache'], ['Spasm'], ['Nephritis'], ['Narcan'], ['Narcan'], ['Hyperesthesia'], ['Iron'], ['Toprol-XR'], ['Meningism'], ['Xenical'], ['Osteoporosis'], ['Cardizem'], ['Mycosis'], ['Fish', 'Oil'], ['Anoxemia'], ['Cardialgia'], ['Convulsion'], ['Xanax'], ['Xenical'], ['Xenical'], ['Parasitemia'], ['Zocor'], ['Welts'], ['Ataxia'], ['Cataracts'], ['Endep'], ['Constipation'], ['Flushing'], ['Nausea'], ['Valproic', 'Acid'], ['Antabuse'], ['Starvation'], ['Medrol'], ['Arthralgia'], ['Angina'], ['Zocor'], ['Starvation'], ['comatose'], ['Amantadine'], ['Motrin'], ['Anoxemia'], ['Isosorbide'], ['Torticollis'], ['Hemoptysis'], ['Angina'], ['Tiredness'], ['Dementias'], ['Zofran'], ['Chills'], ['Underexertion'], ['Polyuria'], ['Hematemesis'], ['Lisinopril'], ['Sinemet'], ['Albumin'], ['Gonorrhea'], ['Scapulalgia'], ['Ativan'], ['Stridor'], ['Pepcid'], ['Spiriva'], ['Urolithiasis'], ['Coumadin'], ['Halitosis'], ['Proteinuria'], ['Diabetes'], ['Calamine'], ['Metatarsalgia'], ['Colchicine'], ['Arthralgia'], ['Tamiflu'], ['Ceftiaxone'], ['Lipitor'], ['Cyanosis'], ['Syncope'], ['Nitroglycerine'], ['Arthritis'], ['Atenolol'], ['Sinemet'], ['Anosmia'], ['Synthroid'], ['Emaciation'], ['Dilantin'], ['Candidiases'], ['Hyperacusis'], ['Adenosine'], ['Tylenol'], ['Metatarsalgia'], ['Tremor'], ['Snoring'], ['Cyanosis'], ['Nausea'], ['Prostatorrhea'], ['Pain'], ['Hyperglycemia'], ['Emaciation'], ['Hunger'], ['Spiriva'], ['Activase'], ['Penicillin'], ['Meningism'], ['Glucagen'], ['Calan'], ['Atenolol'], ['Vasculitis'], ['Bacitracin'], ['Osteoporosis'], ['Hyperlipidemia'], ['Blanching'], ['Prozac'], ['Protamine', 'Sulfate'], ['Earache'], ['Lasix'], ['Coumadin'], ['Sinemet'], ['Aloe', 'Vera'], ['Medrol'], ['Hypersomnolence'], ['Ketonuria'], ['Ataxia'], ['Tylenol'], ['Meningism'], ['Wellbutrin'], ['Plavix'], ['Zocor'], ['Ethanol'], ['Cortisone'], ['Constipation'], ['Prostatism'], ['Aloe', 'Vera'], ['Esmolol'], ['Vivarin'], ['Silvadene'], ['Pneumoniae'], ['Head-Face-Neck-Syndrome'], ['Insulin'], ['Mannerism'], ['Atherosclerosis'], ['Bactroban'], ['Hytrin'], ['Myopathy'], ['Cisplatin'], ['Amenorrhoea'], ['Anemia'], ['Spasm'], ['Calan'], ['Bleomycin'], ['Vermox'], ['Sinemet'], ['Bacitracin'], ['Serevent'], ['Amyloidoses'], ['Primatine'], ['Zantac'], ['Ischemia'], ['Nausea'], ['Cardiomyopathies'], ['Plague'], ['Zovirax'], ['Listeriosis'], ['Agitation'], ['Headache'], ['Actonel']]\n"
     ]
    }
   ],
   "source": [
    "data2_token2 = [word_tokenize(word) for word in data2_words2]\n",
    "\n",
    "print(data2_token2)"
   ]
  },
  {
   "cell_type": "code",
   "execution_count": 101,
   "id": "00dd621a",
   "metadata": {},
   "outputs": [
    {
     "name": "stdout",
     "output_type": "stream",
     "text": [
      "Word2Vec(vocab=290, size=100, alpha=0.025)\n"
     ]
    }
   ],
   "source": [
    "mymodel_3= Word2Vec(data2_token2, min_count=1)\n",
    "print(mymodel_3)"
   ]
  },
  {
   "cell_type": "code",
   "execution_count": 102,
   "id": "86e1997b",
   "metadata": {},
   "outputs": [
    {
     "name": "stdout",
     "output_type": "stream",
     "text": [
      "['Fibrillation', 'Dilantin', 'Tylenol', 'Hyperthyroidism', 'Nausea', 'Histoplasmosis', 'Plavix', 'Ipecac', 'Syrup', 'Insulin', 'Dyspnea', 'Incontinence', 'Ethanol', 'Hyperacusis', 'Cholestyramine', 'Famvir', 'Vomiting', 'Chyluria', 'Malaria', 'Diabetes', 'Cromolyn', 'Hunger', 'Serevent', 'Folic', 'Acid', 'Glucagen', 'Wheezing', 'Ultram', 'Psoriasis', 'Pallor', 'Lasix', 'Aphonia', 'Meningism', 'Drooling', 'Hepatitis', 'Agitation', 'Glucophage', 'Arthritis', 'Clubbing', 'Hemoptysis', 'Ceftiaxone', 'Hytrin', 'Banana', 'Bag', 'Carbatrol', 'Reticulocytosis', 'Prednisolone', 'Fish', 'Oil', 'Angina', 'Ataxia', 'Cefazolin', 'Anosmia', 'Mittelschmerz', 'Aspirin', 'Crowning', 'Cholestasis', 'Acne', 'Adenitis', 'Menouria', 'Antabuse', 'Narcan', 'Glucotrol', 'Meningitis', 'Coumadin', 'Osteoporosis', 'Toprol-XR', 'Keflex', 'Thrombus', 'Thromboembolism', 'Arthralgia', 'Tremor', 'Carboplatin', 'Heparin', 'Stridor', 'Coreg', 'Infertility', 'Phenobarbital', 'Alcohol', 'Spasm', 'Loperamide', 'Snoring', 'Septicemia', 'Dementia', 'Pain', 'Lidocaine', 'Carsickness', 'Virilism', 'Silvadene', 'Sinemet', 'Seizures', 'Pancreatitis', 'Amiodarone', 'Neuralgia', 'Propofol', 'Atenolol', 'Cefaclor', 'Constipation', 'Lipitor', 'Colchicine', 'Penicillin', 'Hematemesis', 'Headache', 'Dulcolax', 'Fatigue', 'Syncope', 'Iron', 'Wellbutrin', 'Levophed', 'Medrol', 'Amoxil', 'Aloe', 'Vera', 'Singulair', 'Lovastatin', 'Weakness', 'Erythromycin', 'Allergy', '.', 'Ketamine', 'Ischemias', 'Polyuria', 'Toothache', 'Starvation', 'Epilepsy', 'Polydipsia', 'Valproic', 'Vitamin', 'B1', 'Hemoglobinopathy', 'Macule', 'Motrin', 'Vicodin', 'Robitussin', 'Adenosine', 'Opisthotonus', 'Morphine', 'Duragesic', 'Hemiplegia', 'Probenecid', 'Diovan', 'Anemia', 'Bacitracin', 'Vaccinia', 'Dermatitis', 'Actonel', 'Earache', 'Scleroderma', 'Babesiosis', 'Rales', 'Myopathy', 'Cipro', 'Avelox', 'Bleomycin', 'Cefoxitin', 'Tums', 'Lethargy', 'Cardura', 'Dysentery', 'Lisinopril', 'Hypersomnolence', 'Trembling', 'Prostatorrhea', 'Protamine', 'Sulfate', 'Rogaine', 'Amauroses', 'Emaciation', 'Cardiomyopathy', 'Cardialgia', 'zoonosis', 'Cachexia', 'Anorexia', 'Diarrhea', 'Mannitol', 'Pyorrhea', 'Prostatism', 'Gifulvin', 'Goiter', 'Rheumatism', 'Anovulation', 'Malnutrition', 'Blepharospasm', 'Allopurinol', 'Protonix', 'Lopid', 'Paresis', 'Synthroid', 'Hemiballismus', 'Vertigo', 'Avitaminoses', 'Prozac', 'Fosamax', 'Cirrhosis', 'Tuberculosis', 'Methotrexate', 'Heartburn', 'Streptase', 'Bedwetting', 'Avandia', 'Catch', 'Zofran', 'Corkscrewing', 'Xenical', 'Influenzae', 'Halitosis', 'Hepatosplenomegaly', 'Digoxin', 'Vancocin', 'K', 'Pneumonia', 'Calamine', 'Cardizem', 'Ativan', 'Garlic', 'Sleeplessness', 'Hyperglycemia', 'Nitroglycerine', 'Coccidioses', 'Underexertion', 'Hepatomegaly', 'Blastomycoses', 'Zetia', 'Zocor', 'Cisplatin', 'Syphilis', 'Cyanosis', 'Hemochromatosis', 'Cataract', 'Maculopapule', 'Peritonitis', 'Granulocytosis', 'Polyarthritides', 'Echinacea', 'Sandimmune', 'Armor', 'Thyroid', 'Urethrorrhea', 'Nephritis', 'Hyperesthesia', 'Mycosis', 'Anoxemia', 'Convulsion', 'Xanax', 'Parasitemia', 'Welts', 'Cataracts', 'Endep', 'Flushing', 'comatose', 'Amantadine', 'Isosorbide', 'Torticollis', 'Tiredness', 'Dementias', 'Chills', 'Albumin', 'Gonorrhea', 'Scapulalgia', 'Pepcid', 'Spiriva', 'Urolithiasis', 'Proteinuria', 'Metatarsalgia', 'Tamiflu', 'Candidiases', 'Activase', 'Calan', 'Vasculitis', 'Hyperlipidemia', 'Blanching', 'Ketonuria', 'Cortisone', 'Esmolol', 'Vivarin', 'Pneumoniae', 'Head-Face-Neck-Syndrome', 'Mannerism', 'Atherosclerosis', 'Bactroban', 'Amenorrhoea', 'Vermox', 'Amyloidoses', 'Primatine', 'Zantac', 'Ischemia', 'Cardiomyopathies', 'Plague', 'Zovirax', 'Listeriosis']\n"
     ]
    }
   ],
   "source": [
    "words_3 = list(mymodel_3.wv.vocab)\n",
    "print(words_3)"
   ]
  },
  {
   "cell_type": "code",
   "execution_count": 78,
   "id": "502a92b6",
   "metadata": {},
   "outputs": [],
   "source": [
    "#Trying to find out most similar words for the words like \"glaucoma\",\"fibrillation\",\"carbatrol\",\"dilantin\",\"hyperthyroidism\",\"cardiomyopathy\" and \"septicemia\" "
   ]
  },
  {
   "cell_type": "code",
   "execution_count": null,
   "id": "fe27aac4",
   "metadata": {},
   "outputs": [],
   "source": [
    "#The vector of the above words will be compared with the vector of words from the ClinNotes, and whichever comes closer will give an output."
   ]
  },
  {
   "cell_type": "code",
   "execution_count": 103,
   "id": "28150c1a",
   "metadata": {},
   "outputs": [
    {
     "data": {
      "text/plain": [
       "[('attack', 0.9862457513809204),\n",
       " ('negative', 0.983184814453125),\n",
       " ('gain', 0.9829369783401489),\n",
       " ('above.', 0.9829050302505493),\n",
       " ('cholesterol', 0.9813812971115112),\n",
       " ('glaucoma.', 0.980632483959198),\n",
       " ('symptoms', 0.980423092842102),\n",
       " ('cyanotic', 0.9802300930023193),\n",
       " ('chills.', 0.9802271723747253),\n",
       " ('failure', 0.9802235960960388)]"
      ]
     },
     "execution_count": 103,
     "metadata": {},
     "output_type": "execute_result"
    }
   ],
   "source": [
    "mymodel.most_similar('glaucoma')"
   ]
  },
  {
   "cell_type": "code",
   "execution_count": 104,
   "id": "ea6f09f0",
   "metadata": {},
   "outputs": [
    {
     "data": {
      "text/plain": [
       "[('failure', 0.9965488910675049),\n",
       " ('congestive', 0.9942981600761414),\n",
       " ('congenital', 0.986838161945343),\n",
       " ('rheumatic', 0.9849531650543213),\n",
       " ('-pound', 0.9837476015090942),\n",
       " ('attack', 0.9836606979370117),\n",
       " ('increased.', 0.9825565218925476),\n",
       " ('white', 0.9819899201393127),\n",
       " ('arthritis.', 0.9813177585601807),\n",
       " ('failure.,3', 0.9789136648178101)]"
      ]
     },
     "execution_count": 104,
     "metadata": {},
     "output_type": "execute_result"
    }
   ],
   "source": [
    "mymodel.most_similar('fibrillation')"
   ]
  },
  {
   "cell_type": "code",
   "execution_count": 105,
   "id": "5bb30911",
   "metadata": {},
   "outputs": [
    {
     "data": {
      "text/plain": [
       "[('tablet', 0.969409704208374),\n",
       " ('phenergan', 0.9686115980148315),\n",
       " ('b.i.d', 0.9674776196479797),\n",
       " ('tablets', 0.96677565574646),\n",
       " ('atropine', 0.9663378000259399),\n",
       " ('daily.,3', 0.9658218622207642),\n",
       " ('la', 0.9651377201080322),\n",
       " ('qh', 0.9650895595550537),\n",
       " ('q.d', 0.9650436639785767),\n",
       " ('daily', 0.9647830128669739)]"
      ]
     },
     "execution_count": 105,
     "metadata": {},
     "output_type": "execute_result"
    }
   ],
   "source": [
    "mymodel.most_similar('carbatrol')"
   ]
  },
  {
   "cell_type": "code",
   "execution_count": 106,
   "id": "6b827245",
   "metadata": {},
   "outputs": [
    {
     "data": {
      "text/plain": [
       "[('doses', 0.9984338283538818),\n",
       " ('discontinued', 0.9983612895011902),\n",
       " ('started', 0.9981629848480225),\n",
       " ('nitroglycerin', 0.9981359243392944),\n",
       " ('friday', 0.9979586601257324),\n",
       " ('keppra', 0.997909665107727),\n",
       " ('acid', 0.9977120161056519),\n",
       " ('later', 0.9977063536643982),\n",
       " ('prescription', 0.9976900815963745),\n",
       " ('tylenol', 0.997543454170227)]"
      ]
     },
     "execution_count": 106,
     "metadata": {},
     "output_type": "execute_result"
    }
   ],
   "source": [
    "mymodel.most_similar('dilantin')"
   ]
  },
  {
   "cell_type": "code",
   "execution_count": 107,
   "id": "0ed79cb6",
   "metadata": {},
   "outputs": [
    {
     "data": {
      "text/plain": [
       "[('language', 0.9865998029708862),\n",
       " ('future', 0.9864064455032349),\n",
       " ('always', 0.9863561391830444),\n",
       " ('correlation', 0.9863020181655884),\n",
       " ('ha', 0.986296534538269),\n",
       " ('trouble', 0.9862573146820068),\n",
       " ('tried', 0.9862568378448486),\n",
       " ('hx', 0.9862452149391174),\n",
       " ('university', 0.9861553907394409),\n",
       " ('nose', 0.9861510396003723)]"
      ]
     },
     "execution_count": 107,
     "metadata": {},
     "output_type": "execute_result"
    }
   ],
   "source": [
    "mymodel.most_similar('hyperthyroidism')"
   ]
  },
  {
   "cell_type": "code",
   "execution_count": 108,
   "id": "5c4ba883",
   "metadata": {},
   "outputs": [
    {
     "data": {
      "text/plain": [
       "[('dementia', 0.9988489151000977),\n",
       " ('diagnosed', 0.9983612298965454),\n",
       " ('questionable', 0.998272180557251),\n",
       " ('dysphagia', 0.9980999231338501),\n",
       " ('bleed', 0.9979890584945679),\n",
       " ('disorder', 0.997829258441925),\n",
       " ('maternal', 0.9978153705596924),\n",
       " ('vertigo', 0.9977684617042542),\n",
       " ('progression', 0.9976323246955872),\n",
       " ('early', 0.9976207613945007)]"
      ]
     },
     "execution_count": 108,
     "metadata": {},
     "output_type": "execute_result"
    }
   ],
   "source": [
    "mymodel.most_similar('cardiomyopathy')"
   ]
  },
  {
   "cell_type": "code",
   "execution_count": 109,
   "id": "2e26570a",
   "metadata": {},
   "outputs": [
    {
     "data": {
      "text/plain": [
       "[('transaminases', 0.9932562112808228),\n",
       " ('tilt', 0.9929028153419495),\n",
       " ('lose', 0.9926412105560303),\n",
       " ('mucus', 0.9924490451812744),\n",
       " ('hydrocephalus', 0.9923726916313171),\n",
       " ('skills', 0.9923716187477112),\n",
       " ('visual', 0.9922685623168945),\n",
       " ('tests', 0.9921871423721313),\n",
       " ('toilet', 0.9920949339866638),\n",
       " ('looks', 0.992079496383667)]"
      ]
     },
     "execution_count": 109,
     "metadata": {},
     "output_type": "execute_result"
    }
   ],
   "source": [
    "mymodel.most_similar('septicemia')"
   ]
  },
  {
   "cell_type": "code",
   "execution_count": 110,
   "id": "3abe27d6",
   "metadata": {},
   "outputs": [],
   "source": [
    "#Separate X and Y and perform train test split, 70-30"
   ]
  },
  {
   "cell_type": "code",
   "execution_count": 111,
   "id": "a3c1ece0",
   "metadata": {},
   "outputs": [
    {
     "data": {
      "text/plain": [
       "818"
      ]
     },
     "execution_count": 111,
     "metadata": {},
     "output_type": "execute_result"
    }
   ],
   "source": [
    "len(data_notes_clean)"
   ]
  },
  {
   "cell_type": "code",
   "execution_count": 113,
   "id": "da332e3b",
   "metadata": {},
   "outputs": [],
   "source": [
    "X = word_list\n",
    "y = NLP_clin_note.category"
   ]
  },
  {
   "cell_type": "code",
   "execution_count": 103,
   "id": "66b7ead6",
   "metadata": {},
   "outputs": [],
   "source": [
    "#train-test split"
   ]
  },
  {
   "cell_type": "code",
   "execution_count": 114,
   "id": "065d8a3a",
   "metadata": {},
   "outputs": [],
   "source": [
    "from sklearn.model_selection import train_test_split\n",
    "X_train, X_test, y_train, y_test = train_test_split(X, y, test_size = 0.30, random_state=42)"
   ]
  },
  {
   "cell_type": "code",
   "execution_count": 115,
   "id": "6668c5a9",
   "metadata": {},
   "outputs": [],
   "source": [
    "#term matrix using TfIdf"
   ]
  },
  {
   "cell_type": "code",
   "execution_count": 116,
   "id": "3faa3961",
   "metadata": {},
   "outputs": [],
   "source": [
    "from sklearn.feature_extraction.text import TfidfVectorizer"
   ]
  },
  {
   "cell_type": "code",
   "execution_count": 117,
   "id": "164d0194",
   "metadata": {},
   "outputs": [],
   "source": [
    "DTM = TfidfVectorizer(max_features = 4000)"
   ]
  },
  {
   "cell_type": "code",
   "execution_count": 118,
   "id": "b93bd413",
   "metadata": {},
   "outputs": [
    {
     "data": {
      "text/plain": [
       "(572, 246)"
      ]
     },
     "execution_count": 118,
     "metadata": {},
     "output_type": "execute_result"
    }
   ],
   "source": [
    "len(X_train), len(X_test)"
   ]
  },
  {
   "cell_type": "code",
   "execution_count": 121,
   "id": "bf011a48",
   "metadata": {},
   "outputs": [],
   "source": [
    "#term matrix using bag of words"
   ]
  },
  {
   "cell_type": "code",
   "execution_count": 122,
   "id": "acf36a91",
   "metadata": {},
   "outputs": [],
   "source": [
    "X_train_bagofwords = DTM.fit_transform(X_train)"
   ]
  },
  {
   "cell_type": "code",
   "execution_count": 123,
   "id": "ca178c44",
   "metadata": {},
   "outputs": [],
   "source": [
    "X_test_bagofwords = DTM.transform(X_test)"
   ]
  },
  {
   "cell_type": "code",
   "execution_count": 124,
   "id": "5c33399c",
   "metadata": {},
   "outputs": [
    {
     "data": {
      "text/plain": [
       "((572, 4000), (246, 4000))"
      ]
     },
     "execution_count": 124,
     "metadata": {},
     "output_type": "execute_result"
    }
   ],
   "source": [
    "X_train_bagofwords.shape, X_test_bagofwords.shape"
   ]
  },
  {
   "cell_type": "code",
   "execution_count": 125,
   "id": "2ba14eee",
   "metadata": {},
   "outputs": [],
   "source": [
    "#Model Building"
   ]
  },
  {
   "cell_type": "code",
   "execution_count": 126,
   "id": "6ef06cfc",
   "metadata": {},
   "outputs": [],
   "source": [
    "from sklearn import svm"
   ]
  },
  {
   "cell_type": "code",
   "execution_count": 127,
   "id": "4719b161",
   "metadata": {},
   "outputs": [],
   "source": [
    "classifier_linear = svm.SVC(kernel='linear')"
   ]
  },
  {
   "cell_type": "code",
   "execution_count": 129,
   "id": "c4310a36",
   "metadata": {},
   "outputs": [
    {
     "data": {
      "text/plain": [
       "SVC(kernel='linear')"
      ]
     },
     "execution_count": 129,
     "metadata": {},
     "output_type": "execute_result"
    }
   ],
   "source": [
    "classifier_linear.fit(X_train_bagofwords, y_train)"
   ]
  },
  {
   "cell_type": "code",
   "execution_count": 130,
   "id": "5ce2980c",
   "metadata": {},
   "outputs": [],
   "source": [
    "y_train_prediction = classifier_linear.predict(X_train_bagofwords)"
   ]
  },
  {
   "cell_type": "code",
   "execution_count": 131,
   "id": "5dea4156",
   "metadata": {},
   "outputs": [
    {
     "data": {
      "text/plain": [
       "array(['Neurology', 'Cardiovascular / Pulmonary', 'Gastroenterology',\n",
       "       'Neurology', 'Cardiovascular / Pulmonary', 'Gastroenterology',\n",
       "       'Gastroenterology', 'Cardiovascular / Pulmonary'], dtype=object)"
      ]
     },
     "execution_count": 131,
     "metadata": {},
     "output_type": "execute_result"
    }
   ],
   "source": [
    "y_train_prediction[:8]"
   ]
  },
  {
   "cell_type": "code",
   "execution_count": 132,
   "id": "a7325b20",
   "metadata": {},
   "outputs": [],
   "source": [
    "from sklearn.metrics import classification_report"
   ]
  },
  {
   "cell_type": "code",
   "execution_count": 133,
   "id": "d933dbc8",
   "metadata": {},
   "outputs": [
    {
     "name": "stdout",
     "output_type": "stream",
     "text": [
      "                            precision    recall  f1-score   support\n",
      "\n",
      "Cardiovascular / Pulmonary       0.99      0.99      0.99       264\n",
      "          Gastroenterology       0.99      1.00      1.00       155\n",
      "                 Neurology       0.99      0.98      0.99       153\n",
      "\n",
      "                  accuracy                           0.99       572\n",
      "                 macro avg       0.99      0.99      0.99       572\n",
      "              weighted avg       0.99      0.99      0.99       572\n",
      "\n"
     ]
    }
   ],
   "source": [
    "print(classification_report(y_train, y_train_prediction))"
   ]
  },
  {
   "cell_type": "code",
   "execution_count": 134,
   "id": "9be2080f",
   "metadata": {},
   "outputs": [],
   "source": [
    "#Adjusting the class weights to improve the recall for the label"
   ]
  },
  {
   "cell_type": "code",
   "execution_count": 135,
   "id": "3003506d",
   "metadata": {},
   "outputs": [],
   "source": [
    "classifier_linear = svm.SVC(kernel='linear', class_weight=\"balanced\")"
   ]
  },
  {
   "cell_type": "code",
   "execution_count": 136,
   "id": "a338c426",
   "metadata": {},
   "outputs": [
    {
     "data": {
      "text/plain": [
       "SVC(class_weight='balanced', kernel='linear')"
      ]
     },
     "execution_count": 136,
     "metadata": {},
     "output_type": "execute_result"
    }
   ],
   "source": [
    "classifier_linear.fit(X_train_bagofwords, y_train)"
   ]
  },
  {
   "cell_type": "code",
   "execution_count": 137,
   "id": "b9e2d2f1",
   "metadata": {},
   "outputs": [],
   "source": [
    "y_train_prediction = classifier_linear.predict(X_train_bagofwords)"
   ]
  },
  {
   "cell_type": "code",
   "execution_count": 138,
   "id": "d70c5cf8",
   "metadata": {},
   "outputs": [
    {
     "name": "stdout",
     "output_type": "stream",
     "text": [
      "                            precision    recall  f1-score   support\n",
      "\n",
      "Cardiovascular / Pulmonary       1.00      0.99      0.99       264\n",
      "          Gastroenterology       0.99      1.00      0.99       155\n",
      "                 Neurology       0.99      0.99      0.99       153\n",
      "\n",
      "                  accuracy                           0.99       572\n",
      "                 macro avg       0.99      0.99      0.99       572\n",
      "              weighted avg       0.99      0.99      0.99       572\n",
      "\n"
     ]
    }
   ],
   "source": [
    "print(classification_report(y_train, y_train_prediction))"
   ]
  },
  {
   "cell_type": "code",
   "execution_count": 139,
   "id": "920f8eae",
   "metadata": {},
   "outputs": [],
   "source": [
    "#improved result"
   ]
  },
  {
   "cell_type": "code",
   "execution_count": 140,
   "id": "ad89c43b",
   "metadata": {},
   "outputs": [],
   "source": [
    "#Apply the Hyper parameter tuning\n",
    "#\"class_weights\" a hyperparameters for tuneing the SVM.\n",
    "#Identify hyper-parameters for the SVM classifier"
   ]
  },
  {
   "cell_type": "code",
   "execution_count": 141,
   "id": "4b5a2263",
   "metadata": {},
   "outputs": [],
   "source": [
    "from sklearn.model_selection import GridSearchCV, StratifiedKFold"
   ]
  },
  {
   "cell_type": "code",
   "execution_count": 142,
   "id": "54c1718b",
   "metadata": {},
   "outputs": [],
   "source": [
    "# Grid search and random search \n",
    "param_grid = {\n",
    "    'C': [0.1, 1, 10,1000, 10000, 100000]\n",
    "}"
   ]
  },
  {
   "cell_type": "code",
   "execution_count": 143,
   "id": "6cc7794b",
   "metadata": {},
   "outputs": [],
   "source": [
    "classifier_svm = svm.SVC(random_state=40, class_weight=\"balanced\", kernel=\"linear\")"
   ]
  },
  {
   "cell_type": "code",
   "execution_count": 144,
   "id": "356839e0",
   "metadata": {},
   "outputs": [],
   "source": [
    "# Invoke the grid search model\n",
    "Grid_Search = GridSearchCV(estimator = classifier_svm, param_grid = param_grid, \n",
    "                          cv = StratifiedKFold(5), n_jobs = -1, verbose = 1, scoring = \"recall\" )"
   ]
  },
  {
   "cell_type": "code",
   "execution_count": 145,
   "id": "418fb451",
   "metadata": {},
   "outputs": [
    {
     "name": "stdout",
     "output_type": "stream",
     "text": [
      "Fitting 5 folds for each of 6 candidates, totalling 30 fits\n"
     ]
    },
    {
     "data": {
      "text/plain": [
       "GridSearchCV(cv=StratifiedKFold(n_splits=5, random_state=None, shuffle=False),\n",
       "             estimator=SVC(class_weight='balanced', kernel='linear',\n",
       "                           random_state=40),\n",
       "             n_jobs=-1, param_grid={'C': [0.1, 1, 10, 1000, 10000, 100000]},\n",
       "             scoring='recall', verbose=1)"
      ]
     },
     "execution_count": 145,
     "metadata": {},
     "output_type": "execute_result"
    }
   ],
   "source": [
    "Grid_Search.fit(X_train_bagofwords, y_train)"
   ]
  },
  {
   "cell_type": "code",
   "execution_count": 146,
   "id": "d151ea21",
   "metadata": {},
   "outputs": [
    {
     "data": {
      "text/plain": [
       "SVC(C=0.1, class_weight='balanced', kernel='linear', random_state=40)"
      ]
     },
     "execution_count": 146,
     "metadata": {},
     "output_type": "execute_result"
    }
   ],
   "source": [
    "Grid_Search.best_estimator_"
   ]
  },
  {
   "cell_type": "code",
   "execution_count": 147,
   "id": "c9fd3b87",
   "metadata": {},
   "outputs": [],
   "source": [
    "y_train_prediction = Grid_Search.best_estimator_.predict(X_train_bagofwords)"
   ]
  },
  {
   "cell_type": "code",
   "execution_count": 148,
   "id": "b9cff873",
   "metadata": {},
   "outputs": [
    {
     "name": "stdout",
     "output_type": "stream",
     "text": [
      "                            precision    recall  f1-score   support\n",
      "\n",
      "Cardiovascular / Pulmonary       0.97      0.97      0.97       264\n",
      "          Gastroenterology       0.97      0.97      0.97       155\n",
      "                 Neurology       0.96      0.95      0.96       153\n",
      "\n",
      "                  accuracy                           0.97       572\n",
      "                 macro avg       0.97      0.97      0.97       572\n",
      "              weighted avg       0.97      0.97      0.97       572\n",
      "\n"
     ]
    }
   ],
   "source": [
    "print(classification_report(y_train, y_train_prediction))"
   ]
  },
  {
   "cell_type": "code",
   "execution_count": 149,
   "id": "ece578ec",
   "metadata": {},
   "outputs": [],
   "source": [
    "#Most prominent terms in the category"
   ]
  },
  {
   "cell_type": "code",
   "execution_count": 150,
   "id": "6ffca7b9",
   "metadata": {},
   "outputs": [],
   "source": [
    "y_train_prediction = Grid_Search.best_estimator_.predict(X_test_bagofwords)"
   ]
  },
  {
   "cell_type": "code",
   "execution_count": 151,
   "id": "b8d81922",
   "metadata": {},
   "outputs": [],
   "source": [
    "Category_notes_Neurology = pd.Series(X_test)[y_train_prediction=='Neurology'].values"
   ]
  },
  {
   "cell_type": "code",
   "execution_count": 152,
   "id": "c1e7ae72",
   "metadata": {},
   "outputs": [],
   "source": [
    "word_list_1= []\n",
    "for word in Category_notes_Neurology:\n",
    "    word_list_1.extend(word_tokenize(word))"
   ]
  },
  {
   "cell_type": "code",
   "execution_count": 153,
   "id": "16a58ee2",
   "metadata": {},
   "outputs": [],
   "source": [
    "cts_Neurology = Counter(word_list_1)"
   ]
  },
  {
   "cell_type": "code",
   "execution_count": 154,
   "id": "ecd27741",
   "metadata": {},
   "outputs": [
    {
     "data": {
      "text/plain": [
       "[('.', 925),\n",
       " ('patient', 214),\n",
       " ('right', 183),\n",
       " ('normal', 175),\n",
       " ('left', 174),\n",
       " ('history', 167),\n",
       " ('unremarkable', 100),\n",
       " ('pain', 100),\n",
       " ('exam', 90),\n",
       " ('also', 80)]"
      ]
     },
     "execution_count": 154,
     "metadata": {},
     "output_type": "execute_result"
    }
   ],
   "source": [
    "cts_Neurology.most_common(10)"
   ]
  },
  {
   "cell_type": "code",
   "execution_count": 155,
   "id": "d50fca70",
   "metadata": {},
   "outputs": [],
   "source": [
    "Category_notes_Cardiovascular = pd.Series(X_test)[y_train_prediction=='Cardiovascular / Pulmonary'].values"
   ]
  },
  {
   "cell_type": "code",
   "execution_count": 156,
   "id": "8b485701",
   "metadata": {},
   "outputs": [],
   "source": [
    "word_list_2= []\n",
    "for word in Category_notes_Cardiovascular:\n",
    "    word_list_2.extend(word_tokenize(word))"
   ]
  },
  {
   "cell_type": "code",
   "execution_count": 157,
   "id": "81305ee6",
   "metadata": {},
   "outputs": [],
   "source": [
    "cts_Cardiovascular= Counter(word_list_2)"
   ]
  },
  {
   "cell_type": "code",
   "execution_count": 158,
   "id": "be25a466",
   "metadata": {},
   "outputs": [
    {
     "data": {
      "text/plain": [
       "[('.', 894),\n",
       " ('patient', 469),\n",
       " ('left', 337),\n",
       " ('right', 275),\n",
       " ('artery', 230),\n",
       " ('history', 205),\n",
       " ('mg', 190),\n",
       " ('coronary', 183),\n",
       " ('procedure', 179),\n",
       " ('chest', 161)]"
      ]
     },
     "execution_count": 158,
     "metadata": {},
     "output_type": "execute_result"
    }
   ],
   "source": [
    "cts_Cardiovascular.most_common(10)"
   ]
  },
  {
   "cell_type": "code",
   "execution_count": 159,
   "id": "c55128f8",
   "metadata": {},
   "outputs": [],
   "source": [
    "Category_notes_Gastroenterology=pd.Series(X_test)[y_train_prediction=='Gastroenterology'].values"
   ]
  },
  {
   "cell_type": "code",
   "execution_count": 160,
   "id": "0a72d772",
   "metadata": {},
   "outputs": [],
   "source": [
    "word_list_3= []\n",
    "for word in Category_notes_Gastroenterology :\n",
    "    word_list_3.extend(word_tokenize(word))"
   ]
  },
  {
   "cell_type": "code",
   "execution_count": 161,
   "id": "6b8d8872",
   "metadata": {},
   "outputs": [],
   "source": [
    "cts_Gastroenterology= Counter(word_list_3)"
   ]
  },
  {
   "cell_type": "code",
   "execution_count": 162,
   "id": "1e63d42c",
   "metadata": {
    "scrolled": true
   },
   "outputs": [
    {
     "data": {
      "text/plain": [
       "[('.', 415),\n",
       " ('patient', 248),\n",
       " ('procedure', 167),\n",
       " ('placed', 112),\n",
       " ('history', 95),\n",
       " ('well', 75),\n",
       " ('colon', 72),\n",
       " ('abdomen', 70),\n",
       " ('normal', 70),\n",
       " ('stomach', 66)]"
      ]
     },
     "execution_count": 162,
     "metadata": {},
     "output_type": "execute_result"
    }
   ],
   "source": [
    "cts_Gastroenterology.most_common(10)"
   ]
  },
  {
   "cell_type": "code",
   "execution_count": null,
   "id": "0ff59aaa",
   "metadata": {},
   "outputs": [],
   "source": []
  }
 ],
 "metadata": {
  "kernelspec": {
   "display_name": "Python 3",
   "language": "python",
   "name": "python3"
  },
  "language_info": {
   "codemirror_mode": {
    "name": "ipython",
    "version": 3
   },
   "file_extension": ".py",
   "mimetype": "text/x-python",
   "name": "python",
   "nbconvert_exporter": "python",
   "pygments_lexer": "ipython3",
   "version": "3.8.8"
  }
 },
 "nbformat": 4,
 "nbformat_minor": 5
}
